{
  "cells": [
    {
      "cell_type": "markdown",
      "metadata": {
        "id": "wKhfqPcTQLNS"
      },
      "source": [
        "#***Codon usage machine learning project***\n",
        "##Made by\n",
        "###Juan José Aguado\n",
        "###Emmanuel Collazos\n",
        "###Santiago Peña"
      ]
    },
    {
      "cell_type": "markdown",
      "metadata": {
        "id": "rpZq1Y-tjL15"
      },
      "source": [
        "##Librerías"
      ]
    },
    {
      "cell_type": "code",
      "execution_count": null,
      "metadata": {
        "id": "dlFh4k53SQey",
        "colab": {
          "base_uri": "https://localhost:8080/"
        },
        "outputId": "24ee9c03-ff64-4a0f-f6f9-3479f08093f6"
      },
      "outputs": [
        {
          "output_type": "stream",
          "name": "stdout",
          "text": [
            "Collecting scikeras\n",
            "  Downloading scikeras-0.12.0-py3-none-any.whl (27 kB)\n",
            "Requirement already satisfied: packaging>=0.21 in /usr/local/lib/python3.10/dist-packages (from scikeras) (23.2)\n",
            "Requirement already satisfied: scikit-learn>=1.0.0 in /usr/local/lib/python3.10/dist-packages (from scikeras) (1.2.2)\n",
            "Requirement already satisfied: numpy>=1.17.3 in /usr/local/lib/python3.10/dist-packages (from scikit-learn>=1.0.0->scikeras) (1.23.5)\n",
            "Requirement already satisfied: scipy>=1.3.2 in /usr/local/lib/python3.10/dist-packages (from scikit-learn>=1.0.0->scikeras) (1.11.3)\n",
            "Requirement already satisfied: joblib>=1.1.1 in /usr/local/lib/python3.10/dist-packages (from scikit-learn>=1.0.0->scikeras) (1.3.2)\n",
            "Requirement already satisfied: threadpoolctl>=2.0.0 in /usr/local/lib/python3.10/dist-packages (from scikit-learn>=1.0.0->scikeras) (3.2.0)\n",
            "Installing collected packages: scikeras\n",
            "Successfully installed scikeras-0.12.0\n"
          ]
        }
      ],
      "source": [
        "import numpy as np\n",
        "import pandas as pd\n",
        "import seaborn as sns\n",
        "import matplotlib.pyplot as plt\n",
        "from sklearn.preprocessing import LabelEncoder, StandardScaler\n",
        "from sklearn.model_selection import train_test_split\n",
        "from sklearn.cluster import KMeans\n",
        "from sklearn.tree import DecisionTreeClassifier\n",
        "import tensorflow as tf\n",
        "from tensorflow import keras\n",
        "from keras.models import Sequential\n",
        "from keras.layers import Dense, InputLayer\n",
        "from sklearn.metrics import accuracy_score, confusion_matrix, precision_score, recall_score, f1_score, r2_score, mean_squared_error, classification_report\n",
        "from sklearn.model_selection import GridSearchCV\n",
        "from sklearn.ensemble import RandomForestClassifier\n",
        "from sklearn.neighbors import KNeighborsClassifier\n",
        "from keras.src.layers.merging.maximum import maximum\n",
        "from sklearn.linear_model import LogisticRegression\n",
        "from sklearn.naive_bayes import GaussianNB\n",
        "try:\n",
        "    import scikeras\n",
        "except ImportError:\n",
        "    !python -m pip install scikeras\n",
        "from scikeras.wrappers import KerasClassifier\n",
        "from scipy.stats import reciprocal\n",
        "from sklearn.model_selection import RandomizedSearchCV\n",
        "from keras.callbacks import EarlyStopping\n",
        "import matplotlib.pyplot as plt\n",
        "from sklearn.metrics import silhouette_score"
      ]
    },
    {
      "cell_type": "markdown",
      "metadata": {
        "id": "3Q5qHT6knHoQ"
      },
      "source": [
        "##Preprocesamiento"
      ]
    },
    {
      "cell_type": "code",
      "execution_count": null,
      "metadata": {
        "colab": {
          "base_uri": "https://localhost:8080/"
        },
        "id": "5KH_GPY2SoLO",
        "outputId": "f7fc42f4-8483-403a-fb37-0543c2a10bc8"
      },
      "outputs": [
        {
          "output_type": "stream",
          "name": "stderr",
          "text": [
            "<ipython-input-2-81378b8ffc7b>:1: DtypeWarning: Columns (5,6) have mixed types. Specify dtype option on import or set low_memory=False.\n",
            "  dataset = pd.read_csv('/content/codon_usage.csv')\n"
          ]
        }
      ],
      "source": [
        "dataset = pd.read_csv('/content/codon_usage.csv')\n",
        "#print(dataset)"
      ]
    },
    {
      "cell_type": "code",
      "execution_count": null,
      "metadata": {
        "id": "lmLNyaUaSzyA",
        "colab": {
          "base_uri": "https://localhost:8080/"
        },
        "outputId": "04d9ef6a-735e-47cf-d939-43bba083a058"
      },
      "outputs": [
        {
          "output_type": "stream",
          "name": "stdout",
          "text": [
            "<class 'pandas.core.frame.DataFrame'>\n",
            "RangeIndex: 13028 entries, 0 to 13027\n",
            "Data columns (total 69 columns):\n",
            " #   Column       Non-Null Count  Dtype  \n",
            "---  ------       --------------  -----  \n",
            " 0   Kingdom      13028 non-null  object \n",
            " 1   DNAtype      13028 non-null  int64  \n",
            " 2   SpeciesID    13028 non-null  int64  \n",
            " 3   Ncodons      13028 non-null  int64  \n",
            " 4   SpeciesName  13028 non-null  object \n",
            " 5   UUU          13028 non-null  object \n",
            " 6   UUC          13028 non-null  object \n",
            " 7   UUA          13028 non-null  float64\n",
            " 8   UUG          13028 non-null  float64\n",
            " 9   CUU          13028 non-null  float64\n",
            " 10  CUC          13028 non-null  float64\n",
            " 11  CUA          13028 non-null  float64\n",
            " 12  CUG          13028 non-null  float64\n",
            " 13  AUU          13028 non-null  float64\n",
            " 14  AUC          13028 non-null  float64\n",
            " 15  AUA          13028 non-null  float64\n",
            " 16  AUG          13028 non-null  float64\n",
            " 17  GUU          13028 non-null  float64\n",
            " 18  GUC          13028 non-null  float64\n",
            " 19  GUA          13028 non-null  float64\n",
            " 20  GUG          13028 non-null  float64\n",
            " 21  GCU          13028 non-null  float64\n",
            " 22  GCC          13028 non-null  float64\n",
            " 23  GCA          13028 non-null  float64\n",
            " 24  GCG          13028 non-null  float64\n",
            " 25  CCU          13028 non-null  float64\n",
            " 26  CCC          13028 non-null  float64\n",
            " 27  CCA          13028 non-null  float64\n",
            " 28  CCG          13028 non-null  float64\n",
            " 29  UGG          13028 non-null  float64\n",
            " 30  GGU          13028 non-null  float64\n",
            " 31  GGC          13028 non-null  float64\n",
            " 32  GGA          13028 non-null  float64\n",
            " 33  GGG          13028 non-null  float64\n",
            " 34  UCU          13028 non-null  float64\n",
            " 35  UCC          13028 non-null  float64\n",
            " 36  UCA          13028 non-null  float64\n",
            " 37  UCG          13028 non-null  float64\n",
            " 38  AGU          13028 non-null  float64\n",
            " 39  AGC          13028 non-null  float64\n",
            " 40  ACU          13028 non-null  float64\n",
            " 41  ACC          13028 non-null  float64\n",
            " 42  ACA          13028 non-null  float64\n",
            " 43  ACG          13028 non-null  float64\n",
            " 44  UAU          13028 non-null  float64\n",
            " 45  UAC          13028 non-null  float64\n",
            " 46  CAA          13028 non-null  float64\n",
            " 47  CAG          13028 non-null  float64\n",
            " 48  AAU          13028 non-null  float64\n",
            " 49  AAC          13028 non-null  float64\n",
            " 50  UGU          13028 non-null  float64\n",
            " 51  UGC          13028 non-null  float64\n",
            " 52  CAU          13028 non-null  float64\n",
            " 53  CAC          13028 non-null  float64\n",
            " 54  AAA          13028 non-null  float64\n",
            " 55  AAG          13028 non-null  float64\n",
            " 56  CGU          13028 non-null  float64\n",
            " 57  CGC          13028 non-null  float64\n",
            " 58  CGA          13028 non-null  float64\n",
            " 59  CGG          13028 non-null  float64\n",
            " 60  AGA          13028 non-null  float64\n",
            " 61  AGG          13028 non-null  float64\n",
            " 62  GAU          13028 non-null  float64\n",
            " 63  GAC          13028 non-null  float64\n",
            " 64  GAA          13028 non-null  float64\n",
            " 65  GAG          13028 non-null  float64\n",
            " 66  UAA          13028 non-null  float64\n",
            " 67  UAG          13028 non-null  float64\n",
            " 68  UGA          13028 non-null  float64\n",
            "dtypes: float64(62), int64(3), object(4)\n",
            "memory usage: 6.9+ MB\n"
          ]
        }
      ],
      "source": [
        "dataset.info()"
      ]
    },
    {
      "cell_type": "code",
      "execution_count": null,
      "metadata": {
        "id": "Rv7702k1S2W5"
      },
      "outputs": [],
      "source": [
        "#dataset[\"Kingdom\"].value_counts()"
      ]
    },
    {
      "cell_type": "code",
      "execution_count": null,
      "metadata": {
        "id": "kdRuIJTmS7Il",
        "colab": {
          "base_uri": "https://localhost:8080/",
          "height": 349
        },
        "outputId": "b5ec9408-0611-499b-dc0c-e461accdc423"
      },
      "outputs": [
        {
          "output_type": "execute_result",
          "data": {
            "text/plain": [
              "            DNAtype      SpeciesID       Ncodons           UUA           UUG  \\\n",
              "count  13028.000000   13028.000000  1.302800e+04  13028.000000  13028.000000   \n",
              "mean       0.367209  130451.105926  7.960576e+04      0.020637      0.014104   \n",
              "std        0.688726  124787.086107  7.197010e+05      0.020709      0.009280   \n",
              "min        0.000000       7.000000  1.000000e+03      0.000000      0.000000   \n",
              "25%        0.000000   28850.750000  1.602000e+03      0.005610      0.007108   \n",
              "50%        0.000000   81971.500000  2.927500e+03      0.015260      0.013360   \n",
              "75%        1.000000  222891.250000  9.120000e+03      0.029485      0.019810   \n",
              "max       12.000000  465364.000000  4.066258e+07      0.151330      0.101190   \n",
              "\n",
              "                CUU           CUC           CUA           CUG           AUU  \\\n",
              "count  13028.000000  13028.000000  13028.000000  13028.000000  13028.000000   \n",
              "mean       0.017820      0.018288      0.019044      0.018450      0.028352   \n",
              "std        0.010586      0.014572      0.024250      0.016578      0.017507   \n",
              "min        0.000000      0.000000      0.000000      0.000000      0.000000   \n",
              "25%        0.010890      0.007830      0.005307      0.007180      0.016360   \n",
              "50%        0.016130      0.014560      0.009685      0.012800      0.025475   \n",
              "75%        0.022730      0.025112      0.017245      0.024315      0.038113   \n",
              "max        0.089780      0.100350      0.163920      0.107370      0.154060   \n",
              "\n",
              "       ...           CGG           AGA           AGG           GAU  \\\n",
              "count  ...  13028.000000  13028.000000  13028.000000  13028.000000   \n",
              "mean   ...      0.005454      0.009929      0.006422      0.024178   \n",
              "std    ...      0.006605      0.008574      0.006387      0.013828   \n",
              "min    ...      0.000000      0.000000      0.000000      0.000000   \n",
              "25%    ...      0.001220      0.001690      0.001170      0.012380   \n",
              "50%    ...      0.003530      0.009270      0.004545      0.025420   \n",
              "75%    ...      0.007150      0.015922      0.010250      0.034190   \n",
              "max    ...      0.055540      0.098830      0.058430      0.185660   \n",
              "\n",
              "                GAC           GAA           GAG           UAA           UAG  \\\n",
              "count  13028.000000  13028.000000  13028.000000  13028.000000  13028.000000   \n",
              "mean       0.021164      0.028290      0.021683      0.001645      0.000592   \n",
              "std        0.013041      0.014342      0.015018      0.001834      0.000907   \n",
              "min        0.000000      0.000000      0.000000      0.000000      0.000000   \n",
              "25%        0.011860      0.017360      0.009710      0.000560      0.000000   \n",
              "50%        0.019070      0.026085      0.020540      0.001380      0.000420   \n",
              "75%        0.027690      0.036800      0.031122      0.002370      0.000830   \n",
              "max        0.113840      0.144890      0.158550      0.045200      0.025610   \n",
              "\n",
              "                UGA  \n",
              "count  13028.000000  \n",
              "mean       0.006178  \n",
              "std        0.010344  \n",
              "min        0.000000  \n",
              "25%        0.000410  \n",
              "50%        0.001130  \n",
              "75%        0.002890  \n",
              "max        0.106700  \n",
              "\n",
              "[8 rows x 65 columns]"
            ],
            "text/html": [
              "\n",
              "  <div id=\"df-6dff243e-20db-4a56-ae83-8e7f1794067e\" class=\"colab-df-container\">\n",
              "    <div>\n",
              "<style scoped>\n",
              "    .dataframe tbody tr th:only-of-type {\n",
              "        vertical-align: middle;\n",
              "    }\n",
              "\n",
              "    .dataframe tbody tr th {\n",
              "        vertical-align: top;\n",
              "    }\n",
              "\n",
              "    .dataframe thead th {\n",
              "        text-align: right;\n",
              "    }\n",
              "</style>\n",
              "<table border=\"1\" class=\"dataframe\">\n",
              "  <thead>\n",
              "    <tr style=\"text-align: right;\">\n",
              "      <th></th>\n",
              "      <th>DNAtype</th>\n",
              "      <th>SpeciesID</th>\n",
              "      <th>Ncodons</th>\n",
              "      <th>UUA</th>\n",
              "      <th>UUG</th>\n",
              "      <th>CUU</th>\n",
              "      <th>CUC</th>\n",
              "      <th>CUA</th>\n",
              "      <th>CUG</th>\n",
              "      <th>AUU</th>\n",
              "      <th>...</th>\n",
              "      <th>CGG</th>\n",
              "      <th>AGA</th>\n",
              "      <th>AGG</th>\n",
              "      <th>GAU</th>\n",
              "      <th>GAC</th>\n",
              "      <th>GAA</th>\n",
              "      <th>GAG</th>\n",
              "      <th>UAA</th>\n",
              "      <th>UAG</th>\n",
              "      <th>UGA</th>\n",
              "    </tr>\n",
              "  </thead>\n",
              "  <tbody>\n",
              "    <tr>\n",
              "      <th>count</th>\n",
              "      <td>13028.000000</td>\n",
              "      <td>13028.000000</td>\n",
              "      <td>1.302800e+04</td>\n",
              "      <td>13028.000000</td>\n",
              "      <td>13028.000000</td>\n",
              "      <td>13028.000000</td>\n",
              "      <td>13028.000000</td>\n",
              "      <td>13028.000000</td>\n",
              "      <td>13028.000000</td>\n",
              "      <td>13028.000000</td>\n",
              "      <td>...</td>\n",
              "      <td>13028.000000</td>\n",
              "      <td>13028.000000</td>\n",
              "      <td>13028.000000</td>\n",
              "      <td>13028.000000</td>\n",
              "      <td>13028.000000</td>\n",
              "      <td>13028.000000</td>\n",
              "      <td>13028.000000</td>\n",
              "      <td>13028.000000</td>\n",
              "      <td>13028.000000</td>\n",
              "      <td>13028.000000</td>\n",
              "    </tr>\n",
              "    <tr>\n",
              "      <th>mean</th>\n",
              "      <td>0.367209</td>\n",
              "      <td>130451.105926</td>\n",
              "      <td>7.960576e+04</td>\n",
              "      <td>0.020637</td>\n",
              "      <td>0.014104</td>\n",
              "      <td>0.017820</td>\n",
              "      <td>0.018288</td>\n",
              "      <td>0.019044</td>\n",
              "      <td>0.018450</td>\n",
              "      <td>0.028352</td>\n",
              "      <td>...</td>\n",
              "      <td>0.005454</td>\n",
              "      <td>0.009929</td>\n",
              "      <td>0.006422</td>\n",
              "      <td>0.024178</td>\n",
              "      <td>0.021164</td>\n",
              "      <td>0.028290</td>\n",
              "      <td>0.021683</td>\n",
              "      <td>0.001645</td>\n",
              "      <td>0.000592</td>\n",
              "      <td>0.006178</td>\n",
              "    </tr>\n",
              "    <tr>\n",
              "      <th>std</th>\n",
              "      <td>0.688726</td>\n",
              "      <td>124787.086107</td>\n",
              "      <td>7.197010e+05</td>\n",
              "      <td>0.020709</td>\n",
              "      <td>0.009280</td>\n",
              "      <td>0.010586</td>\n",
              "      <td>0.014572</td>\n",
              "      <td>0.024250</td>\n",
              "      <td>0.016578</td>\n",
              "      <td>0.017507</td>\n",
              "      <td>...</td>\n",
              "      <td>0.006605</td>\n",
              "      <td>0.008574</td>\n",
              "      <td>0.006387</td>\n",
              "      <td>0.013828</td>\n",
              "      <td>0.013041</td>\n",
              "      <td>0.014342</td>\n",
              "      <td>0.015018</td>\n",
              "      <td>0.001834</td>\n",
              "      <td>0.000907</td>\n",
              "      <td>0.010344</td>\n",
              "    </tr>\n",
              "    <tr>\n",
              "      <th>min</th>\n",
              "      <td>0.000000</td>\n",
              "      <td>7.000000</td>\n",
              "      <td>1.000000e+03</td>\n",
              "      <td>0.000000</td>\n",
              "      <td>0.000000</td>\n",
              "      <td>0.000000</td>\n",
              "      <td>0.000000</td>\n",
              "      <td>0.000000</td>\n",
              "      <td>0.000000</td>\n",
              "      <td>0.000000</td>\n",
              "      <td>...</td>\n",
              "      <td>0.000000</td>\n",
              "      <td>0.000000</td>\n",
              "      <td>0.000000</td>\n",
              "      <td>0.000000</td>\n",
              "      <td>0.000000</td>\n",
              "      <td>0.000000</td>\n",
              "      <td>0.000000</td>\n",
              "      <td>0.000000</td>\n",
              "      <td>0.000000</td>\n",
              "      <td>0.000000</td>\n",
              "    </tr>\n",
              "    <tr>\n",
              "      <th>25%</th>\n",
              "      <td>0.000000</td>\n",
              "      <td>28850.750000</td>\n",
              "      <td>1.602000e+03</td>\n",
              "      <td>0.005610</td>\n",
              "      <td>0.007108</td>\n",
              "      <td>0.010890</td>\n",
              "      <td>0.007830</td>\n",
              "      <td>0.005307</td>\n",
              "      <td>0.007180</td>\n",
              "      <td>0.016360</td>\n",
              "      <td>...</td>\n",
              "      <td>0.001220</td>\n",
              "      <td>0.001690</td>\n",
              "      <td>0.001170</td>\n",
              "      <td>0.012380</td>\n",
              "      <td>0.011860</td>\n",
              "      <td>0.017360</td>\n",
              "      <td>0.009710</td>\n",
              "      <td>0.000560</td>\n",
              "      <td>0.000000</td>\n",
              "      <td>0.000410</td>\n",
              "    </tr>\n",
              "    <tr>\n",
              "      <th>50%</th>\n",
              "      <td>0.000000</td>\n",
              "      <td>81971.500000</td>\n",
              "      <td>2.927500e+03</td>\n",
              "      <td>0.015260</td>\n",
              "      <td>0.013360</td>\n",
              "      <td>0.016130</td>\n",
              "      <td>0.014560</td>\n",
              "      <td>0.009685</td>\n",
              "      <td>0.012800</td>\n",
              "      <td>0.025475</td>\n",
              "      <td>...</td>\n",
              "      <td>0.003530</td>\n",
              "      <td>0.009270</td>\n",
              "      <td>0.004545</td>\n",
              "      <td>0.025420</td>\n",
              "      <td>0.019070</td>\n",
              "      <td>0.026085</td>\n",
              "      <td>0.020540</td>\n",
              "      <td>0.001380</td>\n",
              "      <td>0.000420</td>\n",
              "      <td>0.001130</td>\n",
              "    </tr>\n",
              "    <tr>\n",
              "      <th>75%</th>\n",
              "      <td>1.000000</td>\n",
              "      <td>222891.250000</td>\n",
              "      <td>9.120000e+03</td>\n",
              "      <td>0.029485</td>\n",
              "      <td>0.019810</td>\n",
              "      <td>0.022730</td>\n",
              "      <td>0.025112</td>\n",
              "      <td>0.017245</td>\n",
              "      <td>0.024315</td>\n",
              "      <td>0.038113</td>\n",
              "      <td>...</td>\n",
              "      <td>0.007150</td>\n",
              "      <td>0.015922</td>\n",
              "      <td>0.010250</td>\n",
              "      <td>0.034190</td>\n",
              "      <td>0.027690</td>\n",
              "      <td>0.036800</td>\n",
              "      <td>0.031122</td>\n",
              "      <td>0.002370</td>\n",
              "      <td>0.000830</td>\n",
              "      <td>0.002890</td>\n",
              "    </tr>\n",
              "    <tr>\n",
              "      <th>max</th>\n",
              "      <td>12.000000</td>\n",
              "      <td>465364.000000</td>\n",
              "      <td>4.066258e+07</td>\n",
              "      <td>0.151330</td>\n",
              "      <td>0.101190</td>\n",
              "      <td>0.089780</td>\n",
              "      <td>0.100350</td>\n",
              "      <td>0.163920</td>\n",
              "      <td>0.107370</td>\n",
              "      <td>0.154060</td>\n",
              "      <td>...</td>\n",
              "      <td>0.055540</td>\n",
              "      <td>0.098830</td>\n",
              "      <td>0.058430</td>\n",
              "      <td>0.185660</td>\n",
              "      <td>0.113840</td>\n",
              "      <td>0.144890</td>\n",
              "      <td>0.158550</td>\n",
              "      <td>0.045200</td>\n",
              "      <td>0.025610</td>\n",
              "      <td>0.106700</td>\n",
              "    </tr>\n",
              "  </tbody>\n",
              "</table>\n",
              "<p>8 rows × 65 columns</p>\n",
              "</div>\n",
              "    <div class=\"colab-df-buttons\">\n",
              "\n",
              "  <div class=\"colab-df-container\">\n",
              "    <button class=\"colab-df-convert\" onclick=\"convertToInteractive('df-6dff243e-20db-4a56-ae83-8e7f1794067e')\"\n",
              "            title=\"Convert this dataframe to an interactive table.\"\n",
              "            style=\"display:none;\">\n",
              "\n",
              "  <svg xmlns=\"http://www.w3.org/2000/svg\" height=\"24px\" viewBox=\"0 -960 960 960\">\n",
              "    <path d=\"M120-120v-720h720v720H120Zm60-500h600v-160H180v160Zm220 220h160v-160H400v160Zm0 220h160v-160H400v160ZM180-400h160v-160H180v160Zm440 0h160v-160H620v160ZM180-180h160v-160H180v160Zm440 0h160v-160H620v160Z\"/>\n",
              "  </svg>\n",
              "    </button>\n",
              "\n",
              "  <style>\n",
              "    .colab-df-container {\n",
              "      display:flex;\n",
              "      gap: 12px;\n",
              "    }\n",
              "\n",
              "    .colab-df-convert {\n",
              "      background-color: #E8F0FE;\n",
              "      border: none;\n",
              "      border-radius: 50%;\n",
              "      cursor: pointer;\n",
              "      display: none;\n",
              "      fill: #1967D2;\n",
              "      height: 32px;\n",
              "      padding: 0 0 0 0;\n",
              "      width: 32px;\n",
              "    }\n",
              "\n",
              "    .colab-df-convert:hover {\n",
              "      background-color: #E2EBFA;\n",
              "      box-shadow: 0px 1px 2px rgba(60, 64, 67, 0.3), 0px 1px 3px 1px rgba(60, 64, 67, 0.15);\n",
              "      fill: #174EA6;\n",
              "    }\n",
              "\n",
              "    .colab-df-buttons div {\n",
              "      margin-bottom: 4px;\n",
              "    }\n",
              "\n",
              "    [theme=dark] .colab-df-convert {\n",
              "      background-color: #3B4455;\n",
              "      fill: #D2E3FC;\n",
              "    }\n",
              "\n",
              "    [theme=dark] .colab-df-convert:hover {\n",
              "      background-color: #434B5C;\n",
              "      box-shadow: 0px 1px 3px 1px rgba(0, 0, 0, 0.15);\n",
              "      filter: drop-shadow(0px 1px 2px rgba(0, 0, 0, 0.3));\n",
              "      fill: #FFFFFF;\n",
              "    }\n",
              "  </style>\n",
              "\n",
              "    <script>\n",
              "      const buttonEl =\n",
              "        document.querySelector('#df-6dff243e-20db-4a56-ae83-8e7f1794067e button.colab-df-convert');\n",
              "      buttonEl.style.display =\n",
              "        google.colab.kernel.accessAllowed ? 'block' : 'none';\n",
              "\n",
              "      async function convertToInteractive(key) {\n",
              "        const element = document.querySelector('#df-6dff243e-20db-4a56-ae83-8e7f1794067e');\n",
              "        const dataTable =\n",
              "          await google.colab.kernel.invokeFunction('convertToInteractive',\n",
              "                                                    [key], {});\n",
              "        if (!dataTable) return;\n",
              "\n",
              "        const docLinkHtml = 'Like what you see? Visit the ' +\n",
              "          '<a target=\"_blank\" href=https://colab.research.google.com/notebooks/data_table.ipynb>data table notebook</a>'\n",
              "          + ' to learn more about interactive tables.';\n",
              "        element.innerHTML = '';\n",
              "        dataTable['output_type'] = 'display_data';\n",
              "        await google.colab.output.renderOutput(dataTable, element);\n",
              "        const docLink = document.createElement('div');\n",
              "        docLink.innerHTML = docLinkHtml;\n",
              "        element.appendChild(docLink);\n",
              "      }\n",
              "    </script>\n",
              "  </div>\n",
              "\n",
              "\n",
              "<div id=\"df-4212f8ec-4522-4863-ab02-fe2aaf0f0d40\">\n",
              "  <button class=\"colab-df-quickchart\" onclick=\"quickchart('df-4212f8ec-4522-4863-ab02-fe2aaf0f0d40')\"\n",
              "            title=\"Suggest charts.\"\n",
              "            style=\"display:none;\">\n",
              "\n",
              "<svg xmlns=\"http://www.w3.org/2000/svg\" height=\"24px\"viewBox=\"0 0 24 24\"\n",
              "     width=\"24px\">\n",
              "    <g>\n",
              "        <path d=\"M19 3H5c-1.1 0-2 .9-2 2v14c0 1.1.9 2 2 2h14c1.1 0 2-.9 2-2V5c0-1.1-.9-2-2-2zM9 17H7v-7h2v7zm4 0h-2V7h2v10zm4 0h-2v-4h2v4z\"/>\n",
              "    </g>\n",
              "</svg>\n",
              "  </button>\n",
              "\n",
              "<style>\n",
              "  .colab-df-quickchart {\n",
              "      --bg-color: #E8F0FE;\n",
              "      --fill-color: #1967D2;\n",
              "      --hover-bg-color: #E2EBFA;\n",
              "      --hover-fill-color: #174EA6;\n",
              "      --disabled-fill-color: #AAA;\n",
              "      --disabled-bg-color: #DDD;\n",
              "  }\n",
              "\n",
              "  [theme=dark] .colab-df-quickchart {\n",
              "      --bg-color: #3B4455;\n",
              "      --fill-color: #D2E3FC;\n",
              "      --hover-bg-color: #434B5C;\n",
              "      --hover-fill-color: #FFFFFF;\n",
              "      --disabled-bg-color: #3B4455;\n",
              "      --disabled-fill-color: #666;\n",
              "  }\n",
              "\n",
              "  .colab-df-quickchart {\n",
              "    background-color: var(--bg-color);\n",
              "    border: none;\n",
              "    border-radius: 50%;\n",
              "    cursor: pointer;\n",
              "    display: none;\n",
              "    fill: var(--fill-color);\n",
              "    height: 32px;\n",
              "    padding: 0;\n",
              "    width: 32px;\n",
              "  }\n",
              "\n",
              "  .colab-df-quickchart:hover {\n",
              "    background-color: var(--hover-bg-color);\n",
              "    box-shadow: 0 1px 2px rgba(60, 64, 67, 0.3), 0 1px 3px 1px rgba(60, 64, 67, 0.15);\n",
              "    fill: var(--button-hover-fill-color);\n",
              "  }\n",
              "\n",
              "  .colab-df-quickchart-complete:disabled,\n",
              "  .colab-df-quickchart-complete:disabled:hover {\n",
              "    background-color: var(--disabled-bg-color);\n",
              "    fill: var(--disabled-fill-color);\n",
              "    box-shadow: none;\n",
              "  }\n",
              "\n",
              "  .colab-df-spinner {\n",
              "    border: 2px solid var(--fill-color);\n",
              "    border-color: transparent;\n",
              "    border-bottom-color: var(--fill-color);\n",
              "    animation:\n",
              "      spin 1s steps(1) infinite;\n",
              "  }\n",
              "\n",
              "  @keyframes spin {\n",
              "    0% {\n",
              "      border-color: transparent;\n",
              "      border-bottom-color: var(--fill-color);\n",
              "      border-left-color: var(--fill-color);\n",
              "    }\n",
              "    20% {\n",
              "      border-color: transparent;\n",
              "      border-left-color: var(--fill-color);\n",
              "      border-top-color: var(--fill-color);\n",
              "    }\n",
              "    30% {\n",
              "      border-color: transparent;\n",
              "      border-left-color: var(--fill-color);\n",
              "      border-top-color: var(--fill-color);\n",
              "      border-right-color: var(--fill-color);\n",
              "    }\n",
              "    40% {\n",
              "      border-color: transparent;\n",
              "      border-right-color: var(--fill-color);\n",
              "      border-top-color: var(--fill-color);\n",
              "    }\n",
              "    60% {\n",
              "      border-color: transparent;\n",
              "      border-right-color: var(--fill-color);\n",
              "    }\n",
              "    80% {\n",
              "      border-color: transparent;\n",
              "      border-right-color: var(--fill-color);\n",
              "      border-bottom-color: var(--fill-color);\n",
              "    }\n",
              "    90% {\n",
              "      border-color: transparent;\n",
              "      border-bottom-color: var(--fill-color);\n",
              "    }\n",
              "  }\n",
              "</style>\n",
              "\n",
              "  <script>\n",
              "    async function quickchart(key) {\n",
              "      const quickchartButtonEl =\n",
              "        document.querySelector('#' + key + ' button');\n",
              "      quickchartButtonEl.disabled = true;  // To prevent multiple clicks.\n",
              "      quickchartButtonEl.classList.add('colab-df-spinner');\n",
              "      try {\n",
              "        const charts = await google.colab.kernel.invokeFunction(\n",
              "            'suggestCharts', [key], {});\n",
              "      } catch (error) {\n",
              "        console.error('Error during call to suggestCharts:', error);\n",
              "      }\n",
              "      quickchartButtonEl.classList.remove('colab-df-spinner');\n",
              "      quickchartButtonEl.classList.add('colab-df-quickchart-complete');\n",
              "    }\n",
              "    (() => {\n",
              "      let quickchartButtonEl =\n",
              "        document.querySelector('#df-4212f8ec-4522-4863-ab02-fe2aaf0f0d40 button');\n",
              "      quickchartButtonEl.style.display =\n",
              "        google.colab.kernel.accessAllowed ? 'block' : 'none';\n",
              "    })();\n",
              "  </script>\n",
              "</div>\n",
              "    </div>\n",
              "  </div>\n"
            ]
          },
          "metadata": {},
          "execution_count": 5
        }
      ],
      "source": [
        "dataset.describe()"
      ]
    },
    {
      "cell_type": "code",
      "execution_count": null,
      "metadata": {
        "id": "AivKr8MJTcG6"
      },
      "outputs": [],
      "source": [
        "X = dataset.iloc[:, 1:69].values\n",
        "y = dataset.iloc[:, 0].values\n",
        "X = np.delete(X, [1, 3], axis=1)"
      ]
    },
    {
      "cell_type": "code",
      "execution_count": null,
      "metadata": {
        "id": "w6sJOzQDatpv",
        "colab": {
          "base_uri": "https://localhost:8080/"
        },
        "outputId": "d074bf46-12cf-4e3f-b7a4-84c07fc4997b"
      },
      "outputs": [
        {
          "output_type": "stream",
          "name": "stdout",
          "text": [
            "[[0 1995 '0.01654' ... 0.00251 0.0005 0.0]\n",
            " [0 1474 '0.02714' ... 0.00271 0.00068 0.0]\n",
            " [0 4862 '0.01974' ... 0.00391 0.0 0.00144]\n",
            " ...\n",
            " [1 1686 0.01423 ... 0.00356 0.00119 0.02017]\n",
            " [0 40662582 0.01757 ... 0.00099 0.00079 0.00156]\n",
            " [1 8998998 0.01778 ... 0.00156 0.00114 0.02161]]\n",
            "['vrl' 'vrl' 'vrl' ... 'pri' 'pri' 'pri']\n"
          ]
        }
      ],
      "source": [
        "print(X)\n",
        "print(y)\n",
        "#print(X[y])"
      ]
    },
    {
      "cell_type": "code",
      "execution_count": null,
      "metadata": {
        "id": "rUqwy48EaB3b"
      },
      "outputs": [],
      "source": [
        "le = LabelEncoder()\n",
        "y = le.fit_transform(y)"
      ]
    },
    {
      "cell_type": "code",
      "execution_count": null,
      "metadata": {
        "id": "mh9vIIK-TebD"
      },
      "outputs": [],
      "source": [
        "for x in X:\n",
        "  if '-' in x:\n",
        "    x[3] = 0"
      ]
    },
    {
      "cell_type": "code",
      "execution_count": null,
      "metadata": {
        "id": "-xYFfaArToim",
        "colab": {
          "base_uri": "https://localhost:8080/"
        },
        "outputId": "dcf6aa99-21fb-41bd-c44c-39ab95ec6829"
      },
      "outputs": [
        {
          "output_type": "stream",
          "name": "stdout",
          "text": [
            "[9 9 9 ... 7 7 7]\n"
          ]
        }
      ],
      "source": [
        "print(y)"
      ]
    },
    {
      "cell_type": "code",
      "execution_count": null,
      "metadata": {
        "id": "u7_QaqAvCqjp",
        "colab": {
          "base_uri": "https://localhost:8080/"
        },
        "outputId": "b9d182ba-4112-4bb6-bb96-51cb3eb8ba5f"
      },
      "outputs": [
        {
          "output_type": "stream",
          "name": "stdout",
          "text": [
            "[[0 1995 0.01654 ... 0.00251 0.0005 0.0]\n",
            " [0 1474 0.02714 ... 0.00271 0.00068 0.0]\n",
            " [0 4862 0.01974 ... 0.00391 0.0 0.00144]\n",
            " ...\n",
            " [1 1686 0.01423 ... 0.00356 0.00119 0.02017]\n",
            " [0 40662582 0.01757 ... 0.00099 0.00079 0.00156]\n",
            " [1 8998998 0.01778 ... 0.00156 0.00114 0.02161]]\n"
          ]
        }
      ],
      "source": [
        "for x in X:\n",
        "  if \"non-B hepatitis virus\" in x or \"12;I\" in x:\n",
        "    x[2] = 0\n",
        "for x in X:\n",
        "  if type(x[2]) == type(\"wenas\"):\n",
        "    x[2] = float(x[2])\n",
        "\n",
        "print(X)"
      ]
    },
    {
      "cell_type": "code",
      "execution_count": null,
      "metadata": {
        "id": "TOlSF1WLaW2Y"
      },
      "outputs": [],
      "source": [
        "X_train, X_test, y_train, y_test = train_test_split(X, y, test_size=0.2, random_state=1)\n",
        "sc = StandardScaler()\n",
        "X_train = sc.fit_transform(X_train)\n",
        "X_test = sc.transform(X_test)"
      ]
    },
    {
      "cell_type": "markdown",
      "metadata": {
        "id": "yHTur4TtpqJj"
      },
      "source": [
        "#K-medias / Reducción"
      ]
    },
    {
      "cell_type": "code",
      "source": [
        "inertia = []\n",
        "k_range = range(1, 11)\n",
        "\n",
        "for k in k_range:\n",
        "    kmeans = KMeans(n_clusters=k, random_state = 42)\n",
        "    kmeans.fit(X)  # X is your data\n",
        "    inertia.append(kmeans.inertia_)\n",
        "\n",
        "plt.figure(figsize=(8, 3))\n",
        "plt.plot(k_range, inertia, marker='o')\n",
        "plt.xlabel('Number of Clusters (k)')\n",
        "plt.ylabel('Inertia')\n",
        "plt.title('Elbow Method for Optimal k')\n",
        "plt.show()\n"
      ],
      "metadata": {
        "id": "P4ORR1hderO9",
        "colab": {
          "base_uri": "https://localhost:8080/",
          "height": 717
        },
        "outputId": "96ac45b0-88e4-457a-ff54-9ec4d46cd76b"
      },
      "execution_count": null,
      "outputs": [
        {
          "output_type": "stream",
          "name": "stderr",
          "text": [
            "/usr/local/lib/python3.10/dist-packages/sklearn/cluster/_kmeans.py:870: FutureWarning: The default value of `n_init` will change from 10 to 'auto' in 1.4. Set the value of `n_init` explicitly to suppress the warning\n",
            "  warnings.warn(\n",
            "/usr/local/lib/python3.10/dist-packages/sklearn/cluster/_kmeans.py:870: FutureWarning: The default value of `n_init` will change from 10 to 'auto' in 1.4. Set the value of `n_init` explicitly to suppress the warning\n",
            "  warnings.warn(\n",
            "/usr/local/lib/python3.10/dist-packages/sklearn/cluster/_kmeans.py:870: FutureWarning: The default value of `n_init` will change from 10 to 'auto' in 1.4. Set the value of `n_init` explicitly to suppress the warning\n",
            "  warnings.warn(\n",
            "/usr/local/lib/python3.10/dist-packages/sklearn/cluster/_kmeans.py:870: FutureWarning: The default value of `n_init` will change from 10 to 'auto' in 1.4. Set the value of `n_init` explicitly to suppress the warning\n",
            "  warnings.warn(\n",
            "/usr/local/lib/python3.10/dist-packages/sklearn/cluster/_kmeans.py:870: FutureWarning: The default value of `n_init` will change from 10 to 'auto' in 1.4. Set the value of `n_init` explicitly to suppress the warning\n",
            "  warnings.warn(\n",
            "/usr/local/lib/python3.10/dist-packages/sklearn/cluster/_kmeans.py:870: FutureWarning: The default value of `n_init` will change from 10 to 'auto' in 1.4. Set the value of `n_init` explicitly to suppress the warning\n",
            "  warnings.warn(\n",
            "/usr/local/lib/python3.10/dist-packages/sklearn/cluster/_kmeans.py:870: FutureWarning: The default value of `n_init` will change from 10 to 'auto' in 1.4. Set the value of `n_init` explicitly to suppress the warning\n",
            "  warnings.warn(\n",
            "/usr/local/lib/python3.10/dist-packages/sklearn/cluster/_kmeans.py:870: FutureWarning: The default value of `n_init` will change from 10 to 'auto' in 1.4. Set the value of `n_init` explicitly to suppress the warning\n",
            "  warnings.warn(\n",
            "/usr/local/lib/python3.10/dist-packages/sklearn/cluster/_kmeans.py:870: FutureWarning: The default value of `n_init` will change from 10 to 'auto' in 1.4. Set the value of `n_init` explicitly to suppress the warning\n",
            "  warnings.warn(\n",
            "/usr/local/lib/python3.10/dist-packages/sklearn/cluster/_kmeans.py:870: FutureWarning: The default value of `n_init` will change from 10 to 'auto' in 1.4. Set the value of `n_init` explicitly to suppress the warning\n",
            "  warnings.warn(\n"
          ]
        },
        {
          "output_type": "display_data",
          "data": {
            "text/plain": [
              "<Figure size 800x300 with 1 Axes>"
            ],
            "image/png": "[encoded data removed]"
          },
          "metadata": {}
        }
      ]
    },
    {
      "cell_type": "code",
      "source": [
        "silhouette_scores = []\n",
        "k_range = range(2, 11)\n",
        "\n",
        "for k in k_range:\n",
        "    kmeans = KMeans(n_clusters=k, random_state = 42)\n",
        "    kmeans.fit(X)\n",
        "    labels = kmeans.labels_\n",
        "    silhouette_avg = silhouette_score(X, labels)\n",
        "    silhouette_scores.append(silhouette_avg)\n",
        "\n",
        "plt.figure(figsize=(8, 3))\n",
        "plt.plot(k_range, silhouette_scores, marker='o')\n",
        "plt.xlabel('Clusters (k)')\n",
        "plt.ylabel('Silhouette Score')\n",
        "plt.title('Metodo de Silhouette')\n",
        "plt.show()"
      ],
      "metadata": {
        "id": "5Wkl7JWugT88",
        "colab": {
          "base_uri": "https://localhost:8080/",
          "height": 680
        },
        "outputId": "ba1712a7-a262-432b-d7cc-55d563ac2247"
      },
      "execution_count": null,
      "outputs": [
        {
          "output_type": "stream",
          "name": "stderr",
          "text": [
            "/usr/local/lib/python3.10/dist-packages/sklearn/cluster/_kmeans.py:870: FutureWarning: The default value of `n_init` will change from 10 to 'auto' in 1.4. Set the value of `n_init` explicitly to suppress the warning\n",
            "  warnings.warn(\n",
            "/usr/local/lib/python3.10/dist-packages/sklearn/cluster/_kmeans.py:870: FutureWarning: The default value of `n_init` will change from 10 to 'auto' in 1.4. Set the value of `n_init` explicitly to suppress the warning\n",
            "  warnings.warn(\n",
            "/usr/local/lib/python3.10/dist-packages/sklearn/cluster/_kmeans.py:870: FutureWarning: The default value of `n_init` will change from 10 to 'auto' in 1.4. Set the value of `n_init` explicitly to suppress the warning\n",
            "  warnings.warn(\n",
            "/usr/local/lib/python3.10/dist-packages/sklearn/cluster/_kmeans.py:870: FutureWarning: The default value of `n_init` will change from 10 to 'auto' in 1.4. Set the value of `n_init` explicitly to suppress the warning\n",
            "  warnings.warn(\n",
            "/usr/local/lib/python3.10/dist-packages/sklearn/cluster/_kmeans.py:870: FutureWarning: The default value of `n_init` will change from 10 to 'auto' in 1.4. Set the value of `n_init` explicitly to suppress the warning\n",
            "  warnings.warn(\n",
            "/usr/local/lib/python3.10/dist-packages/sklearn/cluster/_kmeans.py:870: FutureWarning: The default value of `n_init` will change from 10 to 'auto' in 1.4. Set the value of `n_init` explicitly to suppress the warning\n",
            "  warnings.warn(\n",
            "/usr/local/lib/python3.10/dist-packages/sklearn/cluster/_kmeans.py:870: FutureWarning: The default value of `n_init` will change from 10 to 'auto' in 1.4. Set the value of `n_init` explicitly to suppress the warning\n",
            "  warnings.warn(\n",
            "/usr/local/lib/python3.10/dist-packages/sklearn/cluster/_kmeans.py:870: FutureWarning: The default value of `n_init` will change from 10 to 'auto' in 1.4. Set the value of `n_init` explicitly to suppress the warning\n",
            "  warnings.warn(\n",
            "/usr/local/lib/python3.10/dist-packages/sklearn/cluster/_kmeans.py:870: FutureWarning: The default value of `n_init` will change from 10 to 'auto' in 1.4. Set the value of `n_init` explicitly to suppress the warning\n",
            "  warnings.warn(\n"
          ]
        },
        {
          "output_type": "display_data",
          "data": {
            "text/plain": [
              "<Figure size 800x300 with 1 Axes>"
            ],
            "image/png": "[encoded data removed]"
          },
          "metadata": {}
        }
      ]
    },
    {
      "cell_type": "code",
      "source": [
        "k_range = range(2, 11, 1)\n",
        "kmeans_per_k = []\n",
        "for k in k_range:\n",
        "    print(\"k={}\".format(k))\n",
        "    kmeans = KMeans(n_clusters=k, random_state=42).fit(X)\n",
        "    kmeans_per_k.append(kmeans)\n",
        "\n",
        "silhouette_score(X, kmeans.labels_)\n",
        "silhouette_scores = [silhouette_score(X, model.labels_)\n",
        "                     for model in kmeans_per_k[1:]]\n",
        "\n",
        "plt.figure(figsize=(8, 3))\n",
        "plt.plot(range(2, 10), silhouette_scores, \"bo-\")\n",
        "plt.xlabel(\"$k$\", fontsize=14)\n",
        "plt.ylabel(\"Silhouette score\", fontsize=14)\n",
        "plt.show()"
      ],
      "metadata": {
        "id": "2VHP46L4hi-u",
        "colab": {
          "base_uri": "https://localhost:8080/",
          "height": 826
        },
        "outputId": "cda68fd9-e92b-4b5b-97b0-ce1a34847883"
      },
      "execution_count": null,
      "outputs": [
        {
          "output_type": "stream",
          "name": "stdout",
          "text": [
            "k=2\n"
          ]
        },
        {
          "output_type": "stream",
          "name": "stderr",
          "text": [
            "/usr/local/lib/python3.10/dist-packages/sklearn/cluster/_kmeans.py:870: FutureWarning: The default value of `n_init` will change from 10 to 'auto' in 1.4. Set the value of `n_init` explicitly to suppress the warning\n",
            "  warnings.warn(\n"
          ]
        },
        {
          "output_type": "stream",
          "name": "stdout",
          "text": [
            "k=3\n"
          ]
        },
        {
          "output_type": "stream",
          "name": "stderr",
          "text": [
            "/usr/local/lib/python3.10/dist-packages/sklearn/cluster/_kmeans.py:870: FutureWarning: The default value of `n_init` will change from 10 to 'auto' in 1.4. Set the value of `n_init` explicitly to suppress the warning\n",
            "  warnings.warn(\n"
          ]
        },
        {
          "output_type": "stream",
          "name": "stdout",
          "text": [
            "k=4\n"
          ]
        },
        {
          "output_type": "stream",
          "name": "stderr",
          "text": [
            "/usr/local/lib/python3.10/dist-packages/sklearn/cluster/_kmeans.py:870: FutureWarning: The default value of `n_init` will change from 10 to 'auto' in 1.4. Set the value of `n_init` explicitly to suppress the warning\n",
            "  warnings.warn(\n"
          ]
        },
        {
          "output_type": "stream",
          "name": "stdout",
          "text": [
            "k=5\n"
          ]
        },
        {
          "output_type": "stream",
          "name": "stderr",
          "text": [
            "/usr/local/lib/python3.10/dist-packages/sklearn/cluster/_kmeans.py:870: FutureWarning: The default value of `n_init` will change from 10 to 'auto' in 1.4. Set the value of `n_init` explicitly to suppress the warning\n",
            "  warnings.warn(\n"
          ]
        },
        {
          "output_type": "stream",
          "name": "stdout",
          "text": [
            "k=6\n"
          ]
        },
        {
          "output_type": "stream",
          "name": "stderr",
          "text": [
            "/usr/local/lib/python3.10/dist-packages/sklearn/cluster/_kmeans.py:870: FutureWarning: The default value of `n_init` will change from 10 to 'auto' in 1.4. Set the value of `n_init` explicitly to suppress the warning\n",
            "  warnings.warn(\n"
          ]
        },
        {
          "output_type": "stream",
          "name": "stdout",
          "text": [
            "k=7\n"
          ]
        },
        {
          "output_type": "stream",
          "name": "stderr",
          "text": [
            "/usr/local/lib/python3.10/dist-packages/sklearn/cluster/_kmeans.py:870: FutureWarning: The default value of `n_init` will change from 10 to 'auto' in 1.4. Set the value of `n_init` explicitly to suppress the warning\n",
            "  warnings.warn(\n"
          ]
        },
        {
          "output_type": "stream",
          "name": "stdout",
          "text": [
            "k=8\n"
          ]
        },
        {
          "output_type": "stream",
          "name": "stderr",
          "text": [
            "/usr/local/lib/python3.10/dist-packages/sklearn/cluster/_kmeans.py:870: FutureWarning: The default value of `n_init` will change from 10 to 'auto' in 1.4. Set the value of `n_init` explicitly to suppress the warning\n",
            "  warnings.warn(\n"
          ]
        },
        {
          "output_type": "stream",
          "name": "stdout",
          "text": [
            "k=9\n"
          ]
        },
        {
          "output_type": "stream",
          "name": "stderr",
          "text": [
            "/usr/local/lib/python3.10/dist-packages/sklearn/cluster/_kmeans.py:870: FutureWarning: The default value of `n_init` will change from 10 to 'auto' in 1.4. Set the value of `n_init` explicitly to suppress the warning\n",
            "  warnings.warn(\n"
          ]
        },
        {
          "output_type": "stream",
          "name": "stdout",
          "text": [
            "k=10\n"
          ]
        },
        {
          "output_type": "stream",
          "name": "stderr",
          "text": [
            "/usr/local/lib/python3.10/dist-packages/sklearn/cluster/_kmeans.py:870: FutureWarning: The default value of `n_init` will change from 10 to 'auto' in 1.4. Set the value of `n_init` explicitly to suppress the warning\n",
            "  warnings.warn(\n"
          ]
        },
        {
          "output_type": "display_data",
          "data": {
            "text/plain": [
              "<Figure size 800x300 with 1 Axes>"
            ],
            "image/png": "[encoded data removed]"
          },
          "metadata": {}
        }
      ]
    },
    {
      "cell_type": "markdown",
      "source": [
        "##Nuevo Corpus"
      ],
      "metadata": {
        "id": "QhXjX5N_4UbF"
      }
    },
    {
      "cell_type": "code",
      "execution_count": null,
      "metadata": {
        "id": "T_pH_60ko1R2",
        "colab": {
          "base_uri": "https://localhost:8080/"
        },
        "outputId": "e3a9af42-a9ab-4f4c-9d9a-ecaf6b2c09de"
      },
      "outputs": [
        {
          "output_type": "stream",
          "name": "stderr",
          "text": [
            "/usr/local/lib/python3.10/dist-packages/sklearn/cluster/_kmeans.py:870: FutureWarning: The default value of `n_init` will change from 10 to 'auto' in 1.4. Set the value of `n_init` explicitly to suppress the warning\n",
            "  warnings.warn(\n"
          ]
        }
      ],
      "source": [
        "k = 50\n",
        "kmeans = KMeans(n_clusters=k, random_state=9)\n",
        "kmeans.fit(X)\n",
        "\n",
        "#Aplicar transform para obtener las distancias a los centroides\n",
        "corpus1 = kmeans.transform(X)\n",
        "\n",
        "#Asignar cada elemento og a un clúster\n",
        "etiquetas = kmeans.predict(X)\n",
        "\n",
        "#Sacar los x y y\n",
        "X_train1, X_test1, y_train1, y_test1 = train_test_split(corpus1, etiquetas, test_size=0.2, random_state=1)\n",
        "sc = StandardScaler()\n",
        "X_train1 = sc.fit_transform(X_train1)\n",
        "X_test1 = sc.transform(X_test1)"
      ]
    },
    {
      "cell_type": "markdown",
      "metadata": {
        "id": "i9w25L7gpJQ3"
      },
      "source": [
        "#**Regresión logística**"
      ]
    },
    {
      "cell_type": "markdown",
      "metadata": {
        "id": "ZQj36wjvnE0t"
      },
      "source": [
        "##Modelo Base"
      ]
    },
    {
      "cell_type": "markdown",
      "metadata": {
        "id": "uzqhLEjrnE1B"
      },
      "source": [
        "* Preprocesado original"
      ]
    },
    {
      "cell_type": "code",
      "execution_count": null,
      "metadata": {
        "colab": {
          "base_uri": "https://localhost:8080/",
          "height": 75
        },
        "id": "YVh0Ao-nuJ6U",
        "outputId": "b4296182-c45b-4e46-ca91-d26a8ae66efe"
      },
      "outputs": [
        {
          "output_type": "execute_result",
          "data": {
            "text/plain": [
              "LogisticRegression(max_iter=5000, random_state=0)"
            ],
            "text/html": [
              "<style>#sk-container-id-9 {color: black;background-color: white;}#sk-container-id-9 pre{padding: 0;}#sk-container-id-9 div.sk-toggleable {background-color: white;}#sk-container-id-9 label.sk-toggleable__label {cursor: pointer;display: block;width: 100%;margin-bottom: 0;padding: 0.3em;box-sizing: border-box;text-align: center;}#sk-container-id-9 label.sk-toggleable__label-arrow:before {content: \"▸\";float: left;margin-right: 0.25em;color: #696969;}#sk-container-id-9 label.sk-toggleable__label-arrow:hover:before {color: black;}#sk-container-id-9 div.sk-estimator:hover label.sk-toggleable__label-arrow:before {color: black;}#sk-container-id-9 div.sk-toggleable__content {max-height: 0;max-width: 0;overflow: hidden;text-align: left;background-color: #f0f8ff;}#sk-container-id-9 div.sk-toggleable__content pre {margin: 0.2em;color: black;border-radius: 0.25em;background-color: #f0f8ff;}#sk-container-id-9 input.sk-toggleable__control:checked~div.sk-toggleable__content {max-height: 200px;max-width: 100%;overflow: auto;}#sk-container-id-9 input.sk-toggleable__control:checked~label.sk-toggleable__label-arrow:before {content: \"▾\";}#sk-container-id-9 div.sk-estimator input.sk-toggleable__control:checked~label.sk-toggleable__label {background-color: #d4ebff;}#sk-container-id-9 div.sk-label input.sk-toggleable__control:checked~label.sk-toggleable__label {background-color: #d4ebff;}#sk-container-id-9 input.sk-hidden--visually {border: 0;clip: rect(1px 1px 1px 1px);clip: rect(1px, 1px, 1px, 1px);height: 1px;margin: -1px;overflow: hidden;padding: 0;position: absolute;width: 1px;}#sk-container-id-9 div.sk-estimator {font-family: monospace;background-color: #f0f8ff;border: 1px dotted black;border-radius: 0.25em;box-sizing: border-box;margin-bottom: 0.5em;}#sk-container-id-9 div.sk-estimator:hover {background-color: #d4ebff;}#sk-container-id-9 div.sk-parallel-item::after {content: \"\";width: 100%;border-bottom: 1px solid gray;flex-grow: 1;}#sk-container-id-9 div.sk-label:hover label.sk-toggleable__label {background-color: #d4ebff;}#sk-container-id-9 div.sk-serial::before {content: \"\";position: absolute;border-left: 1px solid gray;box-sizing: border-box;top: 0;bottom: 0;left: 50%;z-index: 0;}#sk-container-id-9 div.sk-serial {display: flex;flex-direction: column;align-items: center;background-color: white;padding-right: 0.2em;padding-left: 0.2em;position: relative;}#sk-container-id-9 div.sk-item {position: relative;z-index: 1;}#sk-container-id-9 div.sk-parallel {display: flex;align-items: stretch;justify-content: center;background-color: white;position: relative;}#sk-container-id-9 div.sk-item::before, #sk-container-id-9 div.sk-parallel-item::before {content: \"\";position: absolute;border-left: 1px solid gray;box-sizing: border-box;top: 0;bottom: 0;left: 50%;z-index: -1;}#sk-container-id-9 div.sk-parallel-item {display: flex;flex-direction: column;z-index: 1;position: relative;background-color: white;}#sk-container-id-9 div.sk-parallel-item:first-child::after {align-self: flex-end;width: 50%;}#sk-container-id-9 div.sk-parallel-item:last-child::after {align-self: flex-start;width: 50%;}#sk-container-id-9 div.sk-parallel-item:only-child::after {width: 0;}#sk-container-id-9 div.sk-dashed-wrapped {border: 1px dashed gray;margin: 0 0.4em 0.5em 0.4em;box-sizing: border-box;padding-bottom: 0.4em;background-color: white;}#sk-container-id-9 div.sk-label label {font-family: monospace;font-weight: bold;display: inline-block;line-height: 1.2em;}#sk-container-id-9 div.sk-label-container {text-align: center;}#sk-container-id-9 div.sk-container {/* jupyter's `normalize.less` sets `[hidden] { display: none; }` but bootstrap.min.css set `[hidden] { display: none !important; }` so we also need the `!important` here to be able to override the default hidden behavior on the sphinx rendered scikit-learn.org. See: https://github.com/scikit-learn/scikit-learn/issues/21755 */display: inline-block !important;position: relative;}#sk-container-id-9 div.sk-text-repr-fallback {display: none;}</style><div id=\"sk-container-id-9\" class=\"sk-top-container\"><div class=\"sk-text-repr-fallback\"><pre>LogisticRegression(max_iter=5000, random_state=0)</pre><b>In a Jupyter environment, please rerun this cell to show the HTML representation or trust the notebook. <br />On GitHub, the HTML representation is unable to render, please try loading this page with nbviewer.org.</b></div><div class=\"sk-container\" hidden><div class=\"sk-item\"><div class=\"sk-estimator sk-toggleable\"><input class=\"sk-toggleable__control sk-hidden--visually\" id=\"sk-estimator-id-9\" type=\"checkbox\" checked><label for=\"sk-estimator-id-9\" class=\"sk-toggleable__label sk-toggleable__label-arrow\">LogisticRegression</label><div class=\"sk-toggleable__content\"><pre>LogisticRegression(max_iter=5000, random_state=0)</pre></div></div></div></div></div>"
            ]
          },
          "metadata": {},
          "execution_count": 75
        }
      ],
      "source": [
        "classifier = LogisticRegression(random_state = 0, max_iter=5000)\n",
        "classifier.fit(X_train, y_train)"
      ]
    },
    {
      "cell_type": "code",
      "execution_count": null,
      "metadata": {
        "colab": {
          "base_uri": "https://localhost:8080/"
        },
        "id": "I9PhcvwyuWEz",
        "outputId": "dcb36c7b-aacc-47bc-cb8a-a0632adbb239"
      },
      "outputs": [
        {
          "output_type": "stream",
          "name": "stdout",
          "text": [
            "[[ 6  2]\n",
            " [ 2  2]\n",
            " [ 9  9]\n",
            " ...\n",
            " [ 1  1]\n",
            " [10 10]\n",
            " [ 6  6]]\n"
          ]
        }
      ],
      "source": [
        "y_pred = classifier.predict(X_test)\n",
        "print(np.concatenate((y_pred.reshape(len(y_pred),1), y_test.reshape(len(y_test),1)),1))"
      ]
    },
    {
      "cell_type": "markdown",
      "metadata": {
        "id": "XvQeAQ4AnE1C"
      },
      "source": [
        "* Corpus 1"
      ]
    },
    {
      "cell_type": "code",
      "source": [
        "classifier1 = LogisticRegression(random_state = 0, max_iter=5000)\n",
        "classifier1.fit(X_train1, y_train1)"
      ],
      "metadata": {
        "id": "v16QQyair-_w",
        "colab": {
          "base_uri": "https://localhost:8080/",
          "height": 75
        },
        "outputId": "94338d96-08ab-4199-e9fe-ad71406f1d55"
      },
      "execution_count": null,
      "outputs": [
        {
          "output_type": "execute_result",
          "data": {
            "text/plain": [
              "LogisticRegression(max_iter=5000, random_state=0)"
            ],
            "text/html": [
              "<style>#sk-container-id-10 {color: black;background-color: white;}#sk-container-id-10 pre{padding: 0;}#sk-container-id-10 div.sk-toggleable {background-color: white;}#sk-container-id-10 label.sk-toggleable__label {cursor: pointer;display: block;width: 100%;margin-bottom: 0;padding: 0.3em;box-sizing: border-box;text-align: center;}#sk-container-id-10 label.sk-toggleable__label-arrow:before {content: \"▸\";float: left;margin-right: 0.25em;color: #696969;}#sk-container-id-10 label.sk-toggleable__label-arrow:hover:before {color: black;}#sk-container-id-10 div.sk-estimator:hover label.sk-toggleable__label-arrow:before {color: black;}#sk-container-id-10 div.sk-toggleable__content {max-height: 0;max-width: 0;overflow: hidden;text-align: left;background-color: #f0f8ff;}#sk-container-id-10 div.sk-toggleable__content pre {margin: 0.2em;color: black;border-radius: 0.25em;background-color: #f0f8ff;}#sk-container-id-10 input.sk-toggleable__control:checked~div.sk-toggleable__content {max-height: 200px;max-width: 100%;overflow: auto;}#sk-container-id-10 input.sk-toggleable__control:checked~label.sk-toggleable__label-arrow:before {content: \"▾\";}#sk-container-id-10 div.sk-estimator input.sk-toggleable__control:checked~label.sk-toggleable__label {background-color: #d4ebff;}#sk-container-id-10 div.sk-label input.sk-toggleable__control:checked~label.sk-toggleable__label {background-color: #d4ebff;}#sk-container-id-10 input.sk-hidden--visually {border: 0;clip: rect(1px 1px 1px 1px);clip: rect(1px, 1px, 1px, 1px);height: 1px;margin: -1px;overflow: hidden;padding: 0;position: absolute;width: 1px;}#sk-container-id-10 div.sk-estimator {font-family: monospace;background-color: #f0f8ff;border: 1px dotted black;border-radius: 0.25em;box-sizing: border-box;margin-bottom: 0.5em;}#sk-container-id-10 div.sk-estimator:hover {background-color: #d4ebff;}#sk-container-id-10 div.sk-parallel-item::after {content: \"\";width: 100%;border-bottom: 1px solid gray;flex-grow: 1;}#sk-container-id-10 div.sk-label:hover label.sk-toggleable__label {background-color: #d4ebff;}#sk-container-id-10 div.sk-serial::before {content: \"\";position: absolute;border-left: 1px solid gray;box-sizing: border-box;top: 0;bottom: 0;left: 50%;z-index: 0;}#sk-container-id-10 div.sk-serial {display: flex;flex-direction: column;align-items: center;background-color: white;padding-right: 0.2em;padding-left: 0.2em;position: relative;}#sk-container-id-10 div.sk-item {position: relative;z-index: 1;}#sk-container-id-10 div.sk-parallel {display: flex;align-items: stretch;justify-content: center;background-color: white;position: relative;}#sk-container-id-10 div.sk-item::before, #sk-container-id-10 div.sk-parallel-item::before {content: \"\";position: absolute;border-left: 1px solid gray;box-sizing: border-box;top: 0;bottom: 0;left: 50%;z-index: -1;}#sk-container-id-10 div.sk-parallel-item {display: flex;flex-direction: column;z-index: 1;position: relative;background-color: white;}#sk-container-id-10 div.sk-parallel-item:first-child::after {align-self: flex-end;width: 50%;}#sk-container-id-10 div.sk-parallel-item:last-child::after {align-self: flex-start;width: 50%;}#sk-container-id-10 div.sk-parallel-item:only-child::after {width: 0;}#sk-container-id-10 div.sk-dashed-wrapped {border: 1px dashed gray;margin: 0 0.4em 0.5em 0.4em;box-sizing: border-box;padding-bottom: 0.4em;background-color: white;}#sk-container-id-10 div.sk-label label {font-family: monospace;font-weight: bold;display: inline-block;line-height: 1.2em;}#sk-container-id-10 div.sk-label-container {text-align: center;}#sk-container-id-10 div.sk-container {/* jupyter's `normalize.less` sets `[hidden] { display: none; }` but bootstrap.min.css set `[hidden] { display: none !important; }` so we also need the `!important` here to be able to override the default hidden behavior on the sphinx rendered scikit-learn.org. See: https://github.com/scikit-learn/scikit-learn/issues/21755 */display: inline-block !important;position: relative;}#sk-container-id-10 div.sk-text-repr-fallback {display: none;}</style><div id=\"sk-container-id-10\" class=\"sk-top-container\"><div class=\"sk-text-repr-fallback\"><pre>LogisticRegression(max_iter=5000, random_state=0)</pre><b>In a Jupyter environment, please rerun this cell to show the HTML representation or trust the notebook. <br />On GitHub, the HTML representation is unable to render, please try loading this page with nbviewer.org.</b></div><div class=\"sk-container\" hidden><div class=\"sk-item\"><div class=\"sk-estimator sk-toggleable\"><input class=\"sk-toggleable__control sk-hidden--visually\" id=\"sk-estimator-id-10\" type=\"checkbox\" checked><label for=\"sk-estimator-id-10\" class=\"sk-toggleable__label sk-toggleable__label-arrow\">LogisticRegression</label><div class=\"sk-toggleable__content\"><pre>LogisticRegression(max_iter=5000, random_state=0)</pre></div></div></div></div></div>"
            ]
          },
          "metadata": {},
          "execution_count": 77
        }
      ]
    },
    {
      "cell_type": "code",
      "source": [
        "y_pred1 = classifier1.predict(X_test1)\n",
        "print(np.concatenate((y_pred1.reshape(len(y_pred1),1), y_test1.reshape(len(y_test1),1)),1))"
      ],
      "metadata": {
        "id": "xchizRKGsAr2",
        "colab": {
          "base_uri": "https://localhost:8080/"
        },
        "outputId": "f68f38c6-c19e-4791-bfa7-ca6171b48741"
      },
      "execution_count": null,
      "outputs": [
        {
          "output_type": "stream",
          "name": "stdout",
          "text": [
            "[[ 0  0]\n",
            " [ 0  0]\n",
            " [ 0 27]\n",
            " ...\n",
            " [ 0 27]\n",
            " [ 0  0]\n",
            " [35 35]]\n"
          ]
        }
      ]
    },
    {
      "cell_type": "markdown",
      "metadata": {
        "id": "JZh30DXWnE1C"
      },
      "source": [
        "##Modelo Optimizado"
      ]
    },
    {
      "cell_type": "markdown",
      "metadata": {
        "id": "t45n_va0nE1C"
      },
      "source": [
        "* Preprocesado original"
      ]
    },
    {
      "cell_type": "code",
      "execution_count": null,
      "metadata": {
        "colab": {
          "base_uri": "https://localhost:8080/"
        },
        "id": "Fck-vIW66E9c",
        "outputId": "17da68eb-7d88-408c-8ae2-451bd8af5cf2"
      },
      "outputs": [
        {
          "output_type": "stream",
          "name": "stderr",
          "text": [
            "/usr/local/lib/python3.10/dist-packages/sklearn/model_selection/_validation.py:378: FitFailedWarning: \n",
            "25 fits failed out of a total of 50.\n",
            "The score on these train-test partitions for these parameters will be set to nan.\n",
            "If these failures are not expected, you can try to debug them by setting error_score='raise'.\n",
            "\n",
            "Below are more details about the failures:\n",
            "--------------------------------------------------------------------------------\n",
            "25 fits failed with the following error:\n",
            "Traceback (most recent call last):\n",
            "  File \"/usr/local/lib/python3.10/dist-packages/sklearn/model_selection/_validation.py\", line 686, in _fit_and_score\n",
            "    estimator.fit(X_train, y_train, **fit_params)\n",
            "  File \"/usr/local/lib/python3.10/dist-packages/sklearn/linear_model/_logistic.py\", line 1162, in fit\n",
            "    solver = _check_solver(self.solver, self.penalty, self.dual)\n",
            "  File \"/usr/local/lib/python3.10/dist-packages/sklearn/linear_model/_logistic.py\", line 54, in _check_solver\n",
            "    raise ValueError(\n",
            "ValueError: Solver lbfgs supports only 'l2' or 'none' penalties, got l1 penalty.\n",
            "\n",
            "  warnings.warn(some_fits_failed_message, FitFailedWarning)\n",
            "/usr/local/lib/python3.10/dist-packages/sklearn/model_selection/_search.py:952: UserWarning: One or more of the test scores are non-finite: [       nan 0.75446025        nan 0.833237          nan 0.86355777\n",
            "        nan 0.86720377        nan 0.86605233]\n",
            "  warnings.warn(\n"
          ]
        },
        {
          "output_type": "stream",
          "name": "stdout",
          "text": [
            "Mejor Accuracy: 86.72 %\n",
            "Mejores hiperparámetros para regresión logística: {'C': 1, 'penalty': 'l2'}\n"
          ]
        }
      ],
      "source": [
        "param_grid = {\n",
        "    'C': [0.001, 0.01, 0.1, 1, 10],\n",
        "    'penalty': ['l1', 'l2']}\n",
        "\n",
        "grid_search = GridSearchCV(classifier, param_grid, cv=5, scoring='accuracy', n_jobs=-1)\n",
        "grid_search.fit(X_train, y_train)\n",
        "\n",
        "best_params = grid_search.best_params_\n",
        "best_accuracy = grid_search.best_score_\n",
        "\n",
        "print(\"Mejor Accuracy: {:.2f} %\".format(best_accuracy*100))\n",
        "print(\"Mejores hiperparámetros para regresión logística:\", best_params)"
      ]
    },
    {
      "cell_type": "markdown",
      "metadata": {
        "id": "6ZwcaYPSnE1D"
      },
      "source": [
        "* Corpus 1"
      ]
    },
    {
      "cell_type": "code",
      "source": [
        "param_grid = {\n",
        "    'C': [0.001, 0.01, 0.1, 1, 10],\n",
        "    'penalty': ['l1', 'l2']}\n",
        "\n",
        "grid_search1 = GridSearchCV(classifier1, param_grid, cv=5, scoring='accuracy', n_jobs=-1)\n",
        "grid_search1.fit(X_train1, y_train1)\n",
        "\n",
        "best_params1 = grid_search1.best_params_\n",
        "best_accuracy1 = grid_search1.best_score_\n",
        "\n",
        "print(\"Mejor Accuracy: {:.2f} %\".format(best_accuracy1*100))\n",
        "print(\"Mejores hiperparámetros para regresión logística:\", best_params1)"
      ],
      "metadata": {
        "id": "E5abnpNwswFM",
        "colab": {
          "base_uri": "https://localhost:8080/"
        },
        "outputId": "08140356-dc41-4fb0-ba1e-480a9dfd0de3"
      },
      "execution_count": null,
      "outputs": [
        {
          "output_type": "stream",
          "name": "stderr",
          "text": [
            "/usr/local/lib/python3.10/dist-packages/sklearn/model_selection/_split.py:700: UserWarning: The least populated class in y has only 1 members, which is less than n_splits=5.\n",
            "  warnings.warn(\n",
            "/usr/local/lib/python3.10/dist-packages/sklearn/model_selection/_validation.py:378: FitFailedWarning: \n",
            "25 fits failed out of a total of 50.\n",
            "The score on these train-test partitions for these parameters will be set to nan.\n",
            "If these failures are not expected, you can try to debug them by setting error_score='raise'.\n",
            "\n",
            "Below are more details about the failures:\n",
            "--------------------------------------------------------------------------------\n",
            "25 fits failed with the following error:\n",
            "Traceback (most recent call last):\n",
            "  File \"/usr/local/lib/python3.10/dist-packages/sklearn/model_selection/_validation.py\", line 686, in _fit_and_score\n",
            "    estimator.fit(X_train, y_train, **fit_params)\n",
            "  File \"/usr/local/lib/python3.10/dist-packages/sklearn/linear_model/_logistic.py\", line 1162, in fit\n",
            "    solver = _check_solver(self.solver, self.penalty, self.dual)\n",
            "  File \"/usr/local/lib/python3.10/dist-packages/sklearn/linear_model/_logistic.py\", line 54, in _check_solver\n",
            "    raise ValueError(\n",
            "ValueError: Solver lbfgs supports only 'l2' or 'none' penalties, got l1 penalty.\n",
            "\n",
            "  warnings.warn(some_fits_failed_message, FitFailedWarning)\n",
            "/usr/local/lib/python3.10/dist-packages/sklearn/model_selection/_search.py:952: UserWarning: One or more of the test scores are non-finite: [       nan 0.73469587        nan 0.7401651         nan 0.75043156\n",
            "        nan 0.8420658         nan 0.96209973]\n",
            "  warnings.warn(\n"
          ]
        },
        {
          "output_type": "stream",
          "name": "stdout",
          "text": [
            "Mejor Accuracy: 96.21 %\n",
            "Mejores hiperparámetros para regresión logística: {'C': 10, 'penalty': 'l2'}\n"
          ]
        }
      ]
    },
    {
      "cell_type": "markdown",
      "metadata": {
        "id": "dBfZuJHXnE1D"
      },
      "source": [
        "##Evaluación"
      ]
    },
    {
      "cell_type": "markdown",
      "source": [
        "* Preprocesado original"
      ],
      "metadata": {
        "id": "58XFsAHkt5Mh"
      }
    },
    {
      "cell_type": "code",
      "execution_count": null,
      "metadata": {
        "colab": {
          "base_uri": "https://localhost:8080/"
        },
        "id": "Tw9e5os6upKs",
        "outputId": "bfcf4881-0acd-4b3e-f599-17e04cef6aa7"
      },
      "outputs": [
        {
          "output_type": "stream",
          "name": "stdout",
          "text": [
            "Accuracy: 0.8683806600153492\n",
            "Matriz de Confusión:\n",
            "[[ 20   6   0   0   1   0   0   0   0   2   0]\n",
            " [  3 574   2   0   5   0  10   0   0   9   1]\n",
            " [  0  10 187   1   1   0  52   1   5  35   9]\n",
            " [  0   0   0  80   0   0   0   6   4   1  11]\n",
            " [  0  19   0   0  24   0   0   0   0   3   0]\n",
            " [  0   5   0   0   0   0   0   0   0   0   0]\n",
            " [  0   5  20   2   0   0 420   1   0  14   2]\n",
            " [  0   0   0   4   0   0   0  23   3   0   7]\n",
            " [  0   0   0   6   0   0   0   1  22   0  11]\n",
            " [  0   6  12   0   1   0  16   2   1 556   4]\n",
            " [  0   1   6   5   0   0   2   3   3   3 357]]\n",
            "Precisión: 0.7270634319900459\n",
            "Recall: 0.6830304744137475\n",
            "Puntuación F1: 0.7006498109638024\n",
            "R-cuadrado: 0.7434994519901723\n",
            "Error Cuadrático Medio (MSE): 3.2486569455103607\n"
          ]
        },
        {
          "output_type": "stream",
          "name": "stderr",
          "text": [
            "/usr/local/lib/python3.10/dist-packages/sklearn/metrics/_classification.py:1344: UndefinedMetricWarning: Precision is ill-defined and being set to 0.0 in labels with no predicted samples. Use `zero_division` parameter to control this behavior.\n",
            "  _warn_prf(average, modifier, msg_start, len(result))\n"
          ]
        }
      ],
      "source": [
        "accuracy = accuracy_score(y_test, y_pred)\n",
        "confusion = confusion_matrix(y_test, y_pred)\n",
        "precision = precision_score(y_test, y_pred, average='macro')\n",
        "recall = recall_score(y_test, y_pred, average='macro')\n",
        "f1 = f1_score(y_test, y_pred, average='macro')\n",
        "r2 = r2_score(y_test, y_pred)\n",
        "mse = mean_squared_error(y_test, y_pred)\n",
        "print(f'Accuracy: {accuracy}')\n",
        "print(f'Matriz de Confusión:\\n{confusion}')\n",
        "print(f'Precisión: {precision}')\n",
        "print(f'Recall: {recall}')\n",
        "print(f'Puntuación F1: {f1}')\n",
        "print(f'R-cuadrado: {r2}')\n",
        "print(f'Error Cuadrático Medio (MSE): {mse}')"
      ]
    },
    {
      "cell_type": "markdown",
      "source": [
        "* Corpus 1"
      ],
      "metadata": {
        "id": "iwfnaGMQtSjD"
      }
    },
    {
      "cell_type": "code",
      "source": [
        "accuracy = accuracy_score(y_test1, y_pred1)\n",
        "confusion = confusion_matrix(y_test1, y_pred1)\n",
        "precision = precision_score(y_test1, y_pred1, average='macro')\n",
        "recall = recall_score(y_test1, y_pred1, average='macro')\n",
        "f1 = f1_score(y_test1, y_pred1, average='macro')\n",
        "r2 = r2_score(y_test1, y_pred1)\n",
        "mse = mean_squared_error(y_test1, y_pred1)\n",
        "print(f'Accuracy: {accuracy}')\n",
        "print(f'Matriz de Confusión:\\n{confusion}')\n",
        "print(f'Precisión: {precision}')\n",
        "print(f'Recall: {recall}')\n",
        "print(f'Puntuación F1: {f1}')\n",
        "print(f'R-cuadrado: {r2}')\n",
        "print(f'Error Cuadrático Medio (MSE): {mse}')"
      ],
      "metadata": {
        "id": "NPJW9iKOtRv5",
        "colab": {
          "base_uri": "https://localhost:8080/"
        },
        "outputId": "201cb034-4468-45b0-fea7-9391edf3e198"
      },
      "execution_count": null,
      "outputs": [
        {
          "output_type": "stream",
          "name": "stdout",
          "text": [
            "Accuracy: 0.8564850345356869\n",
            "Matriz de Confusión:\n",
            "[[1908    0    0 ...    0    0    0]\n",
            " [   0    6    0 ...    0    0    0]\n",
            " [   0    0    0 ...    0    0    0]\n",
            " ...\n",
            " [   0    0    0 ...    0    0    0]\n",
            " [   0    3    0 ...    0    2    0]\n",
            " [   0    0    0 ...    0    0    0]]\n",
            "Precisión: 0.4726723050466335\n",
            "Recall: 0.5501220740990562\n",
            "Puntuación F1: 0.48729688165419344\n",
            "R-cuadrado: 0.6407109852909733\n",
            "Error Cuadrático Medio (MSE): 65.10437452033769\n"
          ]
        },
        {
          "output_type": "stream",
          "name": "stderr",
          "text": [
            "/usr/local/lib/python3.10/dist-packages/sklearn/metrics/_classification.py:1344: UndefinedMetricWarning: Precision is ill-defined and being set to 0.0 in labels with no predicted samples. Use `zero_division` parameter to control this behavior.\n",
            "  _warn_prf(average, modifier, msg_start, len(result))\n",
            "/usr/local/lib/python3.10/dist-packages/sklearn/metrics/_classification.py:1344: UndefinedMetricWarning: Recall is ill-defined and being set to 0.0 in labels with no true samples. Use `zero_division` parameter to control this behavior.\n",
            "  _warn_prf(average, modifier, msg_start, len(result))\n"
          ]
        }
      ]
    },
    {
      "cell_type": "markdown",
      "metadata": {
        "id": "wJGs67PWpN1V"
      },
      "source": [
        "#**Naive Bayes**"
      ]
    },
    {
      "cell_type": "markdown",
      "metadata": {
        "id": "vX0DauAInCba"
      },
      "source": [
        "##Modelo Base"
      ]
    },
    {
      "cell_type": "markdown",
      "metadata": {
        "id": "OLDbyyapnCbi"
      },
      "source": [
        "* Preprocesado original"
      ]
    },
    {
      "cell_type": "code",
      "execution_count": null,
      "metadata": {
        "colab": {
          "base_uri": "https://localhost:8080/",
          "height": 75
        },
        "id": "YhArgABgzP8N",
        "outputId": "ecaf385d-07b6-438d-bf45-f6defe1ba01f"
      },
      "outputs": [
        {
          "output_type": "execute_result",
          "data": {
            "text/plain": [
              "GaussianNB()"
            ],
            "text/html": [
              "<style>#sk-container-id-5 {color: black;background-color: white;}#sk-container-id-5 pre{padding: 0;}#sk-container-id-5 div.sk-toggleable {background-color: white;}#sk-container-id-5 label.sk-toggleable__label {cursor: pointer;display: block;width: 100%;margin-bottom: 0;padding: 0.3em;box-sizing: border-box;text-align: center;}#sk-container-id-5 label.sk-toggleable__label-arrow:before {content: \"▸\";float: left;margin-right: 0.25em;color: #696969;}#sk-container-id-5 label.sk-toggleable__label-arrow:hover:before {color: black;}#sk-container-id-5 div.sk-estimator:hover label.sk-toggleable__label-arrow:before {color: black;}#sk-container-id-5 div.sk-toggleable__content {max-height: 0;max-width: 0;overflow: hidden;text-align: left;background-color: #f0f8ff;}#sk-container-id-5 div.sk-toggleable__content pre {margin: 0.2em;color: black;border-radius: 0.25em;background-color: #f0f8ff;}#sk-container-id-5 input.sk-toggleable__control:checked~div.sk-toggleable__content {max-height: 200px;max-width: 100%;overflow: auto;}#sk-container-id-5 input.sk-toggleable__control:checked~label.sk-toggleable__label-arrow:before {content: \"▾\";}#sk-container-id-5 div.sk-estimator input.sk-toggleable__control:checked~label.sk-toggleable__label {background-color: #d4ebff;}#sk-container-id-5 div.sk-label input.sk-toggleable__control:checked~label.sk-toggleable__label {background-color: #d4ebff;}#sk-container-id-5 input.sk-hidden--visually {border: 0;clip: rect(1px 1px 1px 1px);clip: rect(1px, 1px, 1px, 1px);height: 1px;margin: -1px;overflow: hidden;padding: 0;position: absolute;width: 1px;}#sk-container-id-5 div.sk-estimator {font-family: monospace;background-color: #f0f8ff;border: 1px dotted black;border-radius: 0.25em;box-sizing: border-box;margin-bottom: 0.5em;}#sk-container-id-5 div.sk-estimator:hover {background-color: #d4ebff;}#sk-container-id-5 div.sk-parallel-item::after {content: \"\";width: 100%;border-bottom: 1px solid gray;flex-grow: 1;}#sk-container-id-5 div.sk-label:hover label.sk-toggleable__label {background-color: #d4ebff;}#sk-container-id-5 div.sk-serial::before {content: \"\";position: absolute;border-left: 1px solid gray;box-sizing: border-box;top: 0;bottom: 0;left: 50%;z-index: 0;}#sk-container-id-5 div.sk-serial {display: flex;flex-direction: column;align-items: center;background-color: white;padding-right: 0.2em;padding-left: 0.2em;position: relative;}#sk-container-id-5 div.sk-item {position: relative;z-index: 1;}#sk-container-id-5 div.sk-parallel {display: flex;align-items: stretch;justify-content: center;background-color: white;position: relative;}#sk-container-id-5 div.sk-item::before, #sk-container-id-5 div.sk-parallel-item::before {content: \"\";position: absolute;border-left: 1px solid gray;box-sizing: border-box;top: 0;bottom: 0;left: 50%;z-index: -1;}#sk-container-id-5 div.sk-parallel-item {display: flex;flex-direction: column;z-index: 1;position: relative;background-color: white;}#sk-container-id-5 div.sk-parallel-item:first-child::after {align-self: flex-end;width: 50%;}#sk-container-id-5 div.sk-parallel-item:last-child::after {align-self: flex-start;width: 50%;}#sk-container-id-5 div.sk-parallel-item:only-child::after {width: 0;}#sk-container-id-5 div.sk-dashed-wrapped {border: 1px dashed gray;margin: 0 0.4em 0.5em 0.4em;box-sizing: border-box;padding-bottom: 0.4em;background-color: white;}#sk-container-id-5 div.sk-label label {font-family: monospace;font-weight: bold;display: inline-block;line-height: 1.2em;}#sk-container-id-5 div.sk-label-container {text-align: center;}#sk-container-id-5 div.sk-container {/* jupyter's `normalize.less` sets `[hidden] { display: none; }` but bootstrap.min.css set `[hidden] { display: none !important; }` so we also need the `!important` here to be able to override the default hidden behavior on the sphinx rendered scikit-learn.org. See: https://github.com/scikit-learn/scikit-learn/issues/21755 */display: inline-block !important;position: relative;}#sk-container-id-5 div.sk-text-repr-fallback {display: none;}</style><div id=\"sk-container-id-5\" class=\"sk-top-container\"><div class=\"sk-text-repr-fallback\"><pre>GaussianNB()</pre><b>In a Jupyter environment, please rerun this cell to show the HTML representation or trust the notebook. <br />On GitHub, the HTML representation is unable to render, please try loading this page with nbviewer.org.</b></div><div class=\"sk-container\" hidden><div class=\"sk-item\"><div class=\"sk-estimator sk-toggleable\"><input class=\"sk-toggleable__control sk-hidden--visually\" id=\"sk-estimator-id-5\" type=\"checkbox\" checked><label for=\"sk-estimator-id-5\" class=\"sk-toggleable__label sk-toggleable__label-arrow\">GaussianNB</label><div class=\"sk-toggleable__content\"><pre>GaussianNB()</pre></div></div></div></div></div>"
            ]
          },
          "metadata": {},
          "execution_count": 41
        }
      ],
      "source": [
        "classifier = GaussianNB()\n",
        "classifier.fit(X_train, y_train)"
      ]
    },
    {
      "cell_type": "code",
      "execution_count": null,
      "metadata": {
        "colab": {
          "base_uri": "https://localhost:8080/"
        },
        "id": "PGqPopBMzWO4",
        "outputId": "b87a0c41-7031-4417-b5cd-ca0adb6a083b"
      },
      "outputs": [
        {
          "output_type": "stream",
          "name": "stdout",
          "text": [
            "[[ 9  2]\n",
            " [ 9  2]\n",
            " [ 9  9]\n",
            " ...\n",
            " [ 1  1]\n",
            " [10 10]\n",
            " [ 6  6]]\n"
          ]
        }
      ],
      "source": [
        "y_pred = classifier.predict(X_test)\n",
        "print(np.concatenate((y_pred.reshape(len(y_pred),1), y_test.reshape(len(y_test),1)),1))"
      ]
    },
    {
      "cell_type": "markdown",
      "metadata": {
        "id": "uVMOmNNsnCbi"
      },
      "source": [
        "* Corpus 1"
      ]
    },
    {
      "cell_type": "code",
      "source": [
        "classifier1 = GaussianNB()\n",
        "classifier1.fit(X_train1, y_train1)"
      ],
      "metadata": {
        "id": "bh1OZgepuGej",
        "colab": {
          "base_uri": "https://localhost:8080/",
          "height": 75
        },
        "outputId": "ebb29942-3110-427b-b356-92c98a944353"
      },
      "execution_count": null,
      "outputs": [
        {
          "output_type": "execute_result",
          "data": {
            "text/plain": [
              "GaussianNB()"
            ],
            "text/html": [
              "<style>#sk-container-id-6 {color: black;background-color: white;}#sk-container-id-6 pre{padding: 0;}#sk-container-id-6 div.sk-toggleable {background-color: white;}#sk-container-id-6 label.sk-toggleable__label {cursor: pointer;display: block;width: 100%;margin-bottom: 0;padding: 0.3em;box-sizing: border-box;text-align: center;}#sk-container-id-6 label.sk-toggleable__label-arrow:before {content: \"▸\";float: left;margin-right: 0.25em;color: #696969;}#sk-container-id-6 label.sk-toggleable__label-arrow:hover:before {color: black;}#sk-container-id-6 div.sk-estimator:hover label.sk-toggleable__label-arrow:before {color: black;}#sk-container-id-6 div.sk-toggleable__content {max-height: 0;max-width: 0;overflow: hidden;text-align: left;background-color: #f0f8ff;}#sk-container-id-6 div.sk-toggleable__content pre {margin: 0.2em;color: black;border-radius: 0.25em;background-color: #f0f8ff;}#sk-container-id-6 input.sk-toggleable__control:checked~div.sk-toggleable__content {max-height: 200px;max-width: 100%;overflow: auto;}#sk-container-id-6 input.sk-toggleable__control:checked~label.sk-toggleable__label-arrow:before {content: \"▾\";}#sk-container-id-6 div.sk-estimator input.sk-toggleable__control:checked~label.sk-toggleable__label {background-color: #d4ebff;}#sk-container-id-6 div.sk-label input.sk-toggleable__control:checked~label.sk-toggleable__label {background-color: #d4ebff;}#sk-container-id-6 input.sk-hidden--visually {border: 0;clip: rect(1px 1px 1px 1px);clip: rect(1px, 1px, 1px, 1px);height: 1px;margin: -1px;overflow: hidden;padding: 0;position: absolute;width: 1px;}#sk-container-id-6 div.sk-estimator {font-family: monospace;background-color: #f0f8ff;border: 1px dotted black;border-radius: 0.25em;box-sizing: border-box;margin-bottom: 0.5em;}#sk-container-id-6 div.sk-estimator:hover {background-color: #d4ebff;}#sk-container-id-6 div.sk-parallel-item::after {content: \"\";width: 100%;border-bottom: 1px solid gray;flex-grow: 1;}#sk-container-id-6 div.sk-label:hover label.sk-toggleable__label {background-color: #d4ebff;}#sk-container-id-6 div.sk-serial::before {content: \"\";position: absolute;border-left: 1px solid gray;box-sizing: border-box;top: 0;bottom: 0;left: 50%;z-index: 0;}#sk-container-id-6 div.sk-serial {display: flex;flex-direction: column;align-items: center;background-color: white;padding-right: 0.2em;padding-left: 0.2em;position: relative;}#sk-container-id-6 div.sk-item {position: relative;z-index: 1;}#sk-container-id-6 div.sk-parallel {display: flex;align-items: stretch;justify-content: center;background-color: white;position: relative;}#sk-container-id-6 div.sk-item::before, #sk-container-id-6 div.sk-parallel-item::before {content: \"\";position: absolute;border-left: 1px solid gray;box-sizing: border-box;top: 0;bottom: 0;left: 50%;z-index: -1;}#sk-container-id-6 div.sk-parallel-item {display: flex;flex-direction: column;z-index: 1;position: relative;background-color: white;}#sk-container-id-6 div.sk-parallel-item:first-child::after {align-self: flex-end;width: 50%;}#sk-container-id-6 div.sk-parallel-item:last-child::after {align-self: flex-start;width: 50%;}#sk-container-id-6 div.sk-parallel-item:only-child::after {width: 0;}#sk-container-id-6 div.sk-dashed-wrapped {border: 1px dashed gray;margin: 0 0.4em 0.5em 0.4em;box-sizing: border-box;padding-bottom: 0.4em;background-color: white;}#sk-container-id-6 div.sk-label label {font-family: monospace;font-weight: bold;display: inline-block;line-height: 1.2em;}#sk-container-id-6 div.sk-label-container {text-align: center;}#sk-container-id-6 div.sk-container {/* jupyter's `normalize.less` sets `[hidden] { display: none; }` but bootstrap.min.css set `[hidden] { display: none !important; }` so we also need the `!important` here to be able to override the default hidden behavior on the sphinx rendered scikit-learn.org. See: https://github.com/scikit-learn/scikit-learn/issues/21755 */display: inline-block !important;position: relative;}#sk-container-id-6 div.sk-text-repr-fallback {display: none;}</style><div id=\"sk-container-id-6\" class=\"sk-top-container\"><div class=\"sk-text-repr-fallback\"><pre>GaussianNB()</pre><b>In a Jupyter environment, please rerun this cell to show the HTML representation or trust the notebook. <br />On GitHub, the HTML representation is unable to render, please try loading this page with nbviewer.org.</b></div><div class=\"sk-container\" hidden><div class=\"sk-item\"><div class=\"sk-estimator sk-toggleable\"><input class=\"sk-toggleable__control sk-hidden--visually\" id=\"sk-estimator-id-6\" type=\"checkbox\" checked><label for=\"sk-estimator-id-6\" class=\"sk-toggleable__label sk-toggleable__label-arrow\">GaussianNB</label><div class=\"sk-toggleable__content\"><pre>GaussianNB()</pre></div></div></div></div></div>"
            ]
          },
          "metadata": {},
          "execution_count": 43
        }
      ]
    },
    {
      "cell_type": "code",
      "source": [
        "y_pred1 = classifier1.predict(X_test1)\n",
        "print(np.concatenate((y_pred1.reshape(len(y_pred1),1), y_test1.reshape(len(y_test1),1)),1))"
      ],
      "metadata": {
        "id": "NAAWsyewuJ36",
        "colab": {
          "base_uri": "https://localhost:8080/"
        },
        "outputId": "82d4f2c3-d4b9-47e3-c946-d260a37b82cd"
      },
      "execution_count": null,
      "outputs": [
        {
          "output_type": "stream",
          "name": "stdout",
          "text": [
            "[[ 0  0]\n",
            " [ 0  0]\n",
            " [27 27]\n",
            " ...\n",
            " [27 27]\n",
            " [ 0  0]\n",
            " [35 35]]\n"
          ]
        }
      ]
    },
    {
      "cell_type": "markdown",
      "metadata": {
        "id": "LcgfpeobnCbi"
      },
      "source": [
        "##Modelo Optimizado"
      ]
    },
    {
      "cell_type": "markdown",
      "metadata": {
        "id": "PHzWEqvqnCbj"
      },
      "source": [
        "* Preprocesado original"
      ]
    },
    {
      "cell_type": "code",
      "execution_count": null,
      "metadata": {
        "colab": {
          "base_uri": "https://localhost:8080/"
        },
        "id": "LP0ujPRf6Bqi",
        "outputId": "b14a1071-b454-4572-cb9c-e73c96eff609"
      },
      "outputs": [
        {
          "output_type": "stream",
          "name": "stdout",
          "text": [
            "Mejor Accuracy: 55.53 %\n",
            "Mejores hiperparámetros para Naive Bayes: {'priors': None, 'var_smoothing': 1e-07}\n"
          ]
        },
        {
          "output_type": "stream",
          "name": "stderr",
          "text": [
            "/usr/local/lib/python3.10/dist-packages/sklearn/model_selection/_validation.py:378: FitFailedWarning: \n",
            "20 fits failed out of a total of 30.\n",
            "The score on these train-test partitions for these parameters will be set to nan.\n",
            "If these failures are not expected, you can try to debug them by setting error_score='raise'.\n",
            "\n",
            "Below are more details about the failures:\n",
            "--------------------------------------------------------------------------------\n",
            "20 fits failed with the following error:\n",
            "Traceback (most recent call last):\n",
            "  File \"/usr/local/lib/python3.10/dist-packages/sklearn/model_selection/_validation.py\", line 686, in _fit_and_score\n",
            "    estimator.fit(X_train, y_train, **fit_params)\n",
            "  File \"/usr/local/lib/python3.10/dist-packages/sklearn/naive_bayes.py\", line 267, in fit\n",
            "    return self._partial_fit(\n",
            "  File \"/usr/local/lib/python3.10/dist-packages/sklearn/naive_bayes.py\", line 454, in _partial_fit\n",
            "    raise ValueError(\"Number of priors must match number of classes.\")\n",
            "ValueError: Number of priors must match number of classes.\n",
            "\n",
            "  warnings.warn(some_fits_failed_message, FitFailedWarning)\n",
            "/usr/local/lib/python3.10/dist-packages/sklearn/model_selection/_search.py:952: UserWarning: One or more of the test scores are non-finite: [0.55162259 0.5552686         nan        nan        nan        nan]\n",
            "  warnings.warn(\n"
          ]
        }
      ],
      "source": [
        "param_grid = {\n",
        "    'priors': [None, [0.2, 0.8], [0.5, 0.5]],\n",
        "    'var_smoothing': [1e-9, 1e-7]}\n",
        "\n",
        "grid_search = GridSearchCV(classifier, param_grid, cv=5, scoring='accuracy', n_jobs = -1)\n",
        "grid_search.fit(X_train, y_train)\n",
        "\n",
        "best_params = grid_search.best_params_\n",
        "best_accuracy = grid_search.best_score_\n",
        "\n",
        "print(\"Mejor Accuracy: {:.2f} %\".format(best_accuracy * 100))\n",
        "print(\"Mejores hiperparámetros para Naive Bayes:\", best_params)"
      ]
    },
    {
      "cell_type": "markdown",
      "metadata": {
        "id": "enOPalBnnCbj"
      },
      "source": [
        "* Corpus 1"
      ]
    },
    {
      "cell_type": "code",
      "source": [
        "param_grid = {\n",
        "    'priors': [None, [0.2, 0.8], [0.5, 0.5]],\n",
        "    'var_smoothing': [1e-9, 1e-7]}\n",
        "\n",
        "grid_search1 = GridSearchCV(classifier1, param_grid, cv=5, scoring='accuracy', n_jobs = -1)\n",
        "grid_search1.fit(X_train1, y_train1)\n",
        "\n",
        "best_params1 = grid_search1.best_params_\n",
        "best_accuracy1 = grid_search1.best_score_\n",
        "\n",
        "print(\"Mejor Accuracy: {:.2f} %\".format(best_accuracy1 * 100))\n",
        "print(\"Mejores hiperparámetros para Naive Bayes:\", best_params1)"
      ],
      "metadata": {
        "id": "OGaSvmKKui0p",
        "colab": {
          "base_uri": "https://localhost:8080/"
        },
        "outputId": "644e14fc-38b5-4e00-e265-26640caed093"
      },
      "execution_count": null,
      "outputs": [
        {
          "output_type": "stream",
          "name": "stderr",
          "text": [
            "/usr/local/lib/python3.10/dist-packages/sklearn/model_selection/_split.py:700: UserWarning: The least populated class in y has only 1 members, which is less than n_splits=5.\n",
            "  warnings.warn(\n"
          ]
        },
        {
          "output_type": "stream",
          "name": "stdout",
          "text": [
            "Mejor Accuracy: 94.91 %\n",
            "Mejores hiperparámetros para Naive Bayes: {'priors': None, 'var_smoothing': 1e-07}\n"
          ]
        },
        {
          "output_type": "stream",
          "name": "stderr",
          "text": [
            "/usr/local/lib/python3.10/dist-packages/sklearn/model_selection/_validation.py:378: FitFailedWarning: \n",
            "20 fits failed out of a total of 30.\n",
            "The score on these train-test partitions for these parameters will be set to nan.\n",
            "If these failures are not expected, you can try to debug them by setting error_score='raise'.\n",
            "\n",
            "Below are more details about the failures:\n",
            "--------------------------------------------------------------------------------\n",
            "20 fits failed with the following error:\n",
            "Traceback (most recent call last):\n",
            "  File \"/usr/local/lib/python3.10/dist-packages/sklearn/model_selection/_validation.py\", line 686, in _fit_and_score\n",
            "    estimator.fit(X_train, y_train, **fit_params)\n",
            "  File \"/usr/local/lib/python3.10/dist-packages/sklearn/naive_bayes.py\", line 267, in fit\n",
            "    return self._partial_fit(\n",
            "  File \"/usr/local/lib/python3.10/dist-packages/sklearn/naive_bayes.py\", line 454, in _partial_fit\n",
            "    raise ValueError(\"Number of priors must match number of classes.\")\n",
            "ValueError: Number of priors must match number of classes.\n",
            "\n",
            "  warnings.warn(some_fits_failed_message, FitFailedWarning)\n",
            "/usr/local/lib/python3.10/dist-packages/sklearn/model_selection/_search.py:952: UserWarning: One or more of the test scores are non-finite: [0.94847508 0.94905062        nan        nan        nan        nan]\n",
            "  warnings.warn(\n"
          ]
        }
      ]
    },
    {
      "cell_type": "markdown",
      "metadata": {
        "id": "mAGro0cunCbj"
      },
      "source": [
        "##Evaluación"
      ]
    },
    {
      "cell_type": "markdown",
      "source": [
        "* Preprocesado original"
      ],
      "metadata": {
        "id": "HvdCZjhQt1wj"
      }
    },
    {
      "cell_type": "code",
      "execution_count": null,
      "metadata": {
        "colab": {
          "base_uri": "https://localhost:8080/"
        },
        "id": "-Bf2Y7p-zeVF",
        "outputId": "54d3bb22-fcfb-40fa-c691-2f1c5936d30d"
      },
      "outputs": [
        {
          "output_type": "stream",
          "name": "stdout",
          "text": [
            "Accuracy: 0.5448963929393706\n",
            "Matriz de Confusión:\n",
            "[[ 22   4   0   0   0   0   0   0   0   3   0]\n",
            " [ 33 211  26   0 118  80  21   0   0 115   0]\n",
            " [  9  25 109   2  14   2  10   0   2 124   4]\n",
            " [  0   0   0  82   0   0   1   7   1  11   0]\n",
            " [  1   1   0   0  33   4   0   0   0   7   0]\n",
            " [  0   0   0   0   0   5   0   0   0   0   0]\n",
            " [ 11  49  24   0   5   8 194   1   0 171   1]\n",
            " [  0   2   0   8   0   0   0   8   2   6  11]\n",
            " [  0   0   0  26   0   0   0   3   5   6   0]\n",
            " [  5  32  11   0  10   0   1   0   0 538   1]\n",
            " [  1  12  13  75   0   0   0   4   0  62 213]]\n",
            "Precisión: 0.48136040761102966\n",
            "Recall: 0.5646280989948194\n",
            "Puntuación F1 (F1-Score): 0.420190670029825\n",
            "R-cuadrado: 0.046166991206544106\n",
            "Error Cuadrático Medio (MSE): 12.080583269378357\n"
          ]
        }
      ],
      "source": [
        "accuracy = accuracy_score(y_test, y_pred)\n",
        "confusion = confusion_matrix(y_test, y_pred)\n",
        "precision = precision_score(y_test, y_pred, average='macro')\n",
        "recall = recall_score(y_test, y_pred, average='macro')\n",
        "f1 = f1_score(y_test, y_pred, average='macro')\n",
        "r2 = r2_score(y_test, y_pred)\n",
        "mse = mean_squared_error(y_test, y_pred)\n",
        "print(f'Accuracy: {accuracy}')\n",
        "print(f'Matriz de Confusión:\\n{confusion}')\n",
        "print(f'Precisión: {precision}')\n",
        "print(f'Recall: {recall}')\n",
        "print(f'Puntuación F1 (F1-Score): {f1}')"
      ]
    },
    {
      "cell_type": "markdown",
      "source": [
        "* Corpus 1"
      ],
      "metadata": {
        "id": "9AwN3QBrt1R4"
      }
    },
    {
      "cell_type": "code",
      "source": [
        "accuracy = accuracy_score(y_test1, y_pred1)\n",
        "confusion = confusion_matrix(y_test1, y_pred1)\n",
        "precision = precision_score(y_test1, y_pred1, average='macro')\n",
        "recall = recall_score(y_test1, y_pred1, average='macro')\n",
        "f1 = f1_score(y_test1, y_pred1, average='macro')\n",
        "print(f'Accuracy: {accuracy}')\n",
        "print(f'Matriz de Confusión:\\n{confusion}')\n",
        "print(f'Precisión: {precision}')\n",
        "print(f'Recall: {recall}')\n",
        "print(f'Puntuación F1: {f1}')"
      ],
      "metadata": {
        "id": "UH2UcNFhtr6Y",
        "colab": {
          "base_uri": "https://localhost:8080/"
        },
        "outputId": "5ec4fdaf-d5c4-4075-86a4-f4218de70251"
      },
      "execution_count": null,
      "outputs": [
        {
          "output_type": "stream",
          "name": "stdout",
          "text": [
            "Accuracy: 0.9497313891020721\n",
            "Matriz de Confusión:\n",
            "[[1815    0    0 ...    0    0    0]\n",
            " [   0    6    0 ...    0    0    0]\n",
            " [   0    0    2 ...    0    0    0]\n",
            " ...\n",
            " [   0    0    0 ...    7    0    0]\n",
            " [   0    0    0 ...    0    5    0]\n",
            " [   0    0    0 ...    0    0   11]]\n",
            "Precisión: 0.9003487651388435\n",
            "Recall: 0.9287454226973807\n",
            "Puntuación F1: 0.9085623848526784\n"
          ]
        },
        {
          "output_type": "stream",
          "name": "stderr",
          "text": [
            "/usr/local/lib/python3.10/dist-packages/sklearn/metrics/_classification.py:1344: UndefinedMetricWarning: Precision is ill-defined and being set to 0.0 in labels with no predicted samples. Use `zero_division` parameter to control this behavior.\n",
            "  _warn_prf(average, modifier, msg_start, len(result))\n"
          ]
        }
      ]
    },
    {
      "cell_type": "markdown",
      "metadata": {
        "id": "fNiDxjJGpQej"
      },
      "source": [
        "#**K-vecinos**"
      ]
    },
    {
      "cell_type": "markdown",
      "metadata": {
        "id": "aCxSQYD3nAYx"
      },
      "source": [
        "##Modelo Base"
      ]
    },
    {
      "cell_type": "markdown",
      "metadata": {
        "id": "_TumBzEnnAZG"
      },
      "source": [
        "* Preprocesado original"
      ]
    },
    {
      "cell_type": "code",
      "execution_count": null,
      "metadata": {
        "id": "0ei_HudKotmq",
        "colab": {
          "base_uri": "https://localhost:8080/",
          "height": 74
        },
        "outputId": "8c26f06f-d4e6-40db-89ed-7a68c93a3128"
      },
      "outputs": [
        {
          "output_type": "execute_result",
          "data": {
            "text/plain": [
              "KNeighborsClassifier()"
            ],
            "text/html": [
              "<style>#sk-container-id-1 {color: black;background-color: white;}#sk-container-id-1 pre{padding: 0;}#sk-container-id-1 div.sk-toggleable {background-color: white;}#sk-container-id-1 label.sk-toggleable__label {cursor: pointer;display: block;width: 100%;margin-bottom: 0;padding: 0.3em;box-sizing: border-box;text-align: center;}#sk-container-id-1 label.sk-toggleable__label-arrow:before {content: \"▸\";float: left;margin-right: 0.25em;color: #696969;}#sk-container-id-1 label.sk-toggleable__label-arrow:hover:before {color: black;}#sk-container-id-1 div.sk-estimator:hover label.sk-toggleable__label-arrow:before {color: black;}#sk-container-id-1 div.sk-toggleable__content {max-height: 0;max-width: 0;overflow: hidden;text-align: left;background-color: #f0f8ff;}#sk-container-id-1 div.sk-toggleable__content pre {margin: 0.2em;color: black;border-radius: 0.25em;background-color: #f0f8ff;}#sk-container-id-1 input.sk-toggleable__control:checked~div.sk-toggleable__content {max-height: 200px;max-width: 100%;overflow: auto;}#sk-container-id-1 input.sk-toggleable__control:checked~label.sk-toggleable__label-arrow:before {content: \"▾\";}#sk-container-id-1 div.sk-estimator input.sk-toggleable__control:checked~label.sk-toggleable__label {background-color: #d4ebff;}#sk-container-id-1 div.sk-label input.sk-toggleable__control:checked~label.sk-toggleable__label {background-color: #d4ebff;}#sk-container-id-1 input.sk-hidden--visually {border: 0;clip: rect(1px 1px 1px 1px);clip: rect(1px, 1px, 1px, 1px);height: 1px;margin: -1px;overflow: hidden;padding: 0;position: absolute;width: 1px;}#sk-container-id-1 div.sk-estimator {font-family: monospace;background-color: #f0f8ff;border: 1px dotted black;border-radius: 0.25em;box-sizing: border-box;margin-bottom: 0.5em;}#sk-container-id-1 div.sk-estimator:hover {background-color: #d4ebff;}#sk-container-id-1 div.sk-parallel-item::after {content: \"\";width: 100%;border-bottom: 1px solid gray;flex-grow: 1;}#sk-container-id-1 div.sk-label:hover label.sk-toggleable__label {background-color: #d4ebff;}#sk-container-id-1 div.sk-serial::before {content: \"\";position: absolute;border-left: 1px solid gray;box-sizing: border-box;top: 0;bottom: 0;left: 50%;z-index: 0;}#sk-container-id-1 div.sk-serial {display: flex;flex-direction: column;align-items: center;background-color: white;padding-right: 0.2em;padding-left: 0.2em;position: relative;}#sk-container-id-1 div.sk-item {position: relative;z-index: 1;}#sk-container-id-1 div.sk-parallel {display: flex;align-items: stretch;justify-content: center;background-color: white;position: relative;}#sk-container-id-1 div.sk-item::before, #sk-container-id-1 div.sk-parallel-item::before {content: \"\";position: absolute;border-left: 1px solid gray;box-sizing: border-box;top: 0;bottom: 0;left: 50%;z-index: -1;}#sk-container-id-1 div.sk-parallel-item {display: flex;flex-direction: column;z-index: 1;position: relative;background-color: white;}#sk-container-id-1 div.sk-parallel-item:first-child::after {align-self: flex-end;width: 50%;}#sk-container-id-1 div.sk-parallel-item:last-child::after {align-self: flex-start;width: 50%;}#sk-container-id-1 div.sk-parallel-item:only-child::after {width: 0;}#sk-container-id-1 div.sk-dashed-wrapped {border: 1px dashed gray;margin: 0 0.4em 0.5em 0.4em;box-sizing: border-box;padding-bottom: 0.4em;background-color: white;}#sk-container-id-1 div.sk-label label {font-family: monospace;font-weight: bold;display: inline-block;line-height: 1.2em;}#sk-container-id-1 div.sk-label-container {text-align: center;}#sk-container-id-1 div.sk-container {/* jupyter's `normalize.less` sets `[hidden] { display: none; }` but bootstrap.min.css set `[hidden] { display: none !important; }` so we also need the `!important` here to be able to override the default hidden behavior on the sphinx rendered scikit-learn.org. See: https://github.com/scikit-learn/scikit-learn/issues/21755 */display: inline-block !important;position: relative;}#sk-container-id-1 div.sk-text-repr-fallback {display: none;}</style><div id=\"sk-container-id-1\" class=\"sk-top-container\"><div class=\"sk-text-repr-fallback\"><pre>KNeighborsClassifier()</pre><b>In a Jupyter environment, please rerun this cell to show the HTML representation or trust the notebook. <br />On GitHub, the HTML representation is unable to render, please try loading this page with nbviewer.org.</b></div><div class=\"sk-container\" hidden><div class=\"sk-item\"><div class=\"sk-estimator sk-toggleable\"><input class=\"sk-toggleable__control sk-hidden--visually\" id=\"sk-estimator-id-1\" type=\"checkbox\" checked><label for=\"sk-estimator-id-1\" class=\"sk-toggleable__label sk-toggleable__label-arrow\">KNeighborsClassifier</label><div class=\"sk-toggleable__content\"><pre>KNeighborsClassifier()</pre></div></div></div></div></div>"
            ]
          },
          "metadata": {},
          "execution_count": 17
        }
      ],
      "source": [
        "classifier = KNeighborsClassifier(n_neighbors = 5, metric = 'minkowski', p = 2)\n",
        "classifier.fit(X_train, y_train)"
      ]
    },
    {
      "cell_type": "markdown",
      "metadata": {
        "id": "S1rh80i_nAZG"
      },
      "source": [
        "* Corpus 1"
      ]
    },
    {
      "cell_type": "code",
      "source": [
        "classifier1 = KNeighborsClassifier(n_neighbors = 5, metric = 'minkowski', p = 2)\n",
        "classifier1.fit(X_train1, y_train1)\n",
        "y_pred1 = classifier1.predict(X_test1)"
      ],
      "metadata": {
        "id": "aJ333rg8x7V7"
      },
      "execution_count": null,
      "outputs": []
    },
    {
      "cell_type": "markdown",
      "metadata": {
        "id": "i8MXQsDnnAZH"
      },
      "source": [
        "##Modelo Optimizado"
      ]
    },
    {
      "cell_type": "markdown",
      "metadata": {
        "id": "oRxPLfqonAZH"
      },
      "source": [
        "* Preprocesado original"
      ]
    },
    {
      "cell_type": "code",
      "execution_count": null,
      "metadata": {
        "id": "xJo1z4NjpjaQ",
        "colab": {
          "base_uri": "https://localhost:8080/"
        },
        "outputId": "60d47fad-9e78-4ffc-de45-8e4b0d46c1fd"
      },
      "outputs": [
        {
          "output_type": "stream",
          "name": "stdout",
          "text": [
            "Mejor Accuracy: 92.81 %\n",
            "Mejores hiperparámetros para los K-Vecinos: {'n_neighbors': 3, 'p': 1, 'weights': 'distance'}\n"
          ]
        }
      ],
      "source": [
        "param_grid = {\n",
        "    'n_neighbors': [3, 5, 7, 9],  # Número de vecinos cercanos\n",
        "    'weights': ['uniform', 'distance'],  # Método de ponderación\n",
        "    'p': [1, 2]  # Parámetro de distancia (1 para la distancia de Manhattan, 2 para la distancia Euclidiana)\n",
        "}\n",
        "\n",
        "grid_search = GridSearchCV(classifier, param_grid, cv=5, scoring='accuracy')\n",
        "grid_search.fit(X_train, y_train)\n",
        "\n",
        "best_params = grid_search.best_params_\n",
        "best_accuracy = grid_search.best_score_\n",
        "\n",
        "print(\"Mejor Accuracy: {:.2f} %\".format(best_accuracy*100))\n",
        "print(\"Mejores hiperparámetros para los K-Vecinos:\", best_params)"
      ]
    },
    {
      "cell_type": "markdown",
      "metadata": {
        "id": "LMDC-tOonAZH"
      },
      "source": [
        "* Corpus 1"
      ]
    },
    {
      "cell_type": "code",
      "source": [
        "param_grid = {\n",
        "    'n_neighbors': [3, 5, 7, 9],  # Número de vecinos cercanos\n",
        "    'weights': ['uniform', 'distance'],  # Método de ponderación\n",
        "    'p': [1, 2]  # Parámetro de distancia (1 para la distancia de Manhattan, 2 para la distancia Euclidiana)\n",
        "}\n",
        "\n",
        "grid_search1 = GridSearchCV(classifier1, param_grid, cv=5, scoring='accuracy')\n",
        "grid_search1.fit(X_train1, y_train1)\n",
        "\n",
        "best_params1 = grid_search1.best_params_\n",
        "best_accuracy1 = grid_search1.best_score_\n",
        "\n",
        "print(\"Mejor Accuracy: {:.2f} %\".format(best_accuracy1*100))\n",
        "print(\"Mejores hiperparámetros para los K-Vecinos:\", best_params1)"
      ],
      "metadata": {
        "id": "oKutsOps0RNC",
        "colab": {
          "base_uri": "https://localhost:8080/"
        },
        "outputId": "f0d39539-d443-41cc-9aaa-f06a419f20ba"
      },
      "execution_count": null,
      "outputs": [
        {
          "output_type": "stream",
          "name": "stderr",
          "text": [
            "/usr/local/lib/python3.10/dist-packages/sklearn/model_selection/_split.py:700: UserWarning: The least populated class in y has only 1 members, which is less than n_splits=5.\n",
            "  warnings.warn(\n"
          ]
        },
        {
          "output_type": "stream",
          "name": "stdout",
          "text": [
            "Mejor Accuracy: 99.76 %\n",
            "Mejores hiperparámetros para los K-Vecinos: {'n_neighbors': 7, 'p': 1, 'weights': 'distance'}\n"
          ]
        }
      ]
    },
    {
      "cell_type": "markdown",
      "metadata": {
        "id": "JcDNdY03nAZI"
      },
      "source": [
        "##Evaluación"
      ]
    },
    {
      "cell_type": "code",
      "execution_count": null,
      "metadata": {
        "id": "p7GCo2zCpHp0",
        "colab": {
          "base_uri": "https://localhost:8080/"
        },
        "outputId": "d5ec374a-9dd7-48d5-c9e0-199187612f99"
      },
      "outputs": [
        {
          "output_type": "stream",
          "name": "stdout",
          "text": [
            "Accuracy: 0.9240214888718342\n",
            "Matriz de Confusión:\n",
            "[[ 25   3   0   0   0   0   1   0   0   0   0]\n",
            " [  3 583   4   0   7   0   3   0   0   4   0]\n",
            " [  1  11 254   2   0   0  23   0   0   4   6]\n",
            " [  0   0   0  87   0   0   0   5   4   0   6]\n",
            " [  0  12   0   0  30   0   3   0   0   1   0]\n",
            " [  0   5   0   0   0   0   0   0   0   0   0]\n",
            " [  0   4   9   0   0   0 446   0   0   4   1]\n",
            " [  0   0   0   5   0   0   0  30   0   1   1]\n",
            " [  0   0   0   3   0   0   0   4  31   1   1]\n",
            " [  1   5   9   1   0   0  15   1   2 564   0]\n",
            " [  0   1   3   4   0   0   2   5   5   2 358]]\n",
            "Precisión: 0.7801570275331394\n",
            "Recall: 0.7825942224489314\n",
            "Puntuación F1: 0.7796503953376401\n",
            "R-cuadrado: 0.8738402690865907\n",
            "Error Cuadrático Medio (MSE): 1.597851112816577\n"
          ]
        },
        {
          "output_type": "stream",
          "name": "stderr",
          "text": [
            "/usr/local/lib/python3.10/dist-packages/sklearn/metrics/_classification.py:1344: UndefinedMetricWarning: Precision is ill-defined and being set to 0.0 in labels with no predicted samples. Use `zero_division` parameter to control this behavior.\n",
            "  _warn_prf(average, modifier, msg_start, len(result))\n"
          ]
        }
      ],
      "source": [
        "y_pred = classifier.predict(X_test)\n",
        "\n",
        "\n",
        "accuracy = accuracy_score(y_test, y_pred)\n",
        "confusion = confusion_matrix(y_test, y_pred)\n",
        "precision = precision_score(y_test, y_pred, average='macro')\n",
        "recall = recall_score(y_test, y_pred, average='macro')\n",
        "f1 = f1_score(y_test, y_pred, average='macro')\n",
        "r2 = r2_score(y_test, y_pred)\n",
        "mse = mean_squared_error(y_test, y_pred)\n",
        "print(f'Accuracy: {accuracy}')\n",
        "print(f'Matriz de Confusión:\\n{confusion}')\n",
        "print(f'Precisión: {precision}')\n",
        "print(f'Recall: {recall}')\n",
        "print(f'Puntuación F1: {f1}')\n",
        "print(f'R-cuadrado: {r2}')\n",
        "print(f'Error Cuadrático Medio (MSE): {mse}')"
      ]
    },
    {
      "cell_type": "markdown",
      "source": [
        "Corpus1"
      ],
      "metadata": {
        "id": "BxAXmyw9TFkJ"
      }
    },
    {
      "cell_type": "code",
      "source": [
        "y_pred1 = classifier1.predict(X_test1)\n",
        "\n",
        "\n",
        "accuracy1 = accuracy_score(y_test1, y_pred1)\n",
        "confusion1 = confusion_matrix(y_test1, y_pred1)\n",
        "precision1 = precision_score(y_test1, y_pred1, average='macro')\n",
        "recall1 = recall_score(y_test1, y_pred1, average='macro')\n",
        "f11 = f1_score(y_test1, y_pred1, average='macro')\n",
        "r21 = r2_score(y_test1, y_pred1)\n",
        "mse1 = mean_squared_error(y_test1, y_pred1)\n",
        "print(f'Accuracy: {accuracy1}')\n",
        "print(f'Matriz de Confusión:\\n{confusion1}')\n",
        "print(f'Precisión: {precision1}')\n",
        "print(f'Recall: {recall1}')\n",
        "print(f'Puntuación F1: {f11}')\n",
        "print(f'R-cuadrado: {r21}')\n",
        "print(f'Error Cuadrático Medio (MSE): {mse1}')"
      ],
      "metadata": {
        "id": "rziQQe89DlCZ",
        "colab": {
          "base_uri": "https://localhost:8080/"
        },
        "outputId": "418e62eb-dce1-4409-ae10-1bbcc8512a67"
      },
      "execution_count": null,
      "outputs": [
        {
          "output_type": "stream",
          "name": "stdout",
          "text": [
            "Accuracy: 0.998848810437452\n",
            "Matriz de Confusión:\n",
            "[[1907    0    0 ...    0    0    0]\n",
            " [   0    0    0 ...    0    0    0]\n",
            " [   0    0    6 ...    0    0    0]\n",
            " ...\n",
            " [   0    0    0 ...    7    0    0]\n",
            " [   0    0    0 ...    0    5    0]\n",
            " [   0    0    0 ...    0    0   11]]\n",
            "Precisión: 0.9397269104547585\n",
            "Recall: 0.937485441416259\n",
            "Puntuación F1: 0.9378996349161661\n",
            "R-cuadrado: 0.9973529059637026\n",
            "Error Cuadrático Medio (MSE): 0.47966231772831924\n"
          ]
        },
        {
          "output_type": "stream",
          "name": "stderr",
          "text": [
            "/usr/local/lib/python3.10/dist-packages/sklearn/metrics/_classification.py:1344: UndefinedMetricWarning: Precision is ill-defined and being set to 0.0 in labels with no predicted samples. Use `zero_division` parameter to control this behavior.\n",
            "  _warn_prf(average, modifier, msg_start, len(result))\n",
            "/usr/local/lib/python3.10/dist-packages/sklearn/metrics/_classification.py:1344: UndefinedMetricWarning: Recall is ill-defined and being set to 0.0 in labels with no true samples. Use `zero_division` parameter to control this behavior.\n",
            "  _warn_prf(average, modifier, msg_start, len(result))\n"
          ]
        }
      ]
    },
    {
      "cell_type": "markdown",
      "metadata": {
        "id": "hC7h6A78pTDF"
      },
      "source": [
        "#**Arboles de decisión**"
      ]
    },
    {
      "cell_type": "markdown",
      "metadata": {
        "id": "HjyhPETnm9eM"
      },
      "source": [
        "##Modelo Base"
      ]
    },
    {
      "cell_type": "markdown",
      "metadata": {
        "id": "JqqWsv5xm9eu"
      },
      "source": [
        "* Preprocesado original"
      ]
    },
    {
      "cell_type": "code",
      "execution_count": null,
      "metadata": {
        "id": "NEOYGuaQpiKi"
      },
      "outputs": [],
      "source": [
        "classifier = DecisionTreeClassifier(criterion = 'entropy', random_state = 0)\n",
        "classifier.fit(X_train, y_train)"
      ]
    },
    {
      "cell_type": "code",
      "execution_count": null,
      "metadata": {
        "id": "xA4Q0XQQAsAg"
      },
      "outputs": [],
      "source": [
        "y_pred = classifier.predict(X_test)"
      ]
    },
    {
      "cell_type": "markdown",
      "metadata": {
        "id": "gEIB8allm9ev"
      },
      "source": [
        "* Corpus 1"
      ]
    },
    {
      "cell_type": "code",
      "execution_count": null,
      "metadata": {
        "id": "dXvczqjnQOcZ",
        "colab": {
          "base_uri": "https://localhost:8080/",
          "height": 74
        },
        "outputId": "43bb1165-d497-4111-ab90-62288da978c3"
      },
      "outputs": [
        {
          "output_type": "execute_result",
          "data": {
            "text/plain": [
              "DecisionTreeClassifier(criterion='entropy', random_state=0)"
            ],
            "text/html": [
              "<style>#sk-container-id-1 {color: black;background-color: white;}#sk-container-id-1 pre{padding: 0;}#sk-container-id-1 div.sk-toggleable {background-color: white;}#sk-container-id-1 label.sk-toggleable__label {cursor: pointer;display: block;width: 100%;margin-bottom: 0;padding: 0.3em;box-sizing: border-box;text-align: center;}#sk-container-id-1 label.sk-toggleable__label-arrow:before {content: \"▸\";float: left;margin-right: 0.25em;color: #696969;}#sk-container-id-1 label.sk-toggleable__label-arrow:hover:before {color: black;}#sk-container-id-1 div.sk-estimator:hover label.sk-toggleable__label-arrow:before {color: black;}#sk-container-id-1 div.sk-toggleable__content {max-height: 0;max-width: 0;overflow: hidden;text-align: left;background-color: #f0f8ff;}#sk-container-id-1 div.sk-toggleable__content pre {margin: 0.2em;color: black;border-radius: 0.25em;background-color: #f0f8ff;}#sk-container-id-1 input.sk-toggleable__control:checked~div.sk-toggleable__content {max-height: 200px;max-width: 100%;overflow: auto;}#sk-container-id-1 input.sk-toggleable__control:checked~label.sk-toggleable__label-arrow:before {content: \"▾\";}#sk-container-id-1 div.sk-estimator input.sk-toggleable__control:checked~label.sk-toggleable__label {background-color: #d4ebff;}#sk-container-id-1 div.sk-label input.sk-toggleable__control:checked~label.sk-toggleable__label {background-color: #d4ebff;}#sk-container-id-1 input.sk-hidden--visually {border: 0;clip: rect(1px 1px 1px 1px);clip: rect(1px, 1px, 1px, 1px);height: 1px;margin: -1px;overflow: hidden;padding: 0;position: absolute;width: 1px;}#sk-container-id-1 div.sk-estimator {font-family: monospace;background-color: #f0f8ff;border: 1px dotted black;border-radius: 0.25em;box-sizing: border-box;margin-bottom: 0.5em;}#sk-container-id-1 div.sk-estimator:hover {background-color: #d4ebff;}#sk-container-id-1 div.sk-parallel-item::after {content: \"\";width: 100%;border-bottom: 1px solid gray;flex-grow: 1;}#sk-container-id-1 div.sk-label:hover label.sk-toggleable__label {background-color: #d4ebff;}#sk-container-id-1 div.sk-serial::before {content: \"\";position: absolute;border-left: 1px solid gray;box-sizing: border-box;top: 0;bottom: 0;left: 50%;z-index: 0;}#sk-container-id-1 div.sk-serial {display: flex;flex-direction: column;align-items: center;background-color: white;padding-right: 0.2em;padding-left: 0.2em;position: relative;}#sk-container-id-1 div.sk-item {position: relative;z-index: 1;}#sk-container-id-1 div.sk-parallel {display: flex;align-items: stretch;justify-content: center;background-color: white;position: relative;}#sk-container-id-1 div.sk-item::before, #sk-container-id-1 div.sk-parallel-item::before {content: \"\";position: absolute;border-left: 1px solid gray;box-sizing: border-box;top: 0;bottom: 0;left: 50%;z-index: -1;}#sk-container-id-1 div.sk-parallel-item {display: flex;flex-direction: column;z-index: 1;position: relative;background-color: white;}#sk-container-id-1 div.sk-parallel-item:first-child::after {align-self: flex-end;width: 50%;}#sk-container-id-1 div.sk-parallel-item:last-child::after {align-self: flex-start;width: 50%;}#sk-container-id-1 div.sk-parallel-item:only-child::after {width: 0;}#sk-container-id-1 div.sk-dashed-wrapped {border: 1px dashed gray;margin: 0 0.4em 0.5em 0.4em;box-sizing: border-box;padding-bottom: 0.4em;background-color: white;}#sk-container-id-1 div.sk-label label {font-family: monospace;font-weight: bold;display: inline-block;line-height: 1.2em;}#sk-container-id-1 div.sk-label-container {text-align: center;}#sk-container-id-1 div.sk-container {/* jupyter's `normalize.less` sets `[hidden] { display: none; }` but bootstrap.min.css set `[hidden] { display: none !important; }` so we also need the `!important` here to be able to override the default hidden behavior on the sphinx rendered scikit-learn.org. See: https://github.com/scikit-learn/scikit-learn/issues/21755 */display: inline-block !important;position: relative;}#sk-container-id-1 div.sk-text-repr-fallback {display: none;}</style><div id=\"sk-container-id-1\" class=\"sk-top-container\"><div class=\"sk-text-repr-fallback\"><pre>DecisionTreeClassifier(criterion=&#x27;entropy&#x27;, random_state=0)</pre><b>In a Jupyter environment, please rerun this cell to show the HTML representation or trust the notebook. <br />On GitHub, the HTML representation is unable to render, please try loading this page with nbviewer.org.</b></div><div class=\"sk-container\" hidden><div class=\"sk-item\"><div class=\"sk-estimator sk-toggleable\"><input class=\"sk-toggleable__control sk-hidden--visually\" id=\"sk-estimator-id-1\" type=\"checkbox\" checked><label for=\"sk-estimator-id-1\" class=\"sk-toggleable__label sk-toggleable__label-arrow\">DecisionTreeClassifier</label><div class=\"sk-toggleable__content\"><pre>DecisionTreeClassifier(criterion=&#x27;entropy&#x27;, random_state=0)</pre></div></div></div></div></div>"
            ]
          },
          "metadata": {},
          "execution_count": 14
        }
      ],
      "source": [
        "classifier1 = DecisionTreeClassifier(criterion = 'entropy', random_state = 0)\n",
        "classifier1.fit(X_train1, y_train1)"
      ]
    },
    {
      "cell_type": "code",
      "execution_count": null,
      "metadata": {
        "id": "pqRKjonbQOcd"
      },
      "outputs": [],
      "source": [
        "y_pred1 = classifier1.predict(X_test1)"
      ]
    },
    {
      "cell_type": "markdown",
      "metadata": {
        "id": "XzM3zrzDm9ev"
      },
      "source": [
        "##Modelo Optimizado"
      ]
    },
    {
      "cell_type": "markdown",
      "metadata": {
        "id": "fhOdfrXGm9ew"
      },
      "source": [
        "* Preprocesado original"
      ]
    },
    {
      "cell_type": "code",
      "source": [
        "parameters = {'criterion': ['gini', 'entropy'],\n",
        "              'splitter': ['best', 'random'],\n",
        "              'max_depth': [2,3,4,5,6]}\n",
        "grid_search = GridSearchCV(estimator = classifier,\n",
        "                           param_grid = parameters,\n",
        "                           scoring = 'accuracy',\n",
        "                           cv = 5,\n",
        "                           refit = True,\n",
        "                           n_jobs = -1)\n",
        "grid_search.fit(X_train, y_train)\n",
        "best_accuracy = grid_search.best_score_\n",
        "best_parameters = grid_search.best_params_\n",
        "best_model = grid_search.best_estimator_\n",
        "print(\"Best (k-fold) Accuracy: {:.2f} %\".format(best_accuracy*100))\n",
        "print(\"Best (k-fold) Parameters:\", best_parameters)"
      ],
      "metadata": {
        "id": "LiZB4_vrNWfJ"
      },
      "execution_count": null,
      "outputs": []
    },
    {
      "cell_type": "markdown",
      "metadata": {
        "id": "lBlxha4qm9ew"
      },
      "source": [
        "* Corpus 1"
      ]
    },
    {
      "cell_type": "code",
      "source": [
        "parameters = {'criterion': ['gini', 'entropy'],\n",
        "              'splitter': ['best', 'random'],\n",
        "              'max_depth': [2,3,4,5,6]}\n",
        "grid_search = GridSearchCV(estimator = classifier1,\n",
        "                           param_grid = parameters,\n",
        "                           scoring = 'accuracy',\n",
        "                           cv = 5,\n",
        "                           refit = True,\n",
        "                           n_jobs = -1)\n",
        "grid_search.fit(X_train1, y_train1)\n",
        "best_accuracy = grid_search.best_score_\n",
        "best_parameters = grid_search.best_params_\n",
        "best_model1 = grid_search.best_estimator_\n",
        "print(\"Best (k-fold) Accuracy: {:.2f} %\".format(best_accuracy*100))\n",
        "print(\"Best (k-fold) Parameters:\", best_parameters)"
      ],
      "metadata": {
        "id": "JUqsQIybRGJM",
        "colab": {
          "base_uri": "https://localhost:8080/"
        },
        "outputId": "86eb9e2f-8035-48cf-8c57-199627ca8c9c"
      },
      "execution_count": null,
      "outputs": [
        {
          "output_type": "stream",
          "name": "stderr",
          "text": [
            "/usr/local/lib/python3.10/dist-packages/sklearn/model_selection/_split.py:700: UserWarning: The least populated class in y has only 1 members, which is less than n_splits=5.\n",
            "  warnings.warn(\n"
          ]
        },
        {
          "output_type": "stream",
          "name": "stdout",
          "text": [
            "Best (k-fold) Accuracy: 96.75 %\n",
            "Best (k-fold) Parameters: {'criterion': 'entropy', 'max_depth': 6, 'splitter': 'random'}\n"
          ]
        }
      ]
    },
    {
      "cell_type": "markdown",
      "metadata": {
        "id": "cqpM-G7_m9ex"
      },
      "source": [
        "##Evaluación"
      ]
    },
    {
      "cell_type": "markdown",
      "source": [
        "* Preprocesado original"
      ],
      "metadata": {
        "id": "DppSx66PSOi7"
      }
    },
    {
      "cell_type": "code",
      "execution_count": null,
      "metadata": {
        "id": "deGLR5svJNwT"
      },
      "outputs": [],
      "source": [
        "accuracy = accuracy_score(y_test, y_pred)\n",
        "confusion = confusion_matrix(y_test, y_pred)\n",
        "precision = precision_score(y_test, y_pred, average='macro')\n",
        "recall = recall_score(y_test, y_pred, average='macro')\n",
        "f1 = f1_score(y_test, y_pred, average='macro')\n",
        "r2 = r2_score(y_test, y_pred)\n",
        "mse = mean_squared_error(y_test, y_pred)\n",
        "print(f'Accuracy: {accuracy}')\n",
        "print(f'Matriz de Confusión:\\n{confusion}')\n",
        "print(f'Precisión: {precision}')\n",
        "print(f'Recall: {recall}')\n",
        "print(f'Puntuación F1 (F1-Score): {f1}')\n",
        "print(f'R-cuadrado: {r2}')\n",
        "print(f'Error Cuadrático Medio (MSE): {mse}')"
      ]
    },
    {
      "cell_type": "code",
      "source": [
        "y_pred = best_model.predict(X_test)\n",
        "cm_best = confusion_matrix(y_test, y_pred)\n",
        "print(cm_best)\n",
        "print(classification_report(y_test, y_pred))\n",
        "accuracy_score(y_test, y_pred)"
      ],
      "metadata": {
        "id": "fX2HOb8-OgZ8"
      },
      "execution_count": null,
      "outputs": []
    },
    {
      "cell_type": "markdown",
      "source": [
        "* Corpus 1"
      ],
      "metadata": {
        "id": "9QTecK2tSVt3"
      }
    },
    {
      "cell_type": "code",
      "execution_count": null,
      "metadata": {
        "id": "QKkS-dE1Sdhk",
        "colab": {
          "base_uri": "https://localhost:8080/"
        },
        "outputId": "e6088eea-ba20-452b-8210-61acc1fd3b46"
      },
      "outputs": [
        {
          "output_type": "stream",
          "name": "stdout",
          "text": [
            "Accuracy: 0.9976976208749041\n",
            "Matriz de Confusión:\n",
            "[[1907    0    0 ...    0    0    0]\n",
            " [   0    6    0 ...    0    0    0]\n",
            " [   0    0    0 ...    0    0    0]\n",
            " ...\n",
            " [   0    0    0 ...    7    0    0]\n",
            " [   0    0    0 ...    0    5    0]\n",
            " [   0    0    0 ...    0    0   11]]\n",
            "Precisión: 0.9336812103986419\n",
            "Recall: 0.9230501987201468\n",
            "Puntuación F1 (F1-Score): 0.9264145823627177\n",
            "R-cuadrado: 0.9946994589017182\n",
            "Error Cuadrático Medio (MSE): 0.9604758250191865\n"
          ]
        },
        {
          "output_type": "stream",
          "name": "stderr",
          "text": [
            "/usr/local/lib/python3.10/dist-packages/sklearn/metrics/_classification.py:1344: UndefinedMetricWarning: Precision is ill-defined and being set to 0.0 in labels with no predicted samples. Use `zero_division` parameter to control this behavior.\n",
            "  _warn_prf(average, modifier, msg_start, len(result))\n",
            "/usr/local/lib/python3.10/dist-packages/sklearn/metrics/_classification.py:1344: UndefinedMetricWarning: Recall is ill-defined and being set to 0.0 in labels with no true samples. Use `zero_division` parameter to control this behavior.\n",
            "  _warn_prf(average, modifier, msg_start, len(result))\n"
          ]
        }
      ],
      "source": [
        "accuracy = accuracy_score(y_test1, y_pred1)\n",
        "confusion = confusion_matrix(y_test1, y_pred1)\n",
        "precision = precision_score(y_test1, y_pred1, average='macro')\n",
        "recall = recall_score(y_test1, y_pred1, average='macro')\n",
        "f1 = f1_score(y_test1, y_pred1, average='macro')\n",
        "r2 = r2_score(y_test1, y_pred1)\n",
        "mse = mean_squared_error(y_test1, y_pred1)\n",
        "print(f'Accuracy: {accuracy}')\n",
        "print(f'Matriz de Confusión:\\n{confusion}')\n",
        "print(f'Precisión: {precision}')\n",
        "print(f'Recall: {recall}')\n",
        "print(f'Puntuación F1 (F1-Score): {f1}')\n",
        "print(f'R-cuadrado: {r2}')\n",
        "print(f'Error Cuadrático Medio (MSE): {mse}')"
      ]
    },
    {
      "cell_type": "code",
      "source": [
        "y_pred1 = best_model1.predict(X_test1)\n",
        "cm_best = confusion_matrix(y_test1, y_pred1)\n",
        "print(cm_best)\n",
        "print(classification_report(y_test1, y_pred1))"
      ],
      "metadata": {
        "id": "ux0rP3mTSdiE"
      },
      "execution_count": null,
      "outputs": []
    },
    {
      "cell_type": "markdown",
      "metadata": {
        "id": "Uscn1PFfpVxD"
      },
      "source": [
        "#**Random Forest**"
      ]
    },
    {
      "cell_type": "markdown",
      "metadata": {
        "id": "RwFjvStQkjMc"
      },
      "source": [
        "##Modelo Base"
      ]
    },
    {
      "cell_type": "markdown",
      "metadata": {
        "id": "8K57LmxDkjMf"
      },
      "source": [
        "* Preprocesado original"
      ]
    },
    {
      "cell_type": "code",
      "execution_count": null,
      "metadata": {
        "id": "_zqBv_LCp0eK",
        "colab": {
          "base_uri": "https://localhost:8080/",
          "height": 74
        },
        "outputId": "8aa2824f-e9ff-4c9d-af6f-be7f946fe43e"
      },
      "outputs": [
        {
          "output_type": "execute_result",
          "data": {
            "text/plain": [
              "RandomForestClassifier(criterion='entropy', random_state=0)"
            ],
            "text/html": [
              "<style>#sk-container-id-2 {color: black;background-color: white;}#sk-container-id-2 pre{padding: 0;}#sk-container-id-2 div.sk-toggleable {background-color: white;}#sk-container-id-2 label.sk-toggleable__label {cursor: pointer;display: block;width: 100%;margin-bottom: 0;padding: 0.3em;box-sizing: border-box;text-align: center;}#sk-container-id-2 label.sk-toggleable__label-arrow:before {content: \"▸\";float: left;margin-right: 0.25em;color: #696969;}#sk-container-id-2 label.sk-toggleable__label-arrow:hover:before {color: black;}#sk-container-id-2 div.sk-estimator:hover label.sk-toggleable__label-arrow:before {color: black;}#sk-container-id-2 div.sk-toggleable__content {max-height: 0;max-width: 0;overflow: hidden;text-align: left;background-color: #f0f8ff;}#sk-container-id-2 div.sk-toggleable__content pre {margin: 0.2em;color: black;border-radius: 0.25em;background-color: #f0f8ff;}#sk-container-id-2 input.sk-toggleable__control:checked~div.sk-toggleable__content {max-height: 200px;max-width: 100%;overflow: auto;}#sk-container-id-2 input.sk-toggleable__control:checked~label.sk-toggleable__label-arrow:before {content: \"▾\";}#sk-container-id-2 div.sk-estimator input.sk-toggleable__control:checked~label.sk-toggleable__label {background-color: #d4ebff;}#sk-container-id-2 div.sk-label input.sk-toggleable__control:checked~label.sk-toggleable__label {background-color: #d4ebff;}#sk-container-id-2 input.sk-hidden--visually {border: 0;clip: rect(1px 1px 1px 1px);clip: rect(1px, 1px, 1px, 1px);height: 1px;margin: -1px;overflow: hidden;padding: 0;position: absolute;width: 1px;}#sk-container-id-2 div.sk-estimator {font-family: monospace;background-color: #f0f8ff;border: 1px dotted black;border-radius: 0.25em;box-sizing: border-box;margin-bottom: 0.5em;}#sk-container-id-2 div.sk-estimator:hover {background-color: #d4ebff;}#sk-container-id-2 div.sk-parallel-item::after {content: \"\";width: 100%;border-bottom: 1px solid gray;flex-grow: 1;}#sk-container-id-2 div.sk-label:hover label.sk-toggleable__label {background-color: #d4ebff;}#sk-container-id-2 div.sk-serial::before {content: \"\";position: absolute;border-left: 1px solid gray;box-sizing: border-box;top: 0;bottom: 0;left: 50%;z-index: 0;}#sk-container-id-2 div.sk-serial {display: flex;flex-direction: column;align-items: center;background-color: white;padding-right: 0.2em;padding-left: 0.2em;position: relative;}#sk-container-id-2 div.sk-item {position: relative;z-index: 1;}#sk-container-id-2 div.sk-parallel {display: flex;align-items: stretch;justify-content: center;background-color: white;position: relative;}#sk-container-id-2 div.sk-item::before, #sk-container-id-2 div.sk-parallel-item::before {content: \"\";position: absolute;border-left: 1px solid gray;box-sizing: border-box;top: 0;bottom: 0;left: 50%;z-index: -1;}#sk-container-id-2 div.sk-parallel-item {display: flex;flex-direction: column;z-index: 1;position: relative;background-color: white;}#sk-container-id-2 div.sk-parallel-item:first-child::after {align-self: flex-end;width: 50%;}#sk-container-id-2 div.sk-parallel-item:last-child::after {align-self: flex-start;width: 50%;}#sk-container-id-2 div.sk-parallel-item:only-child::after {width: 0;}#sk-container-id-2 div.sk-dashed-wrapped {border: 1px dashed gray;margin: 0 0.4em 0.5em 0.4em;box-sizing: border-box;padding-bottom: 0.4em;background-color: white;}#sk-container-id-2 div.sk-label label {font-family: monospace;font-weight: bold;display: inline-block;line-height: 1.2em;}#sk-container-id-2 div.sk-label-container {text-align: center;}#sk-container-id-2 div.sk-container {/* jupyter's `normalize.less` sets `[hidden] { display: none; }` but bootstrap.min.css set `[hidden] { display: none !important; }` so we also need the `!important` here to be able to override the default hidden behavior on the sphinx rendered scikit-learn.org. See: https://github.com/scikit-learn/scikit-learn/issues/21755 */display: inline-block !important;position: relative;}#sk-container-id-2 div.sk-text-repr-fallback {display: none;}</style><div id=\"sk-container-id-2\" class=\"sk-top-container\"><div class=\"sk-text-repr-fallback\"><pre>RandomForestClassifier(criterion=&#x27;entropy&#x27;, random_state=0)</pre><b>In a Jupyter environment, please rerun this cell to show the HTML representation or trust the notebook. <br />On GitHub, the HTML representation is unable to render, please try loading this page with nbviewer.org.</b></div><div class=\"sk-container\" hidden><div class=\"sk-item\"><div class=\"sk-estimator sk-toggleable\"><input class=\"sk-toggleable__control sk-hidden--visually\" id=\"sk-estimator-id-2\" type=\"checkbox\" checked><label for=\"sk-estimator-id-2\" class=\"sk-toggleable__label sk-toggleable__label-arrow\">RandomForestClassifier</label><div class=\"sk-toggleable__content\"><pre>RandomForestClassifier(criterion=&#x27;entropy&#x27;, random_state=0)</pre></div></div></div></div></div>"
            ]
          },
          "metadata": {},
          "execution_count": 23
        }
      ],
      "source": [
        "classifier = RandomForestClassifier(n_estimators = 100, criterion = 'entropy', random_state = 0)\n",
        "classifier.fit(X_train, y_train)"
      ]
    },
    {
      "cell_type": "markdown",
      "metadata": {
        "id": "iNMzcY8mkjMg"
      },
      "source": [
        "* Corpus 1"
      ]
    },
    {
      "cell_type": "code",
      "source": [
        "classifier1 = RandomForestClassifier(n_estimators = 100, criterion = 'entropy', random_state = 0)\n",
        "classifier1.fit(X_train1, y_train1)\n",
        "y_pred1 = classifier1.predict(X_test1)"
      ],
      "metadata": {
        "id": "6LvTV1hq1DQk"
      },
      "execution_count": null,
      "outputs": []
    },
    {
      "cell_type": "markdown",
      "metadata": {
        "id": "GovAQv_IkjMh"
      },
      "source": [
        "##Modelo Optimizado"
      ]
    },
    {
      "cell_type": "markdown",
      "metadata": {
        "id": "Lv2lZF1VkjMi"
      },
      "source": [
        "* Preprocesado original"
      ]
    },
    {
      "cell_type": "code",
      "execution_count": null,
      "metadata": {
        "id": "SaLcSH8qp4dd",
        "colab": {
          "base_uri": "https://localhost:8080/"
        },
        "outputId": "e2651c75-ecd4-4933-8ebe-6fdfbdd8b80a"
      },
      "outputs": [
        {
          "output_type": "stream",
          "name": "stdout",
          "text": [
            "Mejor Accuracy: 88.64 %\n",
            "Mejores hiperparámetros para los Random Forest: {'max_depth': None, 'min_samples_leaf': 1, 'min_samples_split': 2, 'n_estimators': 200}\n"
          ]
        }
      ],
      "source": [
        "param_grid = {\n",
        "    'n_estimators': [100, 200], #Numero de arboles\n",
        "    'max_depth': [None, 10, 20],  # Profundidad máxima de los árboles\n",
        "    'min_samples_split': [2, 5, 7], # Mínimo de muestras para dividir\n",
        "    'min_samples_leaf': [1, 2, 4] # Mínimo de muestras en hojas\n",
        "\n",
        "}\n",
        "\n",
        "grid_search = GridSearchCV(classifier, param_grid, cv=2, scoring='accuracy')\n",
        "grid_search.fit(X_train, y_train)\n",
        "\n",
        "best_params = grid_search.best_params_\n",
        "best_accuracy = grid_search.best_score_\n",
        "\n",
        "print(\"Mejor Accuracy: {:.2f} %\".format(best_accuracy*100))\n",
        "print(\"Mejores hiperparámetros para los Random Forest:\", best_params)"
      ]
    },
    {
      "cell_type": "code",
      "execution_count": null,
      "metadata": {
        "id": "WYcoB-SLEXXV",
        "colab": {
          "base_uri": "https://localhost:8080/"
        },
        "outputId": "f235c8fe-992c-4318-8331-4dc06853f844"
      },
      "outputs": [
        {
          "output_type": "stream",
          "name": "stdout",
          "text": [
            "Mejor Accuracy: 89.10 %\n",
            "Mejores hiperparámetros para los Random Forest: {'max_depth': None, 'min_samples_leaf': 1, 'min_samples_split': 2, 'n_estimators': 500}\n"
          ]
        }
      ],
      "source": [
        "param_grid = {\n",
        "    'n_estimators': [300, 500],\n",
        "    'max_depth': [None],\n",
        "    'min_samples_split': [2],\n",
        "    'min_samples_leaf': [1]\n",
        "}\n",
        "\n",
        "grid_search = GridSearchCV(classifier, param_grid, cv=2, scoring='accuracy')\n",
        "grid_search.fit(X_train, y_train)\n",
        "\n",
        "best_params = grid_search.best_params_\n",
        "best_accuracy = grid_search.best_score_\n",
        "\n",
        "print(\"Mejor Accuracy: {:.2f} %\".format(best_accuracy*100))\n",
        "print(\"Mejores hiperparámetros para los Random Forest:\", best_params)"
      ]
    },
    {
      "cell_type": "markdown",
      "metadata": {
        "id": "TQvY7gOhkjMj"
      },
      "source": [
        "* Corpus 1"
      ]
    },
    {
      "cell_type": "code",
      "execution_count": null,
      "metadata": {
        "id": "JirdUbb31Umb",
        "colab": {
          "base_uri": "https://localhost:8080/"
        },
        "outputId": "9d0a992f-f2f6-4078-d2f9-2b4c947ece94"
      },
      "outputs": [
        {
          "output_type": "stream",
          "name": "stderr",
          "text": [
            "/usr/local/lib/python3.10/dist-packages/sklearn/model_selection/_split.py:700: UserWarning: The least populated class in y has only 1 members, which is less than n_splits=2.\n",
            "  warnings.warn(\n"
          ]
        },
        {
          "output_type": "stream",
          "name": "stdout",
          "text": [
            "Mejor Accuracy: 99.67 %\n",
            "Mejores hiperparámetros para los Random Forest: {'max_depth': None, 'min_samples_leaf': 1, 'min_samples_split': 2, 'n_estimators': 100}\n"
          ]
        }
      ],
      "source": [
        "param_grid = {\n",
        "    'n_estimators': [100, 200], #Numero de arboles\n",
        "    'max_depth': [None, 10],  # Profundidad máxima de los árboles\n",
        "    'min_samples_split': [2, 5], # Mínimo de muestras para dividir\n",
        "    'min_samples_leaf': [1, 2] # Mínimo de muestras en hojas\n",
        "\n",
        "}\n",
        "\n",
        "grid_search1 = GridSearchCV(classifier1, param_grid, cv=2, scoring='accuracy')\n",
        "grid_search1.fit(X_train1, y_train1)\n",
        "\n",
        "best_params1 = grid_search1.best_params_\n",
        "best_accuracy1 = grid_search1.best_score_\n",
        "\n",
        "print(\"Mejor Accuracy: {:.2f} %\".format(best_accuracy1*100))\n",
        "print(\"Mejores hiperparámetros para los Random Forest:\", best_params1)"
      ]
    },
    {
      "cell_type": "code",
      "execution_count": null,
      "metadata": {
        "id": "JwWoxHvQQWdR",
        "colab": {
          "base_uri": "https://localhost:8080/"
        },
        "outputId": "a5e86a9f-95ab-4a3e-dfa1-bc5003bb3d58"
      },
      "outputs": [
        {
          "output_type": "stream",
          "name": "stderr",
          "text": [
            "/usr/local/lib/python3.10/dist-packages/sklearn/model_selection/_split.py:700: UserWarning: The least populated class in y has only 1 members, which is less than n_splits=2.\n",
            "  warnings.warn(\n"
          ]
        },
        {
          "output_type": "stream",
          "name": "stdout",
          "text": [
            "Mejor Accuracy: 99.67 %\n",
            "Mejores hiperparámetros para los Random Forest: {'max_depth': None, 'min_samples_leaf': 1, 'min_samples_split': 2, 'n_estimators': 300}\n"
          ]
        }
      ],
      "source": [
        "param_grid = {\n",
        "    'n_estimators': [300, 500],\n",
        "    'max_depth': [None],\n",
        "    'min_samples_split': [2],\n",
        "    'min_samples_leaf': [1]\n",
        "}\n",
        "\n",
        "\n",
        "grid_search1 = GridSearchCV(classifier1, param_grid, cv=2, scoring='accuracy')\n",
        "grid_search1.fit(X_train1, y_train1)\n",
        "\n",
        "best_params1 = grid_search1.best_params_\n",
        "best_accuracy1 = grid_search1.best_score_\n",
        "\n",
        "print(\"Mejor Accuracy: {:.2f} %\".format(best_accuracy1*100))\n",
        "print(\"Mejores hiperparámetros para los Random Forest:\", best_params1)"
      ]
    },
    {
      "cell_type": "markdown",
      "metadata": {
        "id": "PmbLslebkjMk"
      },
      "source": [
        "##Evaluación"
      ]
    },
    {
      "cell_type": "code",
      "execution_count": null,
      "metadata": {
        "id": "OkGQGKj4rRHY"
      },
      "outputs": [],
      "source": [
        "y_pred = classifier.predict(X_test)\n",
        "accuracy = accuracy_score(y_test, y_pred)\n",
        "confusion = confusion_matrix(y_test, y_pred)\n",
        "precision = precision_score(y_test, y_pred, average='macro')\n",
        "recall = recall_score(y_test, y_pred, average='macro')\n",
        "f1 = f1_score(y_test, y_pred, average='macro')\n",
        "r2 = r2_score(y_test, y_pred)\n",
        "mse = mean_squared_error(y_test, y_pred)\n",
        "print(f'Accuracy: {accuracy}')\n",
        "print(f'Matriz de Confusión:\\n{confusion}')\n",
        "print(f'Precisión: {precision}')\n",
        "print(f'Recall: {recall}')\n",
        "print(f'Puntuación F1 (F1-Score): {f1}')\n",
        "print(f'R-cuadrado: {r2}')\n",
        "print(f'Error Cuadrático Medio (MSE): {mse}')"
      ]
    },
    {
      "cell_type": "markdown",
      "source": [
        "Corpus1"
      ],
      "metadata": {
        "id": "6yM2DKCQTIvU"
      }
    },
    {
      "cell_type": "code",
      "source": [
        "y_pred1 = classifier1.predict(X_test1)\n",
        "\n",
        "\n",
        "accuracy1 = accuracy_score(y_test1, y_pred1)\n",
        "confusion1 = confusion_matrix(y_test1, y_pred1)\n",
        "precision1 = precision_score(y_test1, y_pred1, average='macro')\n",
        "recall1 = recall_score(y_test1, y_pred1, average='macro')\n",
        "f11 = f1_score(y_test1, y_pred1, average='macro')\n",
        "r21 = r2_score(y_test1, y_pred1)\n",
        "mse1 = mean_squared_error(y_test1, y_pred1)\n",
        "print(f'Accuracy: {accuracy1}')\n",
        "print(f'Matriz de Confusión:\\n{confusion1}')\n",
        "print(f'Precisión: {precision1}')\n",
        "print(f'Recall: {recall1}')\n",
        "print(f'Puntuación F1: {f11}')\n",
        "print(f'R-cuadrado: {r21}')\n",
        "print(f'Error Cuadrático Medio (MSE): {mse1}')"
      ],
      "metadata": {
        "id": "1kJD-4XhTCLZ"
      },
      "execution_count": null,
      "outputs": []
    },
    {
      "cell_type": "markdown",
      "metadata": {
        "id": "pD293GmZpdN3"
      },
      "source": [
        "#**Redes Neuronales**"
      ]
    },
    {
      "cell_type": "markdown",
      "metadata": {
        "id": "E76vfimuiCbN"
      },
      "source": [
        "##Modelo Base"
      ]
    },
    {
      "cell_type": "markdown",
      "metadata": {
        "id": "wkAOuNjOizUt"
      },
      "source": [
        "* Preprocesado original"
      ]
    },
    {
      "cell_type": "code",
      "execution_count": null,
      "metadata": {
        "id": "PnAnzFkfUC2N"
      },
      "outputs": [],
      "source": [
        "ann = Sequential()\n",
        "ann.add(Dense(units=6, activation='relu', input_shape=(66,)))\n",
        "ann.add(Dense(units=6, activation='relu'))\n",
        "ann.add(Dense(units=11, activation='sigmoid'))"
      ]
    },
    {
      "cell_type": "code",
      "execution_count": null,
      "metadata": {
        "id": "GKxcX8ezKaGJ"
      },
      "outputs": [],
      "source": [
        "ann.compile(optimizer = 'adam', loss = 'sparse_categorical_crossentropy', metrics = ['accuracy'])"
      ]
    },
    {
      "cell_type": "code",
      "execution_count": null,
      "metadata": {
        "id": "7ikq9dgXKcvK"
      },
      "outputs": [],
      "source": [
        "history = ann.fit(X_train, y_train, batch_size = 32, epochs = 20, validation_split=0.1, verbose = 0)"
      ]
    },
    {
      "cell_type": "code",
      "execution_count": null,
      "metadata": {
        "id": "ifApVyyuKnrz"
      },
      "outputs": [],
      "source": [
        "y_pred = np.array([np.argmax(a) for a in ann.predict(X_test)])\n",
        "print(np.concatenate((y_pred.reshape(len(y_pred),1), y_test.reshape(len(y_test),1)),1))"
      ]
    },
    {
      "cell_type": "markdown",
      "metadata": {
        "id": "x_WznVB6kFzd"
      },
      "source": [
        "* Corpus 1"
      ]
    },
    {
      "cell_type": "code",
      "execution_count": null,
      "metadata": {
        "id": "Dv-jXQ8oTDk-"
      },
      "outputs": [],
      "source": [
        "ann1 = Sequential()\n",
        "ann1.add(Dense(units=6, activation='relu', input_shape=(50,)))\n",
        "ann1.add(Dense(units=6, activation='relu'))\n",
        "ann1.add(Dense(units=51, activation='sigmoid'))"
      ]
    },
    {
      "cell_type": "code",
      "execution_count": null,
      "metadata": {
        "id": "1Y0sl7pvTDlA"
      },
      "outputs": [],
      "source": [
        "ann1.compile(optimizer = 'adam', loss = 'sparse_categorical_crossentropy', metrics = ['accuracy'])"
      ]
    },
    {
      "cell_type": "code",
      "execution_count": null,
      "metadata": {
        "id": "mhI-6aPuTDlB"
      },
      "outputs": [],
      "source": [
        "history1 = ann1.fit(X_train1, y_train1, batch_size = 32, epochs = 20, validation_split=0.1, verbose = 0)"
      ]
    },
    {
      "cell_type": "code",
      "execution_count": null,
      "metadata": {
        "id": "Jw-R8Y3UUM84"
      },
      "outputs": [],
      "source": [
        "y_pred1 = np.array([np.argmax(a) for a in ann.predict(X_test)])\n",
        "print(np.concatenate((y_pred.reshape(len(y_pred),1), y_test.reshape(len(y_test),1)),1))"
      ]
    },
    {
      "cell_type": "markdown",
      "metadata": {
        "id": "68_ryQImildl"
      },
      "source": [
        "##Modelo Optimizado"
      ]
    },
    {
      "cell_type": "markdown",
      "metadata": {
        "id": "Hfv1Vo4ikWud"
      },
      "source": [
        "* Preprocesado original"
      ]
    },
    {
      "cell_type": "code",
      "source": [
        "def build_model(n_hidden=1, n_neurons=6, learning_rate=3e-3, input_shape=X_train.shape[1]):\n",
        "  model = Sequential()\n",
        "  model.add(InputLayer(input_shape=input_shape))\n",
        "  for layer in range(n_hidden):\n",
        "    model.add(Dense(n_neurons, activation=\"relu\"))\n",
        "  model.add(Dense(11, activation='sigmoid'))\n",
        "  optimizer = tf.keras.optimizers.Adam(learning_rate=learning_rate)\n",
        "  model.compile(loss='sparse_categorical_crossentropy', optimizer=optimizer,metrics = ['accuracy'])\n",
        "  return model"
      ],
      "metadata": {
        "id": "Q8o57uWEV2TW"
      },
      "execution_count": null,
      "outputs": []
    },
    {
      "cell_type": "code",
      "source": [
        "param_distribs = {\n",
        "  \"n_hidden\": [0, 1, 2, 3],\n",
        "  \"n_neurons\":np.arange(1,10) ,\n",
        "  \"learning_rate\": reciprocal(3e-4,3e-2)\n",
        "}\n",
        "ann_model = KerasClassifier(build_model, n_hidden=param_distribs[\"n_hidden\"],\n",
        "                            n_neurons=param_distribs[\"n_neurons\"], learning_rate=param_distribs[\"learning_rate\"],\n",
        "                            verbose = 1)"
      ],
      "metadata": {
        "id": "4dux6Ka7WYtB"
      },
      "execution_count": null,
      "outputs": []
    },
    {
      "cell_type": "code",
      "source": [
        "rnd_search_cv = RandomizedSearchCV(ann_model, param_distribs, n_iter=3, cv=3)"
      ],
      "metadata": {
        "id": "W-VXLkwsWcvq"
      },
      "execution_count": null,
      "outputs": []
    },
    {
      "cell_type": "code",
      "source": [
        "rnd_search_cv.fit(X_train, y_train, epochs=10, validation_split = 0.05, callbacks=[EarlyStopping(patience=10)])"
      ],
      "metadata": {
        "id": "RoFj_lJ6WfjN"
      },
      "execution_count": null,
      "outputs": []
    },
    {
      "cell_type": "code",
      "source": [
        "rnd_search_cv.best_params_"
      ],
      "metadata": {
        "id": "R9EyPhCaWx_D"
      },
      "execution_count": null,
      "outputs": []
    },
    {
      "cell_type": "code",
      "source": [
        "rnd_search_cv.best_score_"
      ],
      "metadata": {
        "id": "Xsh6Mic9Wzyp"
      },
      "execution_count": null,
      "outputs": []
    },
    {
      "cell_type": "code",
      "source": [
        "rnd_search_cv.best_estimator_"
      ],
      "metadata": {
        "id": "TzfbYk7tW2CN"
      },
      "execution_count": null,
      "outputs": []
    },
    {
      "cell_type": "code",
      "source": [
        "def build_model(n_hidden=1, n_neurons=6, learning_rate=0.006452412194853618, input_shape=X_train.shape[1]):\n",
        "  model = Sequential()\n",
        "  model.add(InputLayer(input_shape=input_shape))\n",
        "  for layer in range(n_hidden):\n",
        "    model.add(Dense(n_neurons, activation=\"relu\"))\n",
        "  model.add(Dense(11, activation='sigmoid'))\n",
        "  optimizer = tf.keras.optimizers.Adam(learning_rate=learning_rate)\n",
        "  model.compile(loss='sparse_categorical_crossentropy', optimizer=optimizer,metrics = ['accuracy'])\n",
        "  return model\n",
        "annOpt = build_model()"
      ],
      "metadata": {
        "id": "QImPsAH8W3yn"
      },
      "execution_count": null,
      "outputs": []
    },
    {
      "cell_type": "markdown",
      "metadata": {
        "id": "HSg2Un7zkRt4"
      },
      "source": [
        "* Corpus 1"
      ]
    },
    {
      "cell_type": "code",
      "source": [
        "def build_model(n_hidden=1, n_neurons=6, learning_rate=3e-3, input_shape=X_train1.shape[1]):\n",
        "  model = Sequential()\n",
        "  model.add(InputLayer(input_shape=input_shape))\n",
        "  for layer in range(n_hidden):\n",
        "    model.add(Dense(n_neurons, activation=\"relu\"))\n",
        "  model.add(Dense(51, activation='sigmoid'))\n",
        "  optimizer = tf.keras.optimizers.Adam(learning_rate=learning_rate)\n",
        "  model.compile(loss='sparse_categorical_crossentropy', optimizer=optimizer,metrics = ['accuracy'])\n",
        "  return model"
      ],
      "metadata": {
        "id": "NAd5UcqtkdQ-"
      },
      "execution_count": null,
      "outputs": []
    },
    {
      "cell_type": "code",
      "source": [
        "param_distribs = {\n",
        "  \"n_hidden\": [0, 1, 2, 3],\n",
        "  \"n_neurons\":np.arange(1,10) ,\n",
        "  \"learning_rate\": reciprocal(3e-4,3e-2)\n",
        "}\n",
        "ann_model = KerasClassifier(build_model, n_hidden=param_distribs[\"n_hidden\"],\n",
        "                            n_neurons=param_distribs[\"n_neurons\"], learning_rate=param_distribs[\"learning_rate\"],\n",
        "                            verbose = 1)"
      ],
      "metadata": {
        "id": "STGAg9ZSkdRA"
      },
      "execution_count": null,
      "outputs": []
    },
    {
      "cell_type": "code",
      "source": [
        "rnd_search_cv = RandomizedSearchCV(ann_model, param_distribs, n_iter=3, cv=3)"
      ],
      "metadata": {
        "id": "Z-lnILPpkdRB"
      },
      "execution_count": null,
      "outputs": []
    },
    {
      "cell_type": "code",
      "source": [
        "rnd_search_cv.fit(X_train1, y_train1, epochs=10, validation_split = 0.05, callbacks=[EarlyStopping(patience=10)])"
      ],
      "metadata": {
        "id": "G08iliBokdRB",
        "colab": {
          "base_uri": "https://localhost:8080/",
          "height": 1000
        },
        "outputId": "5f62dbec-b23a-4f91-e09b-4bf2d2f70c1f"
      },
      "execution_count": null,
      "outputs": [
        {
          "output_type": "stream",
          "name": "stdout",
          "text": [
            "Epoch 1/10\n"
          ]
        },
        {
          "output_type": "stream",
          "name": "stderr",
          "text": [
            "/usr/local/lib/python3.10/dist-packages/sklearn/model_selection/_split.py:700: UserWarning: The least populated class in y has only 1 members, which is less than n_splits=3.\n",
            "  warnings.warn(\n"
          ]
        },
        {
          "output_type": "stream",
          "name": "stdout",
          "text": [
            "207/207 [==============================] - 1s 2ms/step - loss: 3.8719 - accuracy: 0.7364 - val_loss: 3.8027 - val_accuracy: 0.7213\n",
            "Epoch 2/10\n",
            "207/207 [==============================] - 0s 1ms/step - loss: 3.7451 - accuracy: 0.7345 - val_loss: 3.6802 - val_accuracy: 0.7213\n",
            "Epoch 3/10\n",
            "207/207 [==============================] - 0s 1ms/step - loss: 3.6227 - accuracy: 0.7345 - val_loss: 3.5581 - val_accuracy: 0.7213\n",
            "Epoch 4/10\n",
            "207/207 [==============================] - 0s 1ms/step - loss: 3.5015 - accuracy: 0.7345 - val_loss: 3.4369 - val_accuracy: 0.7213\n",
            "Epoch 5/10\n",
            "207/207 [==============================] - 0s 1ms/step - loss: 3.3817 - accuracy: 0.7345 - val_loss: 3.3177 - val_accuracy: 0.7213\n",
            "Epoch 6/10\n",
            "207/207 [==============================] - 0s 1ms/step - loss: 3.2635 - accuracy: 0.7345 - val_loss: 3.2004 - val_accuracy: 0.7213\n",
            "Epoch 7/10\n",
            "207/207 [==============================] - 0s 1ms/step - loss: 3.1475 - accuracy: 0.7345 - val_loss: 3.0862 - val_accuracy: 0.7213\n",
            "Epoch 8/10\n",
            "207/207 [==============================] - 0s 1ms/step - loss: 3.0342 - accuracy: 0.7345 - val_loss: 2.9747 - val_accuracy: 0.7213\n",
            "Epoch 9/10\n",
            "207/207 [==============================] - 0s 1ms/step - loss: 2.9236 - accuracy: 0.7345 - val_loss: 2.8664 - val_accuracy: 0.7213\n",
            "Epoch 10/10\n",
            "207/207 [==============================] - 0s 1ms/step - loss: 2.8160 - accuracy: 0.7345 - val_loss: 2.7610 - val_accuracy: 0.7213\n",
            "109/109 [==============================] - 0s 753us/step\n",
            "Epoch 1/10\n",
            "207/207 [==============================] - 1s 2ms/step - loss: 3.8846 - accuracy: 0.7326 - val_loss: 3.8068 - val_accuracy: 0.7213\n",
            "Epoch 2/10\n",
            "207/207 [==============================] - 0s 1ms/step - loss: 3.7564 - accuracy: 0.7326 - val_loss: 3.6839 - val_accuracy: 0.7213\n",
            "Epoch 3/10\n",
            "207/207 [==============================] - 0s 1ms/step - loss: 3.6327 - accuracy: 0.7326 - val_loss: 3.5641 - val_accuracy: 0.7213\n",
            "Epoch 4/10\n",
            "207/207 [==============================] - 0s 1ms/step - loss: 3.5119 - accuracy: 0.7326 - val_loss: 3.4472 - val_accuracy: 0.7213\n",
            "Epoch 5/10\n",
            "207/207 [==============================] - 0s 1ms/step - loss: 3.3935 - accuracy: 0.7326 - val_loss: 3.3330 - val_accuracy: 0.7213\n",
            "Epoch 6/10\n",
            "207/207 [==============================] - 0s 1ms/step - loss: 3.2788 - accuracy: 0.7326 - val_loss: 3.2198 - val_accuracy: 0.7213\n",
            "Epoch 7/10\n",
            "207/207 [==============================] - 0s 1ms/step - loss: 3.1670 - accuracy: 0.7326 - val_loss: 3.1088 - val_accuracy: 0.7213\n",
            "Epoch 8/10\n",
            "207/207 [==============================] - 0s 1ms/step - loss: 3.0572 - accuracy: 0.7326 - val_loss: 2.9989 - val_accuracy: 0.7213\n",
            "Epoch 9/10\n",
            "207/207 [==============================] - 0s 1ms/step - loss: 2.9490 - accuracy: 0.7326 - val_loss: 2.8909 - val_accuracy: 0.7213\n",
            "Epoch 10/10\n",
            "207/207 [==============================] - 0s 1ms/step - loss: 2.8430 - accuracy: 0.7333 - val_loss: 2.7866 - val_accuracy: 0.7241\n",
            "109/109 [==============================] - 0s 828us/step\n",
            "Epoch 1/10\n",
            "207/207 [==============================] - 1s 2ms/step - loss: 3.8725 - accuracy: 0.7359 - val_loss: 3.8234 - val_accuracy: 0.6580\n",
            "Epoch 2/10\n",
            "207/207 [==============================] - 0s 1ms/step - loss: 3.7454 - accuracy: 0.7359 - val_loss: 3.6956 - val_accuracy: 0.6580\n",
            "Epoch 3/10\n",
            "207/207 [==============================] - 0s 1ms/step - loss: 3.6222 - accuracy: 0.7359 - val_loss: 3.5818 - val_accuracy: 0.6580\n",
            "Epoch 4/10\n",
            "207/207 [==============================] - 0s 1ms/step - loss: 3.5011 - accuracy: 0.7359 - val_loss: 3.4689 - val_accuracy: 0.6580\n",
            "Epoch 5/10\n",
            "207/207 [==============================] - 0s 1ms/step - loss: 3.3817 - accuracy: 0.7359 - val_loss: 3.3577 - val_accuracy: 0.6580\n",
            "Epoch 6/10\n",
            "207/207 [==============================] - 0s 1ms/step - loss: 3.2639 - accuracy: 0.7359 - val_loss: 3.2478 - val_accuracy: 0.6580\n",
            "Epoch 7/10\n",
            "207/207 [==============================] - 0s 1ms/step - loss: 3.1478 - accuracy: 0.7371 - val_loss: 3.1401 - val_accuracy: 0.6580\n",
            "Epoch 8/10\n",
            "207/207 [==============================] - 0s 2ms/step - loss: 3.0339 - accuracy: 0.7395 - val_loss: 3.0347 - val_accuracy: 0.6580\n",
            "Epoch 9/10\n",
            "207/207 [==============================] - 0s 2ms/step - loss: 2.9224 - accuracy: 0.7395 - val_loss: 2.9324 - val_accuracy: 0.6580\n",
            "Epoch 10/10\n",
            "207/207 [==============================] - 0s 2ms/step - loss: 2.8136 - accuracy: 0.7395 - val_loss: 2.8332 - val_accuracy: 0.6580\n",
            "109/109 [==============================] - 0s 794us/step\n",
            "Epoch 1/10\n",
            "207/207 [==============================] - 1s 2ms/step - loss: 1.7045 - accuracy: 0.6694 - val_loss: 1.2060 - val_accuracy: 0.7328\n",
            "Epoch 2/10\n",
            "207/207 [==============================] - 0s 1ms/step - loss: 0.9618 - accuracy: 0.7386 - val_loss: 1.0376 - val_accuracy: 0.7213\n",
            "Epoch 3/10\n",
            "207/207 [==============================] - 0s 1ms/step - loss: 0.8073 - accuracy: 0.7412 - val_loss: 1.0291 - val_accuracy: 0.7299\n",
            "Epoch 4/10\n",
            "207/207 [==============================] - 0s 1ms/step - loss: 0.8158 - accuracy: 0.7414 - val_loss: 1.0029 - val_accuracy: 0.7328\n",
            "Epoch 5/10\n",
            "207/207 [==============================] - 0s 1ms/step - loss: 0.7344 - accuracy: 0.7421 - val_loss: 1.1047 - val_accuracy: 0.7213\n",
            "Epoch 6/10\n",
            "207/207 [==============================] - 0s 1ms/step - loss: 0.7475 - accuracy: 0.7420 - val_loss: 1.0056 - val_accuracy: 0.7356\n",
            "Epoch 7/10\n",
            "207/207 [==============================] - 0s 1ms/step - loss: 0.7690 - accuracy: 0.7426 - val_loss: 1.0137 - val_accuracy: 0.7241\n",
            "Epoch 8/10\n",
            "207/207 [==============================] - 0s 1ms/step - loss: 0.6987 - accuracy: 0.7442 - val_loss: 1.1114 - val_accuracy: 0.7270\n",
            "Epoch 9/10\n",
            "207/207 [==============================] - 0s 1ms/step - loss: 0.6918 - accuracy: 0.7444 - val_loss: 1.1173 - val_accuracy: 0.7270\n",
            "Epoch 10/10\n",
            "207/207 [==============================] - 0s 1ms/step - loss: 0.6870 - accuracy: 0.7453 - val_loss: 1.0869 - val_accuracy: 0.7299\n",
            "109/109 [==============================] - 0s 794us/step\n",
            "Epoch 1/10\n",
            "207/207 [==============================] - 1s 2ms/step - loss: 1.6387 - accuracy: 0.6848 - val_loss: 0.9623 - val_accuracy: 0.7241\n",
            "Epoch 2/10\n",
            "207/207 [==============================] - 0s 1ms/step - loss: 1.0280 - accuracy: 0.7386 - val_loss: 0.8077 - val_accuracy: 0.7213\n",
            "Epoch 3/10\n",
            "207/207 [==============================] - 0s 1ms/step - loss: 0.8408 - accuracy: 0.7414 - val_loss: 0.7685 - val_accuracy: 0.7213\n",
            "Epoch 4/10\n",
            "207/207 [==============================] - 0s 1ms/step - loss: 0.7710 - accuracy: 0.7411 - val_loss: 0.8403 - val_accuracy: 0.7299\n",
            "Epoch 5/10\n",
            "207/207 [==============================] - 0s 1ms/step - loss: 0.7393 - accuracy: 0.7423 - val_loss: 0.7748 - val_accuracy: 0.7213\n",
            "Epoch 6/10\n",
            "207/207 [==============================] - 0s 1ms/step - loss: 0.7365 - accuracy: 0.7409 - val_loss: 0.8070 - val_accuracy: 0.7270\n",
            "Epoch 7/10\n",
            "207/207 [==============================] - 0s 1ms/step - loss: 0.6840 - accuracy: 0.7439 - val_loss: 0.7675 - val_accuracy: 0.7213\n",
            "Epoch 8/10\n",
            "207/207 [==============================] - 0s 1ms/step - loss: 0.6795 - accuracy: 0.7441 - val_loss: 0.7071 - val_accuracy: 0.7356\n",
            "Epoch 9/10\n",
            "207/207 [==============================] - 0s 1ms/step - loss: 0.6626 - accuracy: 0.7467 - val_loss: 0.7442 - val_accuracy: 0.7471\n",
            "Epoch 10/10\n",
            "207/207 [==============================] - 0s 2ms/step - loss: 0.6241 - accuracy: 0.7445 - val_loss: 0.7058 - val_accuracy: 0.7270\n",
            "109/109 [==============================] - 0s 802us/step\n",
            "Epoch 1/10\n",
            "207/207 [==============================] - 1s 2ms/step - loss: 1.6618 - accuracy: 0.7232 - val_loss: 1.6589 - val_accuracy: 0.6638\n",
            "Epoch 2/10\n",
            "207/207 [==============================] - 0s 1ms/step - loss: 0.8602 - accuracy: 0.7423 - val_loss: 1.2545 - val_accuracy: 0.6609\n",
            "Epoch 3/10\n",
            "207/207 [==============================] - 0s 1ms/step - loss: 0.7542 - accuracy: 0.7430 - val_loss: 1.0597 - val_accuracy: 0.6638\n",
            "Epoch 4/10\n",
            "207/207 [==============================] - 0s 1ms/step - loss: 0.7150 - accuracy: 0.7429 - val_loss: 1.0830 - val_accuracy: 0.6638\n",
            "Epoch 5/10\n",
            "207/207 [==============================] - 0s 1ms/step - loss: 0.6842 - accuracy: 0.7436 - val_loss: 1.3531 - val_accuracy: 0.6695\n",
            "Epoch 6/10\n",
            "207/207 [==============================] - 0s 1ms/step - loss: 0.6413 - accuracy: 0.7477 - val_loss: 1.4398 - val_accuracy: 0.6753\n",
            "Epoch 7/10\n",
            "207/207 [==============================] - 0s 1ms/step - loss: 0.6302 - accuracy: 0.7450 - val_loss: 1.4189 - val_accuracy: 0.6810\n",
            "Epoch 8/10\n",
            "207/207 [==============================] - 0s 1ms/step - loss: 0.6258 - accuracy: 0.7479 - val_loss: 1.3900 - val_accuracy: 0.6782\n",
            "Epoch 9/10\n",
            "207/207 [==============================] - 0s 1ms/step - loss: 0.5917 - accuracy: 0.7489 - val_loss: 1.2223 - val_accuracy: 0.6897\n",
            "Epoch 10/10\n",
            "207/207 [==============================] - 0s 1ms/step - loss: 0.5833 - accuracy: 0.7483 - val_loss: 1.2881 - val_accuracy: 0.6925\n",
            "109/109 [==============================] - 0s 785us/step\n",
            "Epoch 1/10\n",
            "207/207 [==============================] - 1s 2ms/step - loss: 3.7946 - accuracy: 0.1138 - val_loss: 3.5188 - val_accuracy: 0.1408\n",
            "Epoch 2/10\n",
            "207/207 [==============================] - 0s 1ms/step - loss: 3.3579 - accuracy: 0.1330 - val_loss: 3.1488 - val_accuracy: 0.1408\n",
            "Epoch 3/10\n",
            "207/207 [==============================] - 0s 1ms/step - loss: 3.0271 - accuracy: 0.1327 - val_loss: 2.8405 - val_accuracy: 0.1408\n",
            "Epoch 4/10\n",
            "207/207 [==============================] - 0s 1ms/step - loss: 2.7303 - accuracy: 0.1312 - val_loss: 2.5609 - val_accuracy: 0.1408\n",
            "Epoch 5/10\n",
            "207/207 [==============================] - 0s 1ms/step - loss: 2.4586 - accuracy: 0.1324 - val_loss: 2.3055 - val_accuracy: 0.1408\n",
            "Epoch 6/10\n",
            "207/207 [==============================] - 0s 1ms/step - loss: 2.2104 - accuracy: 0.7168 - val_loss: 2.0735 - val_accuracy: 0.7213\n",
            "Epoch 7/10\n",
            "207/207 [==============================] - 0s 1ms/step - loss: 1.9916 - accuracy: 0.7338 - val_loss: 1.8807 - val_accuracy: 0.7213\n",
            "Epoch 8/10\n",
            "207/207 [==============================] - 0s 1ms/step - loss: 1.7932 - accuracy: 0.7352 - val_loss: 1.6930 - val_accuracy: 0.7213\n",
            "Epoch 9/10\n",
            "207/207 [==============================] - 0s 1ms/step - loss: 1.6220 - accuracy: 0.7371 - val_loss: 1.5453 - val_accuracy: 0.7213\n",
            "Epoch 10/10\n",
            "207/207 [==============================] - 0s 1ms/step - loss: 1.4790 - accuracy: 0.7371 - val_loss: 1.4040 - val_accuracy: 0.7213\n",
            "109/109 [==============================] - 0s 1ms/step\n",
            "Epoch 1/10\n",
            "207/207 [==============================] - 1s 2ms/step - loss: 3.6736 - accuracy: 0.6311 - val_loss: 3.3640 - val_accuracy: 0.7213\n",
            "Epoch 2/10\n",
            "207/207 [==============================] - 0s 1ms/step - loss: 3.1640 - accuracy: 0.7355 - val_loss: 2.9253 - val_accuracy: 0.7299\n",
            "Epoch 3/10\n",
            "207/207 [==============================] - 0s 1ms/step - loss: 2.7838 - accuracy: 0.7355 - val_loss: 2.5855 - val_accuracy: 0.7213\n",
            "Epoch 4/10\n",
            "207/207 [==============================] - 0s 1ms/step - loss: 2.4582 - accuracy: 0.7353 - val_loss: 2.2860 - val_accuracy: 0.7328\n",
            "Epoch 5/10\n",
            "207/207 [==============================] - 0s 1ms/step - loss: 2.1721 - accuracy: 0.7350 - val_loss: 2.0427 - val_accuracy: 0.7328\n",
            "Epoch 6/10\n",
            "207/207 [==============================] - 0s 1ms/step - loss: 1.9259 - accuracy: 0.7367 - val_loss: 1.8259 - val_accuracy: 0.7241\n",
            "Epoch 7/10\n",
            "207/207 [==============================] - 0s 1ms/step - loss: 1.7179 - accuracy: 0.7376 - val_loss: 1.6433 - val_accuracy: 0.7328\n",
            "Epoch 8/10\n",
            "207/207 [==============================] - 0s 1ms/step - loss: 1.5454 - accuracy: 0.7380 - val_loss: 1.4870 - val_accuracy: 0.7328\n",
            "Epoch 9/10\n",
            "207/207 [==============================] - 0s 1ms/step - loss: 1.4045 - accuracy: 0.7373 - val_loss: 1.3632 - val_accuracy: 0.7328\n",
            "Epoch 10/10\n",
            "207/207 [==============================] - 0s 1ms/step - loss: 1.2892 - accuracy: 0.7370 - val_loss: 1.2674 - val_accuracy: 0.7213\n",
            "109/109 [==============================] - 0s 803us/step\n",
            "Epoch 1/10\n",
            "207/207 [==============================] - 1s 2ms/step - loss: 3.6988 - accuracy: 0.5026 - val_loss: 3.4829 - val_accuracy: 0.6667\n",
            "Epoch 2/10\n",
            "207/207 [==============================] - 0s 1ms/step - loss: 3.2110 - accuracy: 0.7409 - val_loss: 3.0618 - val_accuracy: 0.6695\n",
            "Epoch 3/10\n",
            "207/207 [==============================] - 0s 1ms/step - loss: 2.8378 - accuracy: 0.7412 - val_loss: 2.7479 - val_accuracy: 0.6667\n",
            "Epoch 4/10\n",
            "207/207 [==============================] - 0s 1ms/step - loss: 2.5110 - accuracy: 0.7408 - val_loss: 2.4667 - val_accuracy: 0.6667\n",
            "Epoch 5/10\n",
            "207/207 [==============================] - 0s 1ms/step - loss: 2.2275 - accuracy: 0.7417 - val_loss: 2.2359 - val_accuracy: 0.6667\n",
            "Epoch 6/10\n",
            "207/207 [==============================] - 0s 1ms/step - loss: 1.9777 - accuracy: 0.7417 - val_loss: 2.0141 - val_accuracy: 0.6609\n",
            "Epoch 7/10\n",
            "207/207 [==============================] - 0s 1ms/step - loss: 1.7601 - accuracy: 0.7418 - val_loss: 1.8326 - val_accuracy: 0.6638\n",
            "Epoch 8/10\n",
            "207/207 [==============================] - 0s 1ms/step - loss: 1.5818 - accuracy: 0.7409 - val_loss: 1.6898 - val_accuracy: 0.6667\n",
            "Epoch 9/10\n",
            "207/207 [==============================] - 0s 1ms/step - loss: 1.4349 - accuracy: 0.7423 - val_loss: 1.5680 - val_accuracy: 0.6667\n",
            "Epoch 10/10\n",
            "207/207 [==============================] - 0s 1ms/step - loss: 1.3137 - accuracy: 0.7427 - val_loss: 1.4641 - val_accuracy: 0.6638\n",
            "109/109 [==============================] - 0s 761us/step\n",
            "Epoch 1/10\n",
            "310/310 [==============================] - 1s 1ms/step - loss: 1.5126 - accuracy: 0.6936 - val_loss: 1.0352 - val_accuracy: 0.7165\n",
            "Epoch 2/10\n",
            "310/310 [==============================] - 0s 1ms/step - loss: 0.8636 - accuracy: 0.7399 - val_loss: 0.9257 - val_accuracy: 0.7165\n",
            "Epoch 3/10\n",
            "310/310 [==============================] - 1s 2ms/step - loss: 0.7859 - accuracy: 0.7414 - val_loss: 0.9160 - val_accuracy: 0.7299\n",
            "Epoch 4/10\n",
            "310/310 [==============================] - 0s 1ms/step - loss: 0.7649 - accuracy: 0.7429 - val_loss: 0.8508 - val_accuracy: 0.7241\n",
            "Epoch 5/10\n",
            "310/310 [==============================] - 1s 4ms/step - loss: 0.7286 - accuracy: 0.7444 - val_loss: 0.8943 - val_accuracy: 0.7222\n",
            "Epoch 6/10\n",
            "310/310 [==============================] - 1s 3ms/step - loss: 0.6926 - accuracy: 0.7431 - val_loss: 0.8296 - val_accuracy: 0.7261\n",
            "Epoch 7/10\n",
            "310/310 [==============================] - 0s 1ms/step - loss: 0.6382 - accuracy: 0.7460 - val_loss: 0.8517 - val_accuracy: 0.7299\n",
            "Epoch 8/10\n",
            "310/310 [==============================] - 0s 1ms/step - loss: 0.6836 - accuracy: 0.7466 - val_loss: 0.7781 - val_accuracy: 0.7375\n",
            "Epoch 9/10\n",
            "310/310 [==============================] - 0s 1ms/step - loss: 0.6571 - accuracy: 0.7486 - val_loss: 0.9089 - val_accuracy: 0.7356\n",
            "Epoch 10/10\n",
            "310/310 [==============================] - 0s 1ms/step - loss: 0.6124 - accuracy: 0.7526 - val_loss: 0.8688 - val_accuracy: 0.7414\n"
          ]
        },
        {
          "output_type": "execute_result",
          "data": {
            "text/plain": [
              "RandomizedSearchCV(cv=3,\n",
              "                   estimator=KerasClassifier(learning_rate=<scipy.stats._distn_infrastructure.rv_continuous_frozen object at 0x7b9e702801f0>, model=<function build_model at 0x7b9e70386950>, n_hidden=[0, 1, 2, 3], n_neurons=array([1, 2, 3, 4, 5, 6, 7, 8, 9])),\n",
              "                   n_iter=3,\n",
              "                   param_distributions={'learning_rate': <scipy.stats._distn_infrastructure.rv_continuous_frozen object at 0x7b9e702801f0>,\n",
              "                                        'n_hidden': [0, 1, 2, 3],\n",
              "                                        'n_neurons': array([1, 2, 3, 4, 5, 6, 7, 8, 9])})"
            ],
            "text/html": [
              "<style>#sk-container-id-2 {color: black;background-color: white;}#sk-container-id-2 pre{padding: 0;}#sk-container-id-2 div.sk-toggleable {background-color: white;}#sk-container-id-2 label.sk-toggleable__label {cursor: pointer;display: block;width: 100%;margin-bottom: 0;padding: 0.3em;box-sizing: border-box;text-align: center;}#sk-container-id-2 label.sk-toggleable__label-arrow:before {content: \"▸\";float: left;margin-right: 0.25em;color: #696969;}#sk-container-id-2 label.sk-toggleable__label-arrow:hover:before {color: black;}#sk-container-id-2 div.sk-estimator:hover label.sk-toggleable__label-arrow:before {color: black;}#sk-container-id-2 div.sk-toggleable__content {max-height: 0;max-width: 0;overflow: hidden;text-align: left;background-color: #f0f8ff;}#sk-container-id-2 div.sk-toggleable__content pre {margin: 0.2em;color: black;border-radius: 0.25em;background-color: #f0f8ff;}#sk-container-id-2 input.sk-toggleable__control:checked~div.sk-toggleable__content {max-height: 200px;max-width: 100%;overflow: auto;}#sk-container-id-2 input.sk-toggleable__control:checked~label.sk-toggleable__label-arrow:before {content: \"▾\";}#sk-container-id-2 div.sk-estimator input.sk-toggleable__control:checked~label.sk-toggleable__label {background-color: #d4ebff;}#sk-container-id-2 div.sk-label input.sk-toggleable__control:checked~label.sk-toggleable__label {background-color: #d4ebff;}#sk-container-id-2 input.sk-hidden--visually {border: 0;clip: rect(1px 1px 1px 1px);clip: rect(1px, 1px, 1px, 1px);height: 1px;margin: -1px;overflow: hidden;padding: 0;position: absolute;width: 1px;}#sk-container-id-2 div.sk-estimator {font-family: monospace;background-color: #f0f8ff;border: 1px dotted black;border-radius: 0.25em;box-sizing: border-box;margin-bottom: 0.5em;}#sk-container-id-2 div.sk-estimator:hover {background-color: #d4ebff;}#sk-container-id-2 div.sk-parallel-item::after {content: \"\";width: 100%;border-bottom: 1px solid gray;flex-grow: 1;}#sk-container-id-2 div.sk-label:hover label.sk-toggleable__label {background-color: #d4ebff;}#sk-container-id-2 div.sk-serial::before {content: \"\";position: absolute;border-left: 1px solid gray;box-sizing: border-box;top: 0;bottom: 0;left: 50%;z-index: 0;}#sk-container-id-2 div.sk-serial {display: flex;flex-direction: column;align-items: center;background-color: white;padding-right: 0.2em;padding-left: 0.2em;position: relative;}#sk-container-id-2 div.sk-item {position: relative;z-index: 1;}#sk-container-id-2 div.sk-parallel {display: flex;align-items: stretch;justify-content: center;background-color: white;position: relative;}#sk-container-id-2 div.sk-item::before, #sk-container-id-2 div.sk-parallel-item::before {content: \"\";position: absolute;border-left: 1px solid gray;box-sizing: border-box;top: 0;bottom: 0;left: 50%;z-index: -1;}#sk-container-id-2 div.sk-parallel-item {display: flex;flex-direction: column;z-index: 1;position: relative;background-color: white;}#sk-container-id-2 div.sk-parallel-item:first-child::after {align-self: flex-end;width: 50%;}#sk-container-id-2 div.sk-parallel-item:last-child::after {align-self: flex-start;width: 50%;}#sk-container-id-2 div.sk-parallel-item:only-child::after {width: 0;}#sk-container-id-2 div.sk-dashed-wrapped {border: 1px dashed gray;margin: 0 0.4em 0.5em 0.4em;box-sizing: border-box;padding-bottom: 0.4em;background-color: white;}#sk-container-id-2 div.sk-label label {font-family: monospace;font-weight: bold;display: inline-block;line-height: 1.2em;}#sk-container-id-2 div.sk-label-container {text-align: center;}#sk-container-id-2 div.sk-container {/* jupyter's `normalize.less` sets `[hidden] { display: none; }` but bootstrap.min.css set `[hidden] { display: none !important; }` so we also need the `!important` here to be able to override the default hidden behavior on the sphinx rendered scikit-learn.org. See: https://github.com/scikit-learn/scikit-learn/issues/21755 */display: inline-block !important;position: relative;}#sk-container-id-2 div.sk-text-repr-fallback {display: none;}</style><div id=\"sk-container-id-2\" class=\"sk-top-container\"><div class=\"sk-text-repr-fallback\"><pre>RandomizedSearchCV(cv=3,\n",
              "                   estimator=KerasClassifier(learning_rate=&lt;scipy.stats._distn_infrastructure.rv_continuous_frozen object at 0x7b9e702801f0&gt;, model=&lt;function build_model at 0x7b9e70386950&gt;, n_hidden=[0, 1, 2, 3], n_neurons=array([1, 2, 3, 4, 5, 6, 7, 8, 9])),\n",
              "                   n_iter=3,\n",
              "                   param_distributions={&#x27;learning_rate&#x27;: &lt;scipy.stats._distn_infrastructure.rv_continuous_frozen object at 0x7b9e702801f0&gt;,\n",
              "                                        &#x27;n_hidden&#x27;: [0, 1, 2, 3],\n",
              "                                        &#x27;n_neurons&#x27;: array([1, 2, 3, 4, 5, 6, 7, 8, 9])})</pre><b>In a Jupyter environment, please rerun this cell to show the HTML representation or trust the notebook. <br />On GitHub, the HTML representation is unable to render, please try loading this page with nbviewer.org.</b></div><div class=\"sk-container\" hidden><div class=\"sk-item sk-dashed-wrapped\"><div class=\"sk-label-container\"><div class=\"sk-label sk-toggleable\"><input class=\"sk-toggleable__control sk-hidden--visually\" id=\"sk-estimator-id-2\" type=\"checkbox\" ><label for=\"sk-estimator-id-2\" class=\"sk-toggleable__label sk-toggleable__label-arrow\">RandomizedSearchCV</label><div class=\"sk-toggleable__content\"><pre>RandomizedSearchCV(cv=3,\n",
              "                   estimator=KerasClassifier(learning_rate=&lt;scipy.stats._distn_infrastructure.rv_continuous_frozen object at 0x7b9e702801f0&gt;, model=&lt;function build_model at 0x7b9e70386950&gt;, n_hidden=[0, 1, 2, 3], n_neurons=array([1, 2, 3, 4, 5, 6, 7, 8, 9])),\n",
              "                   n_iter=3,\n",
              "                   param_distributions={&#x27;learning_rate&#x27;: &lt;scipy.stats._distn_infrastructure.rv_continuous_frozen object at 0x7b9e702801f0&gt;,\n",
              "                                        &#x27;n_hidden&#x27;: [0, 1, 2, 3],\n",
              "                                        &#x27;n_neurons&#x27;: array([1, 2, 3, 4, 5, 6, 7, 8, 9])})</pre></div></div></div><div class=\"sk-parallel\"><div class=\"sk-parallel-item\"><div class=\"sk-item\"><div class=\"sk-label-container\"><div class=\"sk-label sk-toggleable\"><input class=\"sk-toggleable__control sk-hidden--visually\" id=\"sk-estimator-id-3\" type=\"checkbox\" ><label for=\"sk-estimator-id-3\" class=\"sk-toggleable__label sk-toggleable__label-arrow\">estimator: KerasClassifier</label><div class=\"sk-toggleable__content\"><pre>KerasClassifier(\n",
              "\tmodel=&lt;function build_model at 0x7b9e70386950&gt;\n",
              "\tbuild_fn=None\n",
              "\twarm_start=False\n",
              "\trandom_state=None\n",
              "\toptimizer=rmsprop\n",
              "\tloss=None\n",
              "\tmetrics=None\n",
              "\tbatch_size=None\n",
              "\tvalidation_batch_size=None\n",
              "\tverbose=1\n",
              "\tcallbacks=None\n",
              "\tvalidation_split=0.0\n",
              "\tshuffle=True\n",
              "\trun_eagerly=False\n",
              "\tepochs=1\n",
              "\tn_hidden=[0, 1, 2, 3]\n",
              "\tn_neurons=[1 2 3 4 5 6 7 8 9]\n",
              "\tlearning_rate=&lt;scipy.stats._distn_infrastructure.rv_continuous_frozen object at 0x7b9e702801f0&gt;\n",
              "\tclass_weight=None\n",
              ")</pre></div></div></div><div class=\"sk-serial\"><div class=\"sk-item\"><div class=\"sk-estimator sk-toggleable\"><input class=\"sk-toggleable__control sk-hidden--visually\" id=\"sk-estimator-id-4\" type=\"checkbox\" ><label for=\"sk-estimator-id-4\" class=\"sk-toggleable__label sk-toggleable__label-arrow\">KerasClassifier</label><div class=\"sk-toggleable__content\"><pre>KerasClassifier(\n",
              "\tmodel=&lt;function build_model at 0x7b9e70386950&gt;\n",
              "\tbuild_fn=None\n",
              "\twarm_start=False\n",
              "\trandom_state=None\n",
              "\toptimizer=rmsprop\n",
              "\tloss=None\n",
              "\tmetrics=None\n",
              "\tbatch_size=None\n",
              "\tvalidation_batch_size=None\n",
              "\tverbose=1\n",
              "\tcallbacks=None\n",
              "\tvalidation_split=0.0\n",
              "\tshuffle=True\n",
              "\trun_eagerly=False\n",
              "\tepochs=1\n",
              "\tn_hidden=[0, 1, 2, 3]\n",
              "\tn_neurons=[1 2 3 4 5 6 7 8 9]\n",
              "\tlearning_rate=&lt;scipy.stats._distn_infrastructure.rv_continuous_frozen object at 0x7b9e702801f0&gt;\n",
              "\tclass_weight=None\n",
              ")</pre></div></div></div></div></div></div></div></div></div></div>"
            ]
          },
          "metadata": {},
          "execution_count": 24
        }
      ]
    },
    {
      "cell_type": "code",
      "source": [
        "rnd_search_cv.best_params_"
      ],
      "metadata": {
        "id": "xvDfQ-BFkdRC",
        "colab": {
          "base_uri": "https://localhost:8080/"
        },
        "outputId": "1ca1074e-a66d-4bb7-92cf-0b1ad3e6737c"
      },
      "execution_count": null,
      "outputs": [
        {
          "output_type": "execute_result",
          "data": {
            "text/plain": [
              "{'learning_rate': 0.00783235216695384, 'n_hidden': 0, 'n_neurons': 9}"
            ]
          },
          "metadata": {},
          "execution_count": 25
        }
      ]
    },
    {
      "cell_type": "code",
      "source": [
        "rnd_search_cv.best_score_"
      ],
      "metadata": {
        "id": "qK0IhrkFkdRD",
        "colab": {
          "base_uri": "https://localhost:8080/"
        },
        "outputId": "19809351-5da6-4df8-93a9-c7939f1df289"
      },
      "execution_count": null,
      "outputs": [
        {
          "output_type": "execute_result",
          "data": {
            "text/plain": [
              "0.7418921512185762"
            ]
          },
          "metadata": {},
          "execution_count": 26
        }
      ]
    },
    {
      "cell_type": "code",
      "source": [
        "rnd_search_cv.best_estimator_"
      ],
      "metadata": {
        "id": "S8fff-PMkdRE",
        "colab": {
          "base_uri": "https://localhost:8080/",
          "height": 251
        },
        "outputId": "59fcb737-3f0d-4abf-fe2b-ac7d7160294b"
      },
      "execution_count": null,
      "outputs": [
        {
          "output_type": "execute_result",
          "data": {
            "text/plain": [
              "KerasClassifier(\n",
              "\tmodel=<function build_model at 0x7b9e70386950>\n",
              "\tbuild_fn=None\n",
              "\twarm_start=False\n",
              "\trandom_state=None\n",
              "\toptimizer=rmsprop\n",
              "\tloss=None\n",
              "\tmetrics=None\n",
              "\tbatch_size=None\n",
              "\tvalidation_batch_size=None\n",
              "\tverbose=1\n",
              "\tcallbacks=None\n",
              "\tvalidation_split=0.0\n",
              "\tshuffle=True\n",
              "\trun_eagerly=False\n",
              "\tepochs=1\n",
              "\tn_hidden=0\n",
              "\tn_neurons=9\n",
              "\tlearning_rate=0.00783235216695384\n",
              "\tclass_weight=None\n",
              ")"
            ],
            "text/html": [
              "<style>#sk-container-id-3 {color: black;background-color: white;}#sk-container-id-3 pre{padding: 0;}#sk-container-id-3 div.sk-toggleable {background-color: white;}#sk-container-id-3 label.sk-toggleable__label {cursor: pointer;display: block;width: 100%;margin-bottom: 0;padding: 0.3em;box-sizing: border-box;text-align: center;}#sk-container-id-3 label.sk-toggleable__label-arrow:before {content: \"▸\";float: left;margin-right: 0.25em;color: #696969;}#sk-container-id-3 label.sk-toggleable__label-arrow:hover:before {color: black;}#sk-container-id-3 div.sk-estimator:hover label.sk-toggleable__label-arrow:before {color: black;}#sk-container-id-3 div.sk-toggleable__content {max-height: 0;max-width: 0;overflow: hidden;text-align: left;background-color: #f0f8ff;}#sk-container-id-3 div.sk-toggleable__content pre {margin: 0.2em;color: black;border-radius: 0.25em;background-color: #f0f8ff;}#sk-container-id-3 input.sk-toggleable__control:checked~div.sk-toggleable__content {max-height: 200px;max-width: 100%;overflow: auto;}#sk-container-id-3 input.sk-toggleable__control:checked~label.sk-toggleable__label-arrow:before {content: \"▾\";}#sk-container-id-3 div.sk-estimator input.sk-toggleable__control:checked~label.sk-toggleable__label {background-color: #d4ebff;}#sk-container-id-3 div.sk-label input.sk-toggleable__control:checked~label.sk-toggleable__label {background-color: #d4ebff;}#sk-container-id-3 input.sk-hidden--visually {border: 0;clip: rect(1px 1px 1px 1px);clip: rect(1px, 1px, 1px, 1px);height: 1px;margin: -1px;overflow: hidden;padding: 0;position: absolute;width: 1px;}#sk-container-id-3 div.sk-estimator {font-family: monospace;background-color: #f0f8ff;border: 1px dotted black;border-radius: 0.25em;box-sizing: border-box;margin-bottom: 0.5em;}#sk-container-id-3 div.sk-estimator:hover {background-color: #d4ebff;}#sk-container-id-3 div.sk-parallel-item::after {content: \"\";width: 100%;border-bottom: 1px solid gray;flex-grow: 1;}#sk-container-id-3 div.sk-label:hover label.sk-toggleable__label {background-color: #d4ebff;}#sk-container-id-3 div.sk-serial::before {content: \"\";position: absolute;border-left: 1px solid gray;box-sizing: border-box;top: 0;bottom: 0;left: 50%;z-index: 0;}#sk-container-id-3 div.sk-serial {display: flex;flex-direction: column;align-items: center;background-color: white;padding-right: 0.2em;padding-left: 0.2em;position: relative;}#sk-container-id-3 div.sk-item {position: relative;z-index: 1;}#sk-container-id-3 div.sk-parallel {display: flex;align-items: stretch;justify-content: center;background-color: white;position: relative;}#sk-container-id-3 div.sk-item::before, #sk-container-id-3 div.sk-parallel-item::before {content: \"\";position: absolute;border-left: 1px solid gray;box-sizing: border-box;top: 0;bottom: 0;left: 50%;z-index: -1;}#sk-container-id-3 div.sk-parallel-item {display: flex;flex-direction: column;z-index: 1;position: relative;background-color: white;}#sk-container-id-3 div.sk-parallel-item:first-child::after {align-self: flex-end;width: 50%;}#sk-container-id-3 div.sk-parallel-item:last-child::after {align-self: flex-start;width: 50%;}#sk-container-id-3 div.sk-parallel-item:only-child::after {width: 0;}#sk-container-id-3 div.sk-dashed-wrapped {border: 1px dashed gray;margin: 0 0.4em 0.5em 0.4em;box-sizing: border-box;padding-bottom: 0.4em;background-color: white;}#sk-container-id-3 div.sk-label label {font-family: monospace;font-weight: bold;display: inline-block;line-height: 1.2em;}#sk-container-id-3 div.sk-label-container {text-align: center;}#sk-container-id-3 div.sk-container {/* jupyter's `normalize.less` sets `[hidden] { display: none; }` but bootstrap.min.css set `[hidden] { display: none !important; }` so we also need the `!important` here to be able to override the default hidden behavior on the sphinx rendered scikit-learn.org. See: https://github.com/scikit-learn/scikit-learn/issues/21755 */display: inline-block !important;position: relative;}#sk-container-id-3 div.sk-text-repr-fallback {display: none;}</style><div id=\"sk-container-id-3\" class=\"sk-top-container\"><div class=\"sk-text-repr-fallback\"><pre>KerasClassifier(\n",
              "\tmodel=&lt;function build_model at 0x7b9e70386950&gt;\n",
              "\tbuild_fn=None\n",
              "\twarm_start=False\n",
              "\trandom_state=None\n",
              "\toptimizer=rmsprop\n",
              "\tloss=None\n",
              "\tmetrics=None\n",
              "\tbatch_size=None\n",
              "\tvalidation_batch_size=None\n",
              "\tverbose=1\n",
              "\tcallbacks=None\n",
              "\tvalidation_split=0.0\n",
              "\tshuffle=True\n",
              "\trun_eagerly=False\n",
              "\tepochs=1\n",
              "\tn_hidden=0\n",
              "\tn_neurons=9\n",
              "\tlearning_rate=0.00783235216695384\n",
              "\tclass_weight=None\n",
              ")</pre><b>In a Jupyter environment, please rerun this cell to show the HTML representation or trust the notebook. <br />On GitHub, the HTML representation is unable to render, please try loading this page with nbviewer.org.</b></div><div class=\"sk-container\" hidden><div class=\"sk-item\"><div class=\"sk-estimator sk-toggleable\"><input class=\"sk-toggleable__control sk-hidden--visually\" id=\"sk-estimator-id-5\" type=\"checkbox\" checked><label for=\"sk-estimator-id-5\" class=\"sk-toggleable__label sk-toggleable__label-arrow\">KerasClassifier</label><div class=\"sk-toggleable__content\"><pre>KerasClassifier(\n",
              "\tmodel=&lt;function build_model at 0x7b9e70386950&gt;\n",
              "\tbuild_fn=None\n",
              "\twarm_start=False\n",
              "\trandom_state=None\n",
              "\toptimizer=rmsprop\n",
              "\tloss=None\n",
              "\tmetrics=None\n",
              "\tbatch_size=None\n",
              "\tvalidation_batch_size=None\n",
              "\tverbose=1\n",
              "\tcallbacks=None\n",
              "\tvalidation_split=0.0\n",
              "\tshuffle=True\n",
              "\trun_eagerly=False\n",
              "\tepochs=1\n",
              "\tn_hidden=0\n",
              "\tn_neurons=9\n",
              "\tlearning_rate=0.00783235216695384\n",
              "\tclass_weight=None\n",
              ")</pre></div></div></div></div></div>"
            ]
          },
          "metadata": {},
          "execution_count": 27
        }
      ]
    },
    {
      "cell_type": "code",
      "source": [
        "def build_model(n_hidden=0, n_neurons=4, learning_rate=0.00783235216695384, input_shape=X_train1.shape[1]):\n",
        "  model = Sequential()\n",
        "  model.add(InputLayer(input_shape=input_shape))\n",
        "  for layer in range(n_hidden):\n",
        "    model.add(Dense(n_neurons, activation=\"relu\"))\n",
        "  model.add(Dense(51, activation='sigmoid'))\n",
        "  optimizer = tf.keras.optimizers.Adam(learning_rate=learning_rate)\n",
        "  model.compile(loss='sparse_categorical_crossentropy', optimizer=optimizer,metrics = ['accuracy'])\n",
        "  return model\n",
        "annOpt1 = build_model()"
      ],
      "metadata": {
        "id": "8PvBGW61kdRF"
      },
      "execution_count": null,
      "outputs": []
    },
    {
      "cell_type": "markdown",
      "metadata": {
        "id": "ETmZuYmtipkD"
      },
      "source": [
        "##Evaluación"
      ]
    },
    {
      "cell_type": "markdown",
      "source": [
        "* Preprocesado original"
      ],
      "metadata": {
        "id": "a_dUPHoDUQCn"
      }
    },
    {
      "cell_type": "code",
      "source": [
        "accuracy = accuracy_score(y_test, y_pred)\n",
        "confusion = confusion_matrix(y_test, y_pred)\n",
        "precision = precision_score(y_test, y_pred, average='macro')\n",
        "recall = recall_score(y_test, y_pred, average='macro')\n",
        "f1 = f1_score(y_test, y_pred, average='macro')\n",
        "r2 = r2_score(y_test, y_pred)\n",
        "mse = mean_squared_error(y_test, y_pred)\n",
        "print(f'Accuracy: {accuracy}')\n",
        "print(f'Matriz de Confusión:\\n{confusion}')\n",
        "print(f'Precisión: {precision}')\n",
        "print(f'Recall: {recall}')\n",
        "print(f'Puntuación F1 (F1-Score): {f1}')\n",
        "print(f'R-cuadrado: {r2}')\n",
        "print(f'Error Cuadrático Medio (MSE): {mse}')"
      ],
      "metadata": {
        "id": "ZYLu445RLj9W"
      },
      "execution_count": null,
      "outputs": []
    },
    {
      "cell_type": "code",
      "execution_count": null,
      "metadata": {
        "id": "NkyOUOW2MAz1"
      },
      "outputs": [],
      "source": [
        "%matplotlib inline\n",
        "pd.DataFrame(history.history).plot(figsize=(8, 5))\n",
        "plt.grid(True)\n",
        "plt.gca().set_ylim(0.0, 2)\n",
        "plt.show()"
      ]
    },
    {
      "cell_type": "code",
      "source": [
        "annOpt.fit(X_train, y_train, batch_size = 32, epochs = 10, verbose = 0)"
      ],
      "metadata": {
        "id": "VUsVx0h6bUsS"
      },
      "execution_count": null,
      "outputs": []
    },
    {
      "cell_type": "code",
      "source": [
        "y_pred = np.array([np.argmax(a) for a in annOpt.predict(X_test)])\n",
        "accuracy = accuracy_score(y_test, y_pred)\n",
        "confusion = confusion_matrix(y_test, y_pred)\n",
        "precision = precision_score(y_test, y_pred, average='macro')\n",
        "recall = recall_score(y_test, y_pred, average='macro')\n",
        "f1 = f1_score(y_test, y_pred, average='macro')\n",
        "r2 = r2_score(y_test, y_pred)\n",
        "mse = mean_squared_error(y_test, y_pred)\n",
        "print(f'Accuracy: {accuracy}')\n",
        "print(f'Matriz de Confusión:\\n{confusion}')\n",
        "print(f'Precisión: {precision}')\n",
        "print(f'Recall: {recall}')\n",
        "print(f'Puntuación F1 (F1-Score): {f1}')\n",
        "print(f'R-cuadrado: {r2}')\n",
        "print(f'Error Cuadrático Medio (MSE): {mse}')"
      ],
      "metadata": {
        "id": "1zj5LcvYbBIy"
      },
      "execution_count": null,
      "outputs": []
    },
    {
      "cell_type": "markdown",
      "source": [
        "* Corpus 1"
      ],
      "metadata": {
        "id": "2uXj6qCpUTBZ"
      }
    },
    {
      "cell_type": "code",
      "source": [
        "accuracy = accuracy_score(y_test1, y_pred1)\n",
        "confusion = confusion_matrix(y_test1, y_pred1)\n",
        "precision = precision_score(y_test1, y_pred1, average='macro')\n",
        "recall = recall_score(y_test1, y_pred1, average='macro')\n",
        "f1 = f1_score(y_test1, y_pred1, average='macro')\n",
        "r2 = r2_score(y_test1, y_pred1)\n",
        "mse = mean_squared_error(y_test1, y_pred1)\n",
        "print(f'Accuracy: {accuracy}')\n",
        "print(f'Matriz de Confusión:\\n{confusion}')\n",
        "print(f'Precisión: {precision}')\n",
        "print(f'Recall: {recall}')\n",
        "print(f'Puntuación F1 (F1-Score): {f1}')\n",
        "print(f'R-cuadrado: {r2}')\n",
        "print(f'Error Cuadrático Medio (MSE): {mse}')"
      ],
      "metadata": {
        "id": "GIWt-KHDUd1u",
        "colab": {
          "base_uri": "https://localhost:8080/"
        },
        "outputId": "2e73f310-5cac-48bc-fb5c-d25daacb805d"
      },
      "execution_count": null,
      "outputs": [
        {
          "output_type": "stream",
          "name": "stdout",
          "text": [
            "Accuracy: 0.9976976208749041\n",
            "Matriz de Confusión:\n",
            "[[1907    0    0 ...    0    0    0]\n",
            " [   0    6    0 ...    0    0    0]\n",
            " [   0    0    0 ...    0    0    0]\n",
            " ...\n",
            " [   0    0    0 ...    7    0    0]\n",
            " [   0    0    0 ...    0    5    0]\n",
            " [   0    0    0 ...    0    0   11]]\n",
            "Precisión: 0.9336812103986419\n",
            "Recall: 0.9230501987201468\n",
            "Puntuación F1 (F1-Score): 0.9264145823627177\n",
            "R-cuadrado: 0.9946994589017182\n",
            "Error Cuadrático Medio (MSE): 0.9604758250191865\n"
          ]
        },
        {
          "output_type": "stream",
          "name": "stderr",
          "text": [
            "/usr/local/lib/python3.10/dist-packages/sklearn/metrics/_classification.py:1344: UndefinedMetricWarning: Precision is ill-defined and being set to 0.0 in labels with no predicted samples. Use `zero_division` parameter to control this behavior.\n",
            "  _warn_prf(average, modifier, msg_start, len(result))\n",
            "/usr/local/lib/python3.10/dist-packages/sklearn/metrics/_classification.py:1344: UndefinedMetricWarning: Recall is ill-defined and being set to 0.0 in labels with no true samples. Use `zero_division` parameter to control this behavior.\n",
            "  _warn_prf(average, modifier, msg_start, len(result))\n"
          ]
        }
      ]
    },
    {
      "cell_type": "code",
      "execution_count": null,
      "metadata": {
        "id": "QPAJnzQkUd1v"
      },
      "outputs": [],
      "source": [
        "%matplotlib inline\n",
        "pd.DataFrame(history1.history).plot(figsize=(8, 5))\n",
        "plt.grid(True)\n",
        "plt.gca().set_ylim(0.0, 2)\n",
        "plt.show()"
      ]
    },
    {
      "cell_type": "code",
      "source": [
        "annOpt1.fit(X_train1, y_train1, batch_size = 32, epochs = 10, verbose = 0)"
      ],
      "metadata": {
        "id": "6H3MnkA6mgG0",
        "colab": {
          "base_uri": "https://localhost:8080/"
        },
        "outputId": "274fd922-f3cb-4c97-e871-1c701f10f55c"
      },
      "execution_count": null,
      "outputs": [
        {
          "output_type": "execute_result",
          "data": {
            "text/plain": [
              "<keras.src.callbacks.History at 0x7b9e577f8f40>"
            ]
          },
          "metadata": {},
          "execution_count": 31
        }
      ]
    },
    {
      "cell_type": "code",
      "source": [
        "y_pred1 = np.array([np.argmax(a) for a in annOpt1.predict(X_test1)])\n",
        "accuracy = accuracy_score(y_test1, y_pred1)\n",
        "confusion = confusion_matrix(y_test1, y_pred1)\n",
        "precision = precision_score(y_test1, y_pred1, average='macro')\n",
        "recall = recall_score(y_test1, y_pred1, average='macro')\n",
        "f1 = f1_score(y_test1, y_pred1, average='macro')\n",
        "r2 = r2_score(y_test1, y_pred1)\n",
        "mse = mean_squared_error(y_test1, y_pred1)\n",
        "print(f'Accuracy: {accuracy}')\n",
        "print(f'Matriz de Confusión:\\n{confusion}')\n",
        "print(f'Precisión: {precision}')\n",
        "print(f'Recall: {recall}')\n",
        "print(f'Puntuación F1 (F1-Score): {f1}')\n",
        "print(f'R-cuadrado: {r2}')\n",
        "print(f'Error Cuadrático Medio (MSE): {mse}')"
      ],
      "metadata": {
        "id": "iqUnTB3fmgG2",
        "colab": {
          "base_uri": "https://localhost:8080/"
        },
        "outputId": "a8940236-ec17-46be-b43e-92c0e9811a21"
      },
      "execution_count": null,
      "outputs": [
        {
          "output_type": "stream",
          "name": "stdout",
          "text": [
            "82/82 [==============================] - 0s 801us/step\n",
            "Accuracy: 0.7586339217191097\n",
            "Matriz de Confusión:\n",
            "[[1908    0    0 ...    0    0    0]\n",
            " [   0    0    0 ...    0    0    0]\n",
            " [   0    0    6 ...    0    0    0]\n",
            " ...\n",
            " [   0    0    7 ...    0    0    0]\n",
            " [   0    0    5 ...    0    0    0]\n",
            " [   0    0    0 ...    0    0    0]]\n",
            "Precisión: 0.08097048799663178\n",
            "Recall: 0.12268453677767403\n",
            "Puntuación F1 (F1-Score): 0.08643822603405321\n",
            "R-cuadrado: 0.21399095593892203\n",
            "Error Cuadrático Medio (MSE): 142.4274750575595\n"
          ]
        },
        {
          "output_type": "stream",
          "name": "stderr",
          "text": [
            "/usr/local/lib/python3.10/dist-packages/sklearn/metrics/_classification.py:1344: UndefinedMetricWarning: Precision is ill-defined and being set to 0.0 in labels with no predicted samples. Use `zero_division` parameter to control this behavior.\n",
            "  _warn_prf(average, modifier, msg_start, len(result))\n",
            "/usr/local/lib/python3.10/dist-packages/sklearn/metrics/_classification.py:1344: UndefinedMetricWarning: Recall is ill-defined and being set to 0.0 in labels with no true samples. Use `zero_division` parameter to control this behavior.\n",
            "  _warn_prf(average, modifier, msg_start, len(result))\n"
          ]
        }
      ]
    }
  ],
  "metadata": {
    "colab": {
      "collapsed_sections": [
        "i9w25L7gpJQ3",
        "ZQj36wjvnE0t",
        "wJGs67PWpN1V",
        "vX0DauAInCba",
        "fNiDxjJGpQej",
        "Uscn1PFfpVxD",
        "RwFjvStQkjMc",
        "GovAQv_IkjMh"
      ],
      "provenance": []
    },
    "kernelspec": {
      "display_name": "Python 3",
      "name": "python3"
    },
    "language_info": {
      "name": "python"
    }
  },
  "nbformat": 4,
  "nbformat_minor": 0
}